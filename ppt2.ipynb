{
 "cells": [
  {
   "cell_type": "code",
   "execution_count": null,
   "id": "24669b15-959a-47a4-bbc6-c9f07fd668e0",
   "metadata": {},
   "outputs": [],
   "source": [
    "# !pip install reportlab"
   ]
  },
  {
   "cell_type": "code",
   "execution_count": 3,
   "id": "20e1bd6d-6c32-45e1-b8ce-2db2e47e509f",
   "metadata": {},
   "outputs": [
    {
     "name": "stdout",
     "output_type": "stream",
     "text": [
      "  Pattern_Name  Hole_id  Drillhole_X  Drillhole_Y  Drillhole_Z  \\\n",
      "0   C1_340_102        1    429273.80   5266303.10       352.69   \n",
      "1   C1_340_102        2    429278.40   5266305.26       352.26   \n",
      "2   C1_340_102        3    429282.98   5266307.93       352.29   \n",
      "3   C1_340_102        4    429287.55   5266310.60       352.25   \n",
      "4   C1_340_102        5    429292.13   5266313.28       352.27   \n",
      "\n",
      "   Drillhole_ToeX  Drillhole_ToeY  Drillhole_ToeZ  Drillhole_Length  \\\n",
      "0       429273.80      5266303.10           338.8             13.89   \n",
      "1       429278.40      5266305.26           338.8             13.46   \n",
      "2       429282.98      5266307.93           338.8             13.49   \n",
      "3       429287.55      5266310.60           338.8             13.45   \n",
      "4       429292.13      5266313.28           338.8             13.47   \n",
      "\n",
      "   Drillhole_Dip  Drillhole_Azimuth  Avg_Displacement  Max_Displacement  \\\n",
      "0            -90                  0            2.5774            5.1548   \n",
      "1            -90                  0            2.5774            5.1548   \n",
      "2            -90                  0            2.5774            5.1548   \n",
      "3            -90                  0            2.5774            5.1548   \n",
      "4            -90                  0            2.5774            5.1548   \n",
      "\n",
      "   Centroid_Shift  Earliest_Pixel_Disp  PPV  Overpressure  Total_Displacement  \\\n",
      "0        0.361518             0.361518   10           120           13.285984   \n",
      "1        0.361518             0.361518   10           120           13.285984   \n",
      "2        0.361518             0.361518   10           120           13.285984   \n",
      "3        0.361518             0.361518   10           120           13.285984   \n",
      "4        0.361518             0.361518   10           120           13.285984   \n",
      "\n",
      "  Blast_Rating  \n",
      "0            C  \n",
      "1            C  \n",
      "2            C  \n",
      "3            C  \n",
      "4            C  \n"
     ]
    },
    {
     "data": {
      "application/vnd.plotly.v1+json": {
       "config": {
        "plotlyServerURL": "https://plot.ly"
       },
       "data": [
        {
         "hovertemplate": "Blast Rating=C<br>X Coordinate=%{x}<br>Y Coordinate=%{y}<br>Z Coordinate=%{z}<extra></extra>",
         "legendgroup": "C",
         "marker": {
          "color": "#636efa",
          "size": 12,
          "symbol": "circle"
         },
         "mode": "markers",
         "name": "C",
         "scene": "scene",
         "showlegend": true,
         "type": "scatter3d",
         "x": [
          429273.8,
          429278.4,
          429282.98,
          429287.55,
          429292.13,
          429296.71,
          429301.28,
          429273.79,
          429278.37,
          429282.95,
          429287.52,
          429292.1,
          429296.67,
          429269.18,
          429273.76,
          429278.34,
          429282.96,
          429287.4,
          429292.07,
          429296.64,
          429269.15,
          429273.73,
          429278.3,
          429282.35,
          429287.46,
          429292.03,
          429265.22,
          429269.12,
          429273.7,
          429278.27,
          429282.85,
          429287.42,
          429292,
          429264.51,
          429269.09,
          429273.66,
          429278.24,
          429282.82,
          429287.39,
          429259.9,
          429264.48,
          429269.06,
          429273.63,
          429278.21,
          429282.78,
          429287.36,
          429259.87,
          429264.45,
          429269.02,
          429273.6,
          429278.18,
          429282.75,
          429256.01,
          429259.84,
          429264.41,
          429268.99,
          429273.57,
          429278.14,
          429282.72,
          429255.23,
          429259.81,
          429264.38,
          429268.96,
          429274.1,
          429278.07,
          429250.62,
          429255.2,
          429259.77,
          429264.35,
          429268.93,
          429274.05,
          429278.08,
          429250.59,
          429255.16,
          429259.74,
          429264.32,
          429268.89,
          429273.47,
          429246.57,
          429250.56,
          429255.13,
          429259.71,
          429264.28,
          429268.86,
          429273.44,
          429245.95,
          429250.52,
          429255.1,
          429259.68,
          429264.25,
          429268.83,
          429241.34,
          429245.92,
          429250.49,
          429255.07,
          429259.64,
          429264.22,
          429268.8,
          429241.31,
          429245.57,
          429250.46,
          429255.04,
          429259.61,
          429264.19,
          429237.18,
          429241.27,
          429245.85,
          429250.43,
          429255,
          429259.58,
          429264.41
         ],
         "y": [
          5266303.1,
          5266305.26,
          5266307.93,
          5266310.6,
          5266313.28,
          5266315.95,
          5266318.62,
          5266307.89,
          5266310.56,
          5266313.24,
          5266315.91,
          5266318.58,
          5266321.26,
          5266310.53,
          5266313.2,
          5266315.87,
          5266318.73,
          5266321.27,
          5266323.89,
          5266326.57,
          5266315.83,
          5266318.51,
          5266321.18,
          5266324.86,
          5266326.53,
          5266329.2,
          5266318.63,
          5266321.14,
          5266323.82,
          5266326.49,
          5266329.16,
          5266331.84,
          5266334.51,
          5266323.78,
          5266326.45,
          5266329.12,
          5266331.8,
          5266334.47,
          5266337.15,
          5266326.41,
          5266329.09,
          5266331.76,
          5266334.43,
          5266337.11,
          5266339.78,
          5266342.45,
          5266331.72,
          5266334.39,
          5266337.07,
          5266339.74,
          5266342.42,
          5266345.09,
          5266333.57,
          5266337.03,
          5266339.7,
          5266342.38,
          5266345.05,
          5266347.72,
          5266350.4,
          5266339.66,
          5266342.34,
          5266345.01,
          5266347.69,
          5266350.34,
          5266354.15,
          5266342.3,
          5266344.97,
          5266347.65,
          5266350.32,
          5266352.99,
          5266354.96,
          5266358.34,
          5266347.61,
          5266350.28,
          5266352.96,
          5266355.63,
          5266358.3,
          5266360.98,
          5266350.19,
          5266352.92,
          5266355.59,
          5266358.26,
          5266360.94,
          5266363.61,
          5266366.29,
          5266355.55,
          5266358.23,
          5266360.9,
          5266363.57,
          5266366.25,
          5266368.92,
          5266358.19,
          5266360.86,
          5266363.53,
          5266366.21,
          5266368.88,
          5266371.56,
          5266374.23,
          5266363.5,
          5266365.85,
          5266368.84,
          5266371.52,
          5266374.19,
          5266376.86,
          5266366.5,
          5266368.8,
          5266371.48,
          5266374.15,
          5266376.83,
          5266379.5,
          5266382.41
         ],
         "z": [
          352.69,
          352.26,
          352.29,
          352.25,
          352.27,
          352.33,
          352.39,
          352.31,
          352.28,
          352.26,
          352.27,
          352.35,
          352.35,
          352.55,
          352.31,
          352.28,
          352.28,
          352.31,
          352.38,
          352.29,
          352.39,
          352.35,
          352.29,
          352.31,
          352.48,
          352.44,
          352.4,
          352.44,
          352.47,
          352.47,
          352.59,
          352.65,
          352.62,
          352.37,
          352.47,
          352.62,
          352.75,
          352.67,
          352.68,
          352.42,
          352.43,
          352.68,
          352.81,
          352.78,
          352.75,
          352.64,
          352.42,
          352.59,
          352.73,
          352.78,
          352.74,
          352.63,
          352.46,
          352.61,
          352.8,
          353.19,
          352.64,
          352.71,
          352.52,
          352.52,
          353.09,
          355.32,
          354.14,
          352.59,
          352.52,
          352.44,
          352.41,
          353,
          352.99,
          352.54,
          352.52,
          352.32,
          352.51,
          352.56,
          352.51,
          352.53,
          352.43,
          352.32,
          353.14,
          352.75,
          352.5,
          352.52,
          352.46,
          352.3,
          352.26,
          353.15,
          352.71,
          352.53,
          352.45,
          352.5,
          352.47,
          353.63,
          353.06,
          352.79,
          352.61,
          352.45,
          352.42,
          352.42,
          353.48,
          353.1,
          352.75,
          352.44,
          352.41,
          352.59,
          353.83,
          353.39,
          352.91,
          352.59,
          352.53,
          352.91,
          353.24
         ]
        }
       ],
       "layout": {
        "autosize": true,
        "legend": {
         "title": {
          "text": "Blast Rating"
         },
         "tracegroupgap": 0
        },
        "scene": {
         "aspectmode": "auto",
         "aspectratio": {
          "x": 1,
          "y": 1,
          "z": 1
         },
         "domain": {
          "x": [
           0,
           1
          ],
          "y": [
           0,
           1
          ]
         },
         "xaxis": {
          "title": {
           "text": "X Coordinate"
          },
          "type": "linear"
         },
         "yaxis": {
          "title": {
           "text": "Y Coordinate"
          },
          "type": "linear"
         },
         "zaxis": {
          "title": {
           "text": "Z Coordinate"
          },
          "type": "linear"
         }
        },
        "template": {
         "data": {
          "bar": [
           {
            "error_x": {
             "color": "#2a3f5f"
            },
            "error_y": {
             "color": "#2a3f5f"
            },
            "marker": {
             "line": {
              "color": "#E5ECF6",
              "width": 0.5
             },
             "pattern": {
              "fillmode": "overlay",
              "size": 10,
              "solidity": 0.2
             }
            },
            "type": "bar"
           }
          ],
          "barpolar": [
           {
            "marker": {
             "line": {
              "color": "#E5ECF6",
              "width": 0.5
             },
             "pattern": {
              "fillmode": "overlay",
              "size": 10,
              "solidity": 0.2
             }
            },
            "type": "barpolar"
           }
          ],
          "carpet": [
           {
            "aaxis": {
             "endlinecolor": "#2a3f5f",
             "gridcolor": "white",
             "linecolor": "white",
             "minorgridcolor": "white",
             "startlinecolor": "#2a3f5f"
            },
            "baxis": {
             "endlinecolor": "#2a3f5f",
             "gridcolor": "white",
             "linecolor": "white",
             "minorgridcolor": "white",
             "startlinecolor": "#2a3f5f"
            },
            "type": "carpet"
           }
          ],
          "choropleth": [
           {
            "colorbar": {
             "outlinewidth": 0,
             "ticks": ""
            },
            "type": "choropleth"
           }
          ],
          "contour": [
           {
            "colorbar": {
             "outlinewidth": 0,
             "ticks": ""
            },
            "colorscale": [
             [
              0,
              "#0d0887"
             ],
             [
              0.1111111111111111,
              "#46039f"
             ],
             [
              0.2222222222222222,
              "#7201a8"
             ],
             [
              0.3333333333333333,
              "#9c179e"
             ],
             [
              0.4444444444444444,
              "#bd3786"
             ],
             [
              0.5555555555555556,
              "#d8576b"
             ],
             [
              0.6666666666666666,
              "#ed7953"
             ],
             [
              0.7777777777777778,
              "#fb9f3a"
             ],
             [
              0.8888888888888888,
              "#fdca26"
             ],
             [
              1,
              "#f0f921"
             ]
            ],
            "type": "contour"
           }
          ],
          "contourcarpet": [
           {
            "colorbar": {
             "outlinewidth": 0,
             "ticks": ""
            },
            "type": "contourcarpet"
           }
          ],
          "heatmap": [
           {
            "colorbar": {
             "outlinewidth": 0,
             "ticks": ""
            },
            "colorscale": [
             [
              0,
              "#0d0887"
             ],
             [
              0.1111111111111111,
              "#46039f"
             ],
             [
              0.2222222222222222,
              "#7201a8"
             ],
             [
              0.3333333333333333,
              "#9c179e"
             ],
             [
              0.4444444444444444,
              "#bd3786"
             ],
             [
              0.5555555555555556,
              "#d8576b"
             ],
             [
              0.6666666666666666,
              "#ed7953"
             ],
             [
              0.7777777777777778,
              "#fb9f3a"
             ],
             [
              0.8888888888888888,
              "#fdca26"
             ],
             [
              1,
              "#f0f921"
             ]
            ],
            "type": "heatmap"
           }
          ],
          "heatmapgl": [
           {
            "colorbar": {
             "outlinewidth": 0,
             "ticks": ""
            },
            "colorscale": [
             [
              0,
              "#0d0887"
             ],
             [
              0.1111111111111111,
              "#46039f"
             ],
             [
              0.2222222222222222,
              "#7201a8"
             ],
             [
              0.3333333333333333,
              "#9c179e"
             ],
             [
              0.4444444444444444,
              "#bd3786"
             ],
             [
              0.5555555555555556,
              "#d8576b"
             ],
             [
              0.6666666666666666,
              "#ed7953"
             ],
             [
              0.7777777777777778,
              "#fb9f3a"
             ],
             [
              0.8888888888888888,
              "#fdca26"
             ],
             [
              1,
              "#f0f921"
             ]
            ],
            "type": "heatmapgl"
           }
          ],
          "histogram": [
           {
            "marker": {
             "pattern": {
              "fillmode": "overlay",
              "size": 10,
              "solidity": 0.2
             }
            },
            "type": "histogram"
           }
          ],
          "histogram2d": [
           {
            "colorbar": {
             "outlinewidth": 0,
             "ticks": ""
            },
            "colorscale": [
             [
              0,
              "#0d0887"
             ],
             [
              0.1111111111111111,
              "#46039f"
             ],
             [
              0.2222222222222222,
              "#7201a8"
             ],
             [
              0.3333333333333333,
              "#9c179e"
             ],
             [
              0.4444444444444444,
              "#bd3786"
             ],
             [
              0.5555555555555556,
              "#d8576b"
             ],
             [
              0.6666666666666666,
              "#ed7953"
             ],
             [
              0.7777777777777778,
              "#fb9f3a"
             ],
             [
              0.8888888888888888,
              "#fdca26"
             ],
             [
              1,
              "#f0f921"
             ]
            ],
            "type": "histogram2d"
           }
          ],
          "histogram2dcontour": [
           {
            "colorbar": {
             "outlinewidth": 0,
             "ticks": ""
            },
            "colorscale": [
             [
              0,
              "#0d0887"
             ],
             [
              0.1111111111111111,
              "#46039f"
             ],
             [
              0.2222222222222222,
              "#7201a8"
             ],
             [
              0.3333333333333333,
              "#9c179e"
             ],
             [
              0.4444444444444444,
              "#bd3786"
             ],
             [
              0.5555555555555556,
              "#d8576b"
             ],
             [
              0.6666666666666666,
              "#ed7953"
             ],
             [
              0.7777777777777778,
              "#fb9f3a"
             ],
             [
              0.8888888888888888,
              "#fdca26"
             ],
             [
              1,
              "#f0f921"
             ]
            ],
            "type": "histogram2dcontour"
           }
          ],
          "mesh3d": [
           {
            "colorbar": {
             "outlinewidth": 0,
             "ticks": ""
            },
            "type": "mesh3d"
           }
          ],
          "parcoords": [
           {
            "line": {
             "colorbar": {
              "outlinewidth": 0,
              "ticks": ""
             }
            },
            "type": "parcoords"
           }
          ],
          "pie": [
           {
            "automargin": true,
            "type": "pie"
           }
          ],
          "scatter": [
           {
            "fillpattern": {
             "fillmode": "overlay",
             "size": 10,
             "solidity": 0.2
            },
            "type": "scatter"
           }
          ],
          "scatter3d": [
           {
            "line": {
             "colorbar": {
              "outlinewidth": 0,
              "ticks": ""
             }
            },
            "marker": {
             "colorbar": {
              "outlinewidth": 0,
              "ticks": ""
             }
            },
            "type": "scatter3d"
           }
          ],
          "scattercarpet": [
           {
            "marker": {
             "colorbar": {
              "outlinewidth": 0,
              "ticks": ""
             }
            },
            "type": "scattercarpet"
           }
          ],
          "scattergeo": [
           {
            "marker": {
             "colorbar": {
              "outlinewidth": 0,
              "ticks": ""
             }
            },
            "type": "scattergeo"
           }
          ],
          "scattergl": [
           {
            "marker": {
             "colorbar": {
              "outlinewidth": 0,
              "ticks": ""
             }
            },
            "type": "scattergl"
           }
          ],
          "scattermapbox": [
           {
            "marker": {
             "colorbar": {
              "outlinewidth": 0,
              "ticks": ""
             }
            },
            "type": "scattermapbox"
           }
          ],
          "scatterpolar": [
           {
            "marker": {
             "colorbar": {
              "outlinewidth": 0,
              "ticks": ""
             }
            },
            "type": "scatterpolar"
           }
          ],
          "scatterpolargl": [
           {
            "marker": {
             "colorbar": {
              "outlinewidth": 0,
              "ticks": ""
             }
            },
            "type": "scatterpolargl"
           }
          ],
          "scatterternary": [
           {
            "marker": {
             "colorbar": {
              "outlinewidth": 0,
              "ticks": ""
             }
            },
            "type": "scatterternary"
           }
          ],
          "surface": [
           {
            "colorbar": {
             "outlinewidth": 0,
             "ticks": ""
            },
            "colorscale": [
             [
              0,
              "#0d0887"
             ],
             [
              0.1111111111111111,
              "#46039f"
             ],
             [
              0.2222222222222222,
              "#7201a8"
             ],
             [
              0.3333333333333333,
              "#9c179e"
             ],
             [
              0.4444444444444444,
              "#bd3786"
             ],
             [
              0.5555555555555556,
              "#d8576b"
             ],
             [
              0.6666666666666666,
              "#ed7953"
             ],
             [
              0.7777777777777778,
              "#fb9f3a"
             ],
             [
              0.8888888888888888,
              "#fdca26"
             ],
             [
              1,
              "#f0f921"
             ]
            ],
            "type": "surface"
           }
          ],
          "table": [
           {
            "cells": {
             "fill": {
              "color": "#EBF0F8"
             },
             "line": {
              "color": "white"
             }
            },
            "header": {
             "fill": {
              "color": "#C8D4E3"
             },
             "line": {
              "color": "white"
             }
            },
            "type": "table"
           }
          ]
         },
         "layout": {
          "annotationdefaults": {
           "arrowcolor": "#2a3f5f",
           "arrowhead": 0,
           "arrowwidth": 1
          },
          "autotypenumbers": "strict",
          "coloraxis": {
           "colorbar": {
            "outlinewidth": 0,
            "ticks": ""
           }
          },
          "colorscale": {
           "diverging": [
            [
             0,
             "#8e0152"
            ],
            [
             0.1,
             "#c51b7d"
            ],
            [
             0.2,
             "#de77ae"
            ],
            [
             0.3,
             "#f1b6da"
            ],
            [
             0.4,
             "#fde0ef"
            ],
            [
             0.5,
             "#f7f7f7"
            ],
            [
             0.6,
             "#e6f5d0"
            ],
            [
             0.7,
             "#b8e186"
            ],
            [
             0.8,
             "#7fbc41"
            ],
            [
             0.9,
             "#4d9221"
            ],
            [
             1,
             "#276419"
            ]
           ],
           "sequential": [
            [
             0,
             "#0d0887"
            ],
            [
             0.1111111111111111,
             "#46039f"
            ],
            [
             0.2222222222222222,
             "#7201a8"
            ],
            [
             0.3333333333333333,
             "#9c179e"
            ],
            [
             0.4444444444444444,
             "#bd3786"
            ],
            [
             0.5555555555555556,
             "#d8576b"
            ],
            [
             0.6666666666666666,
             "#ed7953"
            ],
            [
             0.7777777777777778,
             "#fb9f3a"
            ],
            [
             0.8888888888888888,
             "#fdca26"
            ],
            [
             1,
             "#f0f921"
            ]
           ],
           "sequentialminus": [
            [
             0,
             "#0d0887"
            ],
            [
             0.1111111111111111,
             "#46039f"
            ],
            [
             0.2222222222222222,
             "#7201a8"
            ],
            [
             0.3333333333333333,
             "#9c179e"
            ],
            [
             0.4444444444444444,
             "#bd3786"
            ],
            [
             0.5555555555555556,
             "#d8576b"
            ],
            [
             0.6666666666666666,
             "#ed7953"
            ],
            [
             0.7777777777777778,
             "#fb9f3a"
            ],
            [
             0.8888888888888888,
             "#fdca26"
            ],
            [
             1,
             "#f0f921"
            ]
           ]
          },
          "colorway": [
           "#636efa",
           "#EF553B",
           "#00cc96",
           "#ab63fa",
           "#FFA15A",
           "#19d3f3",
           "#FF6692",
           "#B6E880",
           "#FF97FF",
           "#FECB52"
          ],
          "font": {
           "color": "#2a3f5f"
          },
          "geo": {
           "bgcolor": "white",
           "lakecolor": "white",
           "landcolor": "#E5ECF6",
           "showlakes": true,
           "showland": true,
           "subunitcolor": "white"
          },
          "hoverlabel": {
           "align": "left"
          },
          "hovermode": "closest",
          "mapbox": {
           "style": "light"
          },
          "paper_bgcolor": "white",
          "plot_bgcolor": "#E5ECF6",
          "polar": {
           "angularaxis": {
            "gridcolor": "white",
            "linecolor": "white",
            "ticks": ""
           },
           "bgcolor": "#E5ECF6",
           "radialaxis": {
            "gridcolor": "white",
            "linecolor": "white",
            "ticks": ""
           }
          },
          "scene": {
           "xaxis": {
            "backgroundcolor": "#E5ECF6",
            "gridcolor": "white",
            "gridwidth": 2,
            "linecolor": "white",
            "showbackground": true,
            "ticks": "",
            "zerolinecolor": "white"
           },
           "yaxis": {
            "backgroundcolor": "#E5ECF6",
            "gridcolor": "white",
            "gridwidth": 2,
            "linecolor": "white",
            "showbackground": true,
            "ticks": "",
            "zerolinecolor": "white"
           },
           "zaxis": {
            "backgroundcolor": "#E5ECF6",
            "gridcolor": "white",
            "gridwidth": 2,
            "linecolor": "white",
            "showbackground": true,
            "ticks": "",
            "zerolinecolor": "white"
           }
          },
          "shapedefaults": {
           "line": {
            "color": "#2a3f5f"
           }
          },
          "ternary": {
           "aaxis": {
            "gridcolor": "white",
            "linecolor": "white",
            "ticks": ""
           },
           "baxis": {
            "gridcolor": "white",
            "linecolor": "white",
            "ticks": ""
           },
           "bgcolor": "#E5ECF6",
           "caxis": {
            "gridcolor": "white",
            "linecolor": "white",
            "ticks": ""
           }
          },
          "title": {
           "x": 0.05
          },
          "xaxis": {
           "automargin": true,
           "gridcolor": "white",
           "linecolor": "white",
           "ticks": "",
           "title": {
            "standoff": 15
           },
           "zerolinecolor": "white",
           "zerolinewidth": 2
          },
          "yaxis": {
           "automargin": true,
           "gridcolor": "white",
           "linecolor": "white",
           "ticks": "",
           "title": {
            "standoff": 15
           },
           "zerolinecolor": "white",
           "zerolinewidth": 2
          }
         }
        },
        "title": {
         "text": "Drillhole Blast Positions"
        }
       }
      },
      "image/png": "[encoded data removed]",
      "text/html": [
       "<div>                            <div id=\"c0b37519-ab1d-4f3c-9426-b8fce338b3cc\" class=\"plotly-graph-div\" style=\"height:525px; width:100%;\"></div>            <script type=\"text/javascript\">                require([\"plotly\"], function(Plotly) {                    window.PLOTLYENV=window.PLOTLYENV || {};                                    if (document.getElementById(\"c0b37519-ab1d-4f3c-9426-b8fce338b3cc\")) {                    Plotly.newPlot(                        \"c0b37519-ab1d-4f3c-9426-b8fce338b3cc\",                        [{\"hovertemplate\":\"Blast Rating=C\\u003cbr\\u003eX Coordinate=%{x}\\u003cbr\\u003eY Coordinate=%{y}\\u003cbr\\u003eZ Coordinate=%{z}\\u003cextra\\u003e\\u003c\\u002fextra\\u003e\",\"legendgroup\":\"C\",\"marker\":{\"color\":\"#636efa\",\"symbol\":\"circle\",\"size\":12},\"mode\":\"markers\",\"name\":\"C\",\"scene\":\"scene\",\"showlegend\":true,\"x\":[429273.8,429278.4,429282.98,429287.55,429292.13,429296.71,429301.28,429273.79,429278.37,429282.95,429287.52,429292.1,429296.67,429269.18,429273.76,429278.34,429282.96,429287.4,429292.07,429296.64,429269.15,429273.73,429278.3,429282.35,429287.46,429292.03,429265.22,429269.12,429273.7,429278.27,429282.85,429287.42,429292.0,429264.51,429269.09,429273.66,429278.24,429282.82,429287.39,429259.9,429264.48,429269.06,429273.63,429278.21,429282.78,429287.36,429259.87,429264.45,429269.02,429273.6,429278.18,429282.75,429256.01,429259.84,429264.41,429268.99,429273.57,429278.14,429282.72,429255.23,429259.81,429264.38,429268.96,429274.1,429278.07,429250.62,429255.2,429259.77,429264.35,429268.93,429274.05,429278.08,429250.59,429255.16,429259.74,429264.32,429268.89,429273.47,429246.57,429250.56,429255.13,429259.71,429264.28,429268.86,429273.44,429245.95,429250.52,429255.1,429259.68,429264.25,429268.83,429241.34,429245.92,429250.49,429255.07,429259.64,429264.22,429268.8,429241.31,429245.57,429250.46,429255.04,429259.61,429264.19,429237.18,429241.27,429245.85,429250.43,429255.0,429259.58,429264.41],\"y\":[5266303.1,5266305.26,5266307.93,5266310.6,5266313.28,5266315.95,5266318.62,5266307.89,5266310.56,5266313.24,5266315.91,5266318.58,5266321.26,5266310.53,5266313.2,5266315.87,5266318.73,5266321.27,5266323.89,5266326.57,5266315.83,5266318.51,5266321.18,5266324.86,5266326.53,5266329.2,5266318.63,5266321.14,5266323.82,5266326.49,5266329.16,5266331.84,5266334.51,5266323.78,5266326.45,5266329.12,5266331.8,5266334.47,5266337.15,5266326.41,5266329.09,5266331.76,5266334.43,5266337.11,5266339.78,5266342.45,5266331.72,5266334.39,5266337.07,5266339.74,5266342.42,5266345.09,5266333.57,5266337.03,5266339.7,5266342.38,5266345.05,5266347.72,5266350.4,5266339.66,5266342.34,5266345.01,5266347.69,5266350.34,5266354.15,5266342.3,5266344.97,5266347.65,5266350.32,5266352.99,5266354.96,5266358.34,5266347.61,5266350.28,5266352.96,5266355.63,5266358.3,5266360.98,5266350.19,5266352.92,5266355.59,5266358.26,5266360.94,5266363.61,5266366.29,5266355.55,5266358.23,5266360.9,5266363.57,5266366.25,5266368.92,5266358.19,5266360.86,5266363.53,5266366.21,5266368.88,5266371.56,5266374.23,5266363.5,5266365.85,5266368.84,5266371.52,5266374.19,5266376.86,5266366.5,5266368.8,5266371.48,5266374.15,5266376.83,5266379.5,5266382.41],\"z\":[352.69,352.26,352.29,352.25,352.27,352.33,352.39,352.31,352.28,352.26,352.27,352.35,352.35,352.55,352.31,352.28,352.28,352.31,352.38,352.29,352.39,352.35,352.29,352.31,352.48,352.44,352.4,352.44,352.47,352.47,352.59,352.65,352.62,352.37,352.47,352.62,352.75,352.67,352.68,352.42,352.43,352.68,352.81,352.78,352.75,352.64,352.42,352.59,352.73,352.78,352.74,352.63,352.46,352.61,352.8,353.19,352.64,352.71,352.52,352.52,353.09,355.32,354.14,352.59,352.52,352.44,352.41,353.0,352.99,352.54,352.52,352.32,352.51,352.56,352.51,352.53,352.43,352.32,353.14,352.75,352.5,352.52,352.46,352.3,352.26,353.15,352.71,352.53,352.45,352.5,352.47,353.63,353.06,352.79,352.61,352.45,352.42,352.42,353.48,353.1,352.75,352.44,352.41,352.59,353.83,353.39,352.91,352.59,352.53,352.91,353.24],\"type\":\"scatter3d\"}],                        {\"template\":{\"data\":{\"histogram2dcontour\":[{\"type\":\"histogram2dcontour\",\"colorbar\":{\"outlinewidth\":0,\"ticks\":\"\"},\"colorscale\":[[0.0,\"#0d0887\"],[0.1111111111111111,\"#46039f\"],[0.2222222222222222,\"#7201a8\"],[0.3333333333333333,\"#9c179e\"],[0.4444444444444444,\"#bd3786\"],[0.5555555555555556,\"#d8576b\"],[0.6666666666666666,\"#ed7953\"],[0.7777777777777778,\"#fb9f3a\"],[0.8888888888888888,\"#fdca26\"],[1.0,\"#f0f921\"]]}],\"choropleth\":[{\"type\":\"choropleth\",\"colorbar\":{\"outlinewidth\":0,\"ticks\":\"\"}}],\"histogram2d\":[{\"type\":\"histogram2d\",\"colorbar\":{\"outlinewidth\":0,\"ticks\":\"\"},\"colorscale\":[[0.0,\"#0d0887\"],[0.1111111111111111,\"#46039f\"],[0.2222222222222222,\"#7201a8\"],[0.3333333333333333,\"#9c179e\"],[0.4444444444444444,\"#bd3786\"],[0.5555555555555556,\"#d8576b\"],[0.6666666666666666,\"#ed7953\"],[0.7777777777777778,\"#fb9f3a\"],[0.8888888888888888,\"#fdca26\"],[1.0,\"#f0f921\"]]}],\"heatmap\":[{\"type\":\"heatmap\",\"colorbar\":{\"outlinewidth\":0,\"ticks\":\"\"},\"colorscale\":[[0.0,\"#0d0887\"],[0.1111111111111111,\"#46039f\"],[0.2222222222222222,\"#7201a8\"],[0.3333333333333333,\"#9c179e\"],[0.4444444444444444,\"#bd3786\"],[0.5555555555555556,\"#d8576b\"],[0.6666666666666666,\"#ed7953\"],[0.7777777777777778,\"#fb9f3a\"],[0.8888888888888888,\"#fdca26\"],[1.0,\"#f0f921\"]]}],\"heatmapgl\":[{\"type\":\"heatmapgl\",\"colorbar\":{\"outlinewidth\":0,\"ticks\":\"\"},\"colorscale\":[[0.0,\"#0d0887\"],[0.1111111111111111,\"#46039f\"],[0.2222222222222222,\"#7201a8\"],[0.3333333333333333,\"#9c179e\"],[0.4444444444444444,\"#bd3786\"],[0.5555555555555556,\"#d8576b\"],[0.6666666666666666,\"#ed7953\"],[0.7777777777777778,\"#fb9f3a\"],[0.8888888888888888,\"#fdca26\"],[1.0,\"#f0f921\"]]}],\"contourcarpet\":[{\"type\":\"contourcarpet\",\"colorbar\":{\"outlinewidth\":0,\"ticks\":\"\"}}],\"contour\":[{\"type\":\"contour\",\"colorbar\":{\"outlinewidth\":0,\"ticks\":\"\"},\"colorscale\":[[0.0,\"#0d0887\"],[0.1111111111111111,\"#46039f\"],[0.2222222222222222,\"#7201a8\"],[0.3333333333333333,\"#9c179e\"],[0.4444444444444444,\"#bd3786\"],[0.5555555555555556,\"#d8576b\"],[0.6666666666666666,\"#ed7953\"],[0.7777777777777778,\"#fb9f3a\"],[0.8888888888888888,\"#fdca26\"],[1.0,\"#f0f921\"]]}],\"surface\":[{\"type\":\"surface\",\"colorbar\":{\"outlinewidth\":0,\"ticks\":\"\"},\"colorscale\":[[0.0,\"#0d0887\"],[0.1111111111111111,\"#46039f\"],[0.2222222222222222,\"#7201a8\"],[0.3333333333333333,\"#9c179e\"],[0.4444444444444444,\"#bd3786\"],[0.5555555555555556,\"#d8576b\"],[0.6666666666666666,\"#ed7953\"],[0.7777777777777778,\"#fb9f3a\"],[0.8888888888888888,\"#fdca26\"],[1.0,\"#f0f921\"]]}],\"mesh3d\":[{\"type\":\"mesh3d\",\"colorbar\":{\"outlinewidth\":0,\"ticks\":\"\"}}],\"scatter\":[{\"fillpattern\":{\"fillmode\":\"overlay\",\"size\":10,\"solidity\":0.2},\"type\":\"scatter\"}],\"parcoords\":[{\"type\":\"parcoords\",\"line\":{\"colorbar\":{\"outlinewidth\":0,\"ticks\":\"\"}}}],\"scatterpolargl\":[{\"type\":\"scatterpolargl\",\"marker\":{\"colorbar\":{\"outlinewidth\":0,\"ticks\":\"\"}}}],\"bar\":[{\"error_x\":{\"color\":\"#2a3f5f\"},\"error_y\":{\"color\":\"#2a3f5f\"},\"marker\":{\"line\":{\"color\":\"#E5ECF6\",\"width\":0.5},\"pattern\":{\"fillmode\":\"overlay\",\"size\":10,\"solidity\":0.2}},\"type\":\"bar\"}],\"scattergeo\":[{\"type\":\"scattergeo\",\"marker\":{\"colorbar\":{\"outlinewidth\":0,\"ticks\":\"\"}}}],\"scatterpolar\":[{\"type\":\"scatterpolar\",\"marker\":{\"colorbar\":{\"outlinewidth\":0,\"ticks\":\"\"}}}],\"histogram\":[{\"marker\":{\"pattern\":{\"fillmode\":\"overlay\",\"size\":10,\"solidity\":0.2}},\"type\":\"histogram\"}],\"scattergl\":[{\"type\":\"scattergl\",\"marker\":{\"colorbar\":{\"outlinewidth\":0,\"ticks\":\"\"}}}],\"scatter3d\":[{\"type\":\"scatter3d\",\"line\":{\"colorbar\":{\"outlinewidth\":0,\"ticks\":\"\"}},\"marker\":{\"colorbar\":{\"outlinewidth\":0,\"ticks\":\"\"}}}],\"scattermapbox\":[{\"type\":\"scattermapbox\",\"marker\":{\"colorbar\":{\"outlinewidth\":0,\"ticks\":\"\"}}}],\"scatterternary\":[{\"type\":\"scatterternary\",\"marker\":{\"colorbar\":{\"outlinewidth\":0,\"ticks\":\"\"}}}],\"scattercarpet\":[{\"type\":\"scattercarpet\",\"marker\":{\"colorbar\":{\"outlinewidth\":0,\"ticks\":\"\"}}}],\"carpet\":[{\"aaxis\":{\"endlinecolor\":\"#2a3f5f\",\"gridcolor\":\"white\",\"linecolor\":\"white\",\"minorgridcolor\":\"white\",\"startlinecolor\":\"#2a3f5f\"},\"baxis\":{\"endlinecolor\":\"#2a3f5f\",\"gridcolor\":\"white\",\"linecolor\":\"white\",\"minorgridcolor\":\"white\",\"startlinecolor\":\"#2a3f5f\"},\"type\":\"carpet\"}],\"table\":[{\"cells\":{\"fill\":{\"color\":\"#EBF0F8\"},\"line\":{\"color\":\"white\"}},\"header\":{\"fill\":{\"color\":\"#C8D4E3\"},\"line\":{\"color\":\"white\"}},\"type\":\"table\"}],\"barpolar\":[{\"marker\":{\"line\":{\"color\":\"#E5ECF6\",\"width\":0.5},\"pattern\":{\"fillmode\":\"overlay\",\"size\":10,\"solidity\":0.2}},\"type\":\"barpolar\"}],\"pie\":[{\"automargin\":true,\"type\":\"pie\"}]},\"layout\":{\"autotypenumbers\":\"strict\",\"colorway\":[\"#636efa\",\"#EF553B\",\"#00cc96\",\"#ab63fa\",\"#FFA15A\",\"#19d3f3\",\"#FF6692\",\"#B6E880\",\"#FF97FF\",\"#FECB52\"],\"font\":{\"color\":\"#2a3f5f\"},\"hovermode\":\"closest\",\"hoverlabel\":{\"align\":\"left\"},\"paper_bgcolor\":\"white\",\"plot_bgcolor\":\"#E5ECF6\",\"polar\":{\"bgcolor\":\"#E5ECF6\",\"angularaxis\":{\"gridcolor\":\"white\",\"linecolor\":\"white\",\"ticks\":\"\"},\"radialaxis\":{\"gridcolor\":\"white\",\"linecolor\":\"white\",\"ticks\":\"\"}},\"ternary\":{\"bgcolor\":\"#E5ECF6\",\"aaxis\":{\"gridcolor\":\"white\",\"linecolor\":\"white\",\"ticks\":\"\"},\"baxis\":{\"gridcolor\":\"white\",\"linecolor\":\"white\",\"ticks\":\"\"},\"caxis\":{\"gridcolor\":\"white\",\"linecolor\":\"white\",\"ticks\":\"\"}},\"coloraxis\":{\"colorbar\":{\"outlinewidth\":0,\"ticks\":\"\"}},\"colorscale\":{\"sequential\":[[0.0,\"#0d0887\"],[0.1111111111111111,\"#46039f\"],[0.2222222222222222,\"#7201a8\"],[0.3333333333333333,\"#9c179e\"],[0.4444444444444444,\"#bd3786\"],[0.5555555555555556,\"#d8576b\"],[0.6666666666666666,\"#ed7953\"],[0.7777777777777778,\"#fb9f3a\"],[0.8888888888888888,\"#fdca26\"],[1.0,\"#f0f921\"]],\"sequentialminus\":[[0.0,\"#0d0887\"],[0.1111111111111111,\"#46039f\"],[0.2222222222222222,\"#7201a8\"],[0.3333333333333333,\"#9c179e\"],[0.4444444444444444,\"#bd3786\"],[0.5555555555555556,\"#d8576b\"],[0.6666666666666666,\"#ed7953\"],[0.7777777777777778,\"#fb9f3a\"],[0.8888888888888888,\"#fdca26\"],[1.0,\"#f0f921\"]],\"diverging\":[[0,\"#8e0152\"],[0.1,\"#c51b7d\"],[0.2,\"#de77ae\"],[0.3,\"#f1b6da\"],[0.4,\"#fde0ef\"],[0.5,\"#f7f7f7\"],[0.6,\"#e6f5d0\"],[0.7,\"#b8e186\"],[0.8,\"#7fbc41\"],[0.9,\"#4d9221\"],[1,\"#276419\"]]},\"xaxis\":{\"gridcolor\":\"white\",\"linecolor\":\"white\",\"ticks\":\"\",\"title\":{\"standoff\":15},\"zerolinecolor\":\"white\",\"automargin\":true,\"zerolinewidth\":2},\"yaxis\":{\"gridcolor\":\"white\",\"linecolor\":\"white\",\"ticks\":\"\",\"title\":{\"standoff\":15},\"zerolinecolor\":\"white\",\"automargin\":true,\"zerolinewidth\":2},\"scene\":{\"xaxis\":{\"backgroundcolor\":\"#E5ECF6\",\"gridcolor\":\"white\",\"linecolor\":\"white\",\"showbackground\":true,\"ticks\":\"\",\"zerolinecolor\":\"white\",\"gridwidth\":2},\"yaxis\":{\"backgroundcolor\":\"#E5ECF6\",\"gridcolor\":\"white\",\"linecolor\":\"white\",\"showbackground\":true,\"ticks\":\"\",\"zerolinecolor\":\"white\",\"gridwidth\":2},\"zaxis\":{\"backgroundcolor\":\"#E5ECF6\",\"gridcolor\":\"white\",\"linecolor\":\"white\",\"showbackground\":true,\"ticks\":\"\",\"zerolinecolor\":\"white\",\"gridwidth\":2}},\"shapedefaults\":{\"line\":{\"color\":\"#2a3f5f\"}},\"annotationdefaults\":{\"arrowcolor\":\"#2a3f5f\",\"arrowhead\":0,\"arrowwidth\":1},\"geo\":{\"bgcolor\":\"white\",\"landcolor\":\"#E5ECF6\",\"subunitcolor\":\"white\",\"showland\":true,\"showlakes\":true,\"lakecolor\":\"white\"},\"title\":{\"x\":0.05},\"mapbox\":{\"style\":\"light\"}}},\"scene\":{\"domain\":{\"x\":[0.0,1.0],\"y\":[0.0,1.0]},\"xaxis\":{\"title\":{\"text\":\"X Coordinate\"}},\"yaxis\":{\"title\":{\"text\":\"Y Coordinate\"}},\"zaxis\":{\"title\":{\"text\":\"Z Coordinate\"}}},\"legend\":{\"title\":{\"text\":\"Blast Rating\"},\"tracegroupgap\":0},\"title\":{\"text\":\"Drillhole Blast Positions\"}},                        {\"responsive\": true}                    ).then(function(){\n",
       "                            \n",
       "var gd = document.getElementById('c0b37519-ab1d-4f3c-9426-b8fce338b3cc');\n",
       "var x = new MutationObserver(function (mutations, observer) {{\n",
       "        var display = window.getComputedStyle(gd).display;\n",
       "        if (!display || display === 'none') {{\n",
       "            console.log([gd, 'removed!']);\n",
       "            Plotly.purge(gd);\n",
       "            observer.disconnect();\n",
       "        }}\n",
       "}});\n",
       "\n",
       "// Listen for the removal of the full notebook cells\n",
       "var notebookContainer = gd.closest('#notebook-container');\n",
       "if (notebookContainer) {{\n",
       "    x.observe(notebookContainer, {childList: true});\n",
       "}}\n",
       "\n",
       "// Listen for the clearing of the current output cell\n",
       "var outputEl = gd.closest('.output');\n",
       "if (outputEl) {{\n",
       "    x.observe(outputEl, {childList: true});\n",
       "}}\n",
       "\n",
       "                        })                };                });            </script>        </div>"
      ]
     },
     "metadata": {},
     "output_type": "display_data"
    }
   ],
   "source": [
    "import pandas as pd\n",
    "import numpy as np\n",
    "import tkinter as tk\n",
    "from tkinter import filedialog, messagebox\n",
    "from sklearn.model_selection import train_test_split\n",
    "from sklearn.preprocessing import LabelEncoder, StandardScaler\n",
    "from sklearn.ensemble import RandomForestClassifier\n",
    "from sklearn.metrics import classification_report, accuracy_score\n",
    "import plotly.express as px\n",
    "import plotly.io as pio\n",
    "from reportlab.lib.pagesizes import letter\n",
    "from reportlab.pdfgen import canvas\n",
    "import threading\n",
    "\n",
    "# Global variable to store the dataset\n",
    "df = None\n",
    "\n",
    "# Function to load multiple CSV data\n",
    "def load_multiple_csv(files):\n",
    "    global df\n",
    "    data_list = []\n",
    "    for file in files:\n",
    "        data = pd.read_csv(file)\n",
    "        data_list.append(data)\n",
    "    df = pd.concat(data_list, ignore_index=True)\n",
    "    print(df.head())\n",
    "    return df\n",
    "\n",
    "# Train model using real-world data from multiple CSV files\n",
    "def train_model(files):\n",
    "    data = load_multiple_csv(files)\n",
    "    \n",
    "    features = [\"Drillhole_X\", \"Drillhole_Y\", \"Drillhole_Z\", \"Drillhole_ToeX\", \"Drillhole_ToeY\", \"Drillhole_ToeZ\",\n",
    "                \"Drillhole_Length\", \"Drillhole_Dip\", \"Drillhole_Azimuth\", \"Avg_Displacement\", \"Max_Displacement\",\n",
    "                \"Centroid_Shift\", \"Earliest_Pixel_Disp\", \"PPV\", \"Overpressure\", \"Total_Displacement\"]\n",
    "    \n",
    "    missing_columns = [col for col in features if col not in data.columns]\n",
    "    if missing_columns:\n",
    "        raise ValueError(f\"Missing columns in the dataset: {', '.join(missing_columns)}\")\n",
    "    \n",
    "    # Ensure the 'Blast_Rating' column contains only 'A', 'B', or 'C' categories\n",
    "    label_encoder = LabelEncoder()\n",
    "    data[\"Blast_Rating\"] = label_encoder.fit_transform(data[\"Blast_Rating\"])\n",
    "    \n",
    "    X = data[features]\n",
    "    y = data[\"Blast_Rating\"]\n",
    "\n",
    "    scaler = StandardScaler()\n",
    "    X_scaled = scaler.fit_transform(X)\n",
    "\n",
    "    X_train, X_test, y_train, y_test = train_test_split(X_scaled, y, test_size=0.2, random_state=42)\n",
    "\n",
    "    model = RandomForestClassifier(random_state=42)\n",
    "    model.fit(X_train, y_train)\n",
    "\n",
    "    y_pred = model.predict(X_test)\n",
    "\n",
    "    accuracy = accuracy_score(y_test, y_pred)\n",
    "    class_report = classification_report(y_test, y_pred, target_names=label_encoder.classes_)\n",
    "\n",
    "    return accuracy, class_report, model, scaler, label_encoder, list(X.columns)\n",
    "\n",
    "# Function to predict the rating for new data\n",
    "def predict_rating(model, scaler, label_encoder, new_data, feature_columns):\n",
    "    new_data_df = pd.DataFrame(new_data, columns=feature_columns)\n",
    "    new_data_scaled = scaler.transform(new_data_df)\n",
    "    predicted_rating = label_encoder.inverse_transform(model.predict(new_data_scaled))\n",
    "    return predicted_rating[0]\n",
    "\n",
    "# Function to save the 3D scatter plot as a PDF\n",
    "def save_pdf(fig):\n",
    "    # Save the plot as PNG first\n",
    "    pio.write_image(fig, \"scatter_plot.png\")\n",
    "\n",
    "    # Create PDF and embed the PNG\n",
    "    pdf_path = \"C:/Downloads/\"\n",
    "    c = canvas.Canvas(pdf_path, pagesize=letter)\n",
    "    c.drawString(100, 750, \"3D Scatter Plot\")\n",
    "\n",
    "    # Adding the image to the PDF (resize for better memory efficiency)\n",
    "    c.drawImage(\"scatter_plot.png\", 50, 400, width=400, height=300)  # Resize image to reduce memory use\n",
    "    c.save()\n",
    "\n",
    "    # Inform the user that the PDF has been saved\n",
    "    messagebox.showinfo(\"PDF Saved\", f\"PDF saved successfully as {pdf_path}\")\n",
    "\n",
    "# Function to run PDF saving in a separate thread\n",
    "def save_pdf_in_background(fig):\n",
    "    thread = threading.Thread(target=save_pdf, args=(fig,))\n",
    "    thread.start()\n",
    "\n",
    "# UI setup\n",
    "def create_ui():\n",
    "    global df  # Ensure you can access the df variable globally for the plot\n",
    "    \n",
    "    root = tk.Tk()\n",
    "    root.title(\"Blast Rating Prediction\")\n",
    "    root.geometry(\"600x600\")\n",
    "\n",
    "    model, scaler, label_encoder, feature_columns = None, None, None, None\n",
    "\n",
    "    def load_files():\n",
    "        nonlocal model, scaler, label_encoder, feature_columns\n",
    "        files = filedialog.askopenfilenames(filetypes=[(\"CSV files\", \"*.csv\")])\n",
    "        if files:\n",
    "            accuracy, class_report, model, scaler, label_encoder, feature_columns = train_model(files)\n",
    "            \n",
    "            accuracy_label.config(text=f\"Accuracy: {accuracy:.4f}\")\n",
    "\n",
    "            class_report_text.delete(1.0, tk.END)\n",
    "            class_report_text.insert(tk.END, class_report)\n",
    "            \n",
    "            prediction_section.pack()\n",
    "\n",
    "            # Plot the 3D scatter plot after loading data\n",
    "            if df is not None:\n",
    "                # Map the numeric 'Blast_Rating' back to categories 'A', 'B', 'C' for visualization\n",
    "                df['Blast_Rating_Label'] = label_encoder.inverse_transform(df['Blast_Rating'])\n",
    "                \n",
    "                fig = px.scatter_3d(df, x='Drillhole_X', y='Drillhole_Y', z='Drillhole_Z', color='Blast_Rating_Label', \n",
    "                                    labels={'Blast_Rating_Label': 'Blast Rating', 'Drillhole_X': 'X Coordinate', \n",
    "                                            'Drillhole_Y': 'Y Coordinate', 'Drillhole_Z': 'Z Coordinate'},\n",
    "                                    title=\"Drillhole Blast Positions\")\n",
    "                fig.update_traces(marker=dict(size=12))\n",
    "                fig.show()\n",
    "\n",
    "                # Save plot to PDF in the background\n",
    "                save_pdf_in_background(fig)\n",
    "\n",
    "    load_files_button = tk.Button(root, text=\"Load CSV Files\", command=load_files)\n",
    "    load_files_button.pack(pady=10)\n",
    "\n",
    "    accuracy_label = tk.Label(root, text=\"Accuracy: \", font=(\"Arial\", 12))\n",
    "    accuracy_label.pack(pady=10)\n",
    "\n",
    "    class_report_label = tk.Label(root, text=\"Classification Report:\", font=(\"Arial\", 12))\n",
    "    class_report_label.pack(pady=10)\n",
    "\n",
    "    class_report_text = tk.Text(root, height=10, width=70)\n",
    "    class_report_text.pack(pady=10)\n",
    "\n",
    "    prediction_section = tk.Frame(root)\n",
    "    new_data_label = tk.Label(prediction_section, text=\"Enter new drillhole data (X, Y, Z, ToeX, ToeY, ToeZ, Length, Dip, Azimuth, Avg Displacement, Max Displacement, Centroid Shift, Earliest Pixel Disp, PPV, Overpressure, Total Displacement):\", font=(\"Arial\", 12))\n",
    "    new_data_label.pack(pady=10)\n",
    "\n",
    "    # Entry fields for prediction data\n",
    "    entry_x = tk.Entry(prediction_section, width=10)\n",
    "    entry_x.pack(pady=5)\n",
    "    entry_x.insert(0, \"250\")\n",
    "\n",
    "    entry_y = tk.Entry(prediction_section, width=10)\n",
    "    entry_y.pack(pady=5)\n",
    "    entry_y.insert(0, \"250\")\n",
    "\n",
    "    entry_z = tk.Entry(prediction_section, width=10)\n",
    "    entry_z.pack(pady=5)\n",
    "    entry_z.insert(0, \"150\")\n",
    "\n",
    "    entry_toex = tk.Entry(prediction_section, width=10)\n",
    "    entry_toex.pack(pady=5)\n",
    "    entry_toex.insert(0, \"245\")\n",
    "\n",
    "    entry_toey = tk.Entry(prediction_section, width=10)\n",
    "    entry_toey.pack(pady=5)\n",
    "    entry_toey.insert(0, \"245\")\n",
    "\n",
    "    entry_toez = tk.Entry(prediction_section, width=10)\n",
    "    entry_toez.pack(pady=5)\n",
    "    entry_toez.insert(0, \"148\")\n",
    "\n",
    "    entry_length = tk.Entry(prediction_section, width=10)\n",
    "    entry_length.pack(pady=5)\n",
    "    entry_length.insert(0, \"120\")\n",
    "\n",
    "    entry_dip = tk.Entry(prediction_section, width=10)\n",
    "    entry_dip.pack(pady=5)\n",
    "    entry_dip.insert(0, \"40\")\n",
    "\n",
    "    entry_azimuth = tk.Entry(prediction_section, width=10)\n",
    "    entry_azimuth.pack(pady=5)\n",
    "    entry_azimuth.insert(0, \"180\")\n",
    "\n",
    "    entry_avg_disp = tk.Entry(prediction_section, width=10)\n",
    "    entry_avg_disp.pack(pady=5)\n",
    "    entry_avg_disp.insert(0, \"2\")\n",
    "\n",
    "    entry_max_disp = tk.Entry(prediction_section, width=10)\n",
    "    entry_max_disp.pack(pady=5)\n",
    "    entry_max_disp.insert(0, \"8\")\n",
    "\n",
    "    entry_centroid_shift = tk.Entry(prediction_section, width=10)\n",
    "    entry_centroid_shift.pack(pady=5)\n",
    "    entry_centroid_shift.insert(0, \"1\")\n",
    "\n",
    "    entry_earliest_pixel_disp = tk.Entry(prediction_section, width=10)\n",
    "    entry_earliest_pixel_disp.pack(pady=5)\n",
    "    entry_earliest_pixel_disp.insert(0, \"2\")\n",
    "\n",
    "    entry_ppv = tk.Entry(prediction_section, width=10)\n",
    "    entry_ppv.pack(pady=5)\n",
    "    entry_ppv.insert(0, \"5\")\n",
    "\n",
    "    entry_overpressure = tk.Entry(prediction_section, width=10)\n",
    "    entry_overpressure.pack(pady=5)\n",
    "    entry_overpressure.insert(0, \"50\")\n",
    "\n",
    "    entry_total_disp = tk.Entry(prediction_section, width=10)\n",
    "    entry_total_disp.pack(pady=5)\n",
    "    entry_total_disp.insert(0, \"15\")\n",
    "\n",
    "    def on_predict():\n",
    "        try:\n",
    "            new_data = np.array([[float(entry_x.get()), float(entry_y.get()), float(entry_z.get()), \n",
    "                                  float(entry_toex.get()), float(entry_toey.get()), float(entry_toez.get()), \n",
    "                                  float(entry_length.get()), float(entry_dip.get()), float(entry_azimuth.get()),\n",
    "                                  float(entry_avg_disp.get()), float(entry_max_disp.get()), float(entry_centroid_shift.get()),\n",
    "                                  float(entry_earliest_pixel_disp.get()), float(entry_ppv.get()), float(entry_overpressure.get()),\n",
    "                                  float(entry_total_disp.get())]])\n",
    "            predicted_rating = predict_rating(model, scaler, label_encoder, new_data, feature_columns)\n",
    "            result_label.config(text=f\"Predicted Rating: {predicted_rating}\")  # Show predicted rating as A, B, or C\n",
    "        except Exception as e:\n",
    "            messagebox.showerror(\"Error\", f\"Failed to make prediction: {e}\")\n",
    "\n",
    "    predict_button = tk.Button(prediction_section, text=\"Predict Rating\", command=on_predict)\n",
    "    predict_button.pack(pady=10)\n",
    "\n",
    "    result_label = tk.Label(prediction_section, text=\"Predicted Rating: \", font=(\"Arial\", 14))\n",
    "    result_label.pack(pady=10)\n",
    "\n",
    "    root.mainloop()\n",
    "\n",
    "# Run the UI\n",
    "create_ui()"
   ]
  },
  {
   "cell_type": "code",
   "execution_count": null,
   "id": "83c2f236-9231-4957-9ba5-f3efd82d172c",
   "metadata": {},
   "outputs": [],
   "source": []
  },
  {
   "cell_type": "code",
   "execution_count": null,
   "id": "bf70f4b1-e3bf-4a34-9938-0842dbe0f436",
   "metadata": {},
   "outputs": [],
   "source": []
  },
  {
   "cell_type": "code",
   "execution_count": null,
   "id": "837c8593-c548-4b9c-8a7e-d3c592a1d8b2",
   "metadata": {},
   "outputs": [],
   "source": []
  },
  {
   "cell_type": "code",
   "execution_count": null,
   "id": "92cb33ea-5236-4ede-96cc-33f46a13eca5",
   "metadata": {},
   "outputs": [],
   "source": []
  },
  {
   "cell_type": "code",
   "execution_count": 5,
   "id": "0de1412f-c92f-4365-9d02-8e52c9844499",
   "metadata": {},
   "outputs": [
    {
     "name": "stdout",
     "output_type": "stream",
     "text": [
      "  Pattern_Name Hole_id  Drillhole_X  Drillhole_Y  Drillhole_Z  Drillhole_ToeX  \\\n",
      "0   C1_352_108      33    429696.61   5266456.29       363.51       429696.61   \n",
      "1   C1_352_108      34    429693.97   5266462.06       363.55       429693.97   \n",
      "2   C1_352_108      35    429691.33   5266467.82       363.67       429691.33   \n",
      "3   C1_352_108      36    429688.70   5266473.58       363.54       429688.70   \n",
      "4   C1_352_108      37    429694.97   5266473.01       363.71       429694.97   \n",
      "\n",
      "   Drillhole_ToeY  Drillhole_ToeZ  Drillhole_Length  Drillhole_Dip  \\\n",
      "0      5266456.29           350.8             12.71            -90   \n",
      "1      5266462.06           350.8             12.75            -90   \n",
      "2      5266467.82           350.8             12.87            -90   \n",
      "3      5266473.58           350.8             12.74            -90   \n",
      "4      5266473.01           350.8             12.91            -90   \n",
      "\n",
      "   Drillhole_Azimuth  Avg_Displacement  Max_Displacement  Centroid_Shift  \\\n",
      "0                  0          1.633152          3.266304        0.456985   \n",
      "1                  0          1.633152          3.266304        0.456985   \n",
      "2                  0          1.633152          3.266304        0.456985   \n",
      "3                  0          1.633152          3.266304        0.456985   \n",
      "4                  0          1.633152          3.266304        0.456985   \n",
      "\n",
      "   Earliest_Pixel_Disp  PPV  Overpressure  Total_Displacement Blast_Rating  \n",
      "0             0.456985   10           120            5.334372            B  \n",
      "1             0.456985   10           120            5.334372            B  \n",
      "2             0.456985   10           120            5.334372            B  \n",
      "3             0.456985   10           120            5.334372            B  \n",
      "4             0.456985   10           120            5.334372            B  \n"
     ]
    },
    {
     "data": {
      "application/vnd.plotly.v1+json": {
       "config": {
        "plotlyServerURL": "https://plot.ly"
       },
       "data": [
        {
         "hovertemplate": "X Coordinate=%{x}<br>Y Coordinate=%{y}<br>Z Coordinate=%{z}<br>Blast Rating=%{marker.color}<extra></extra>",
         "legendgroup": "",
         "marker": {
          "color": [
           0,
           0,
           0,
           0,
           0,
           0,
           0,
           0,
           0,
           0,
           0,
           0,
           0,
           0,
           0,
           0,
           0,
           0,
           0,
           0,
           0,
           0,
           0,
           0,
           0,
           0,
           0,
           0,
           0,
           0,
           0,
           0,
           0,
           0,
           0,
           0,
           0,
           0,
           0,
           0,
           0,
           0,
           0,
           0,
           0,
           0,
           0,
           0,
           0,
           0,
           0,
           0,
           0,
           0,
           0,
           0,
           0,
           0,
           0,
           0,
           0,
           0,
           0,
           0,
           0,
           0,
           0,
           0,
           0,
           0,
           0,
           0,
           0,
           0,
           0,
           0,
           0,
           0,
           0,
           0,
           0,
           0,
           0,
           0,
           0,
           0,
           0,
           0,
           0,
           0,
           0,
           0,
           0,
           0,
           0,
           0,
           0,
           0,
           0,
           0,
           0,
           0,
           0,
           0,
           0,
           0,
           0,
           0,
           0,
           0,
           0,
           0,
           0,
           0,
           0,
           0,
           0,
           0,
           0,
           0,
           0,
           0,
           0,
           0,
           0,
           0,
           0,
           0,
           0,
           0,
           0,
           0,
           0,
           0,
           0,
           0,
           0,
           0,
           0,
           0,
           0,
           0,
           0,
           0,
           0,
           0,
           0,
           0,
           0,
           0,
           0,
           0,
           0,
           0,
           0,
           0,
           0,
           0,
           0,
           0,
           0,
           0,
           0,
           0,
           0,
           0,
           0,
           0,
           0,
           0,
           0,
           0,
           0,
           0,
           0,
           0,
           0,
           0,
           0,
           0,
           0,
           0,
           0,
           0,
           0,
           0,
           0,
           0,
           0,
           0,
           0,
           0,
           0,
           0,
           0,
           0,
           0,
           0,
           0,
           0,
           0,
           0,
           0,
           0,
           0,
           0,
           0,
           0,
           0,
           0,
           0,
           0,
           0,
           0,
           0,
           0,
           0,
           0,
           0,
           0,
           0,
           0,
           0,
           0,
           0,
           0,
           0,
           0,
           0,
           0,
           0,
           0,
           0,
           0,
           0,
           0,
           0,
           0,
           0,
           0,
           0,
           0,
           0,
           0,
           0,
           0,
           0,
           0,
           0,
           0,
           0,
           0,
           0,
           0,
           0,
           0,
           0,
           0,
           0,
           0,
           0,
           0,
           0,
           0,
           0,
           0,
           0,
           0,
           0,
           0,
           0,
           0,
           0,
           0,
           0,
           0,
           0,
           0,
           0,
           0,
           0,
           0,
           0,
           0,
           0,
           0,
           0,
           0,
           0,
           0,
           0,
           0,
           0,
           0,
           0,
           0,
           0,
           0,
           0,
           0,
           0,
           0,
           0,
           0,
           0,
           0,
           0,
           0,
           0,
           0,
           0,
           0,
           0,
           0,
           0,
           0,
           0,
           0,
           0,
           0,
           0,
           0,
           0,
           0,
           0,
           0,
           0,
           0,
           0,
           0,
           0,
           0,
           0,
           0,
           0,
           0,
           0,
           0,
           0,
           0,
           0,
           0,
           0,
           0,
           0,
           0,
           0,
           0,
           0,
           0,
           0,
           0,
           0,
           0,
           0,
           0,
           0,
           0,
           0,
           0,
           0,
           0,
           0,
           0,
           0,
           0,
           0
          ],
          "coloraxis": "coloraxis",
          "size": 12,
          "symbol": "circle"
         },
         "mode": "markers",
         "name": "",
         "scene": "scene",
         "showlegend": false,
         "type": "scatter3d",
         "x": [
          429696.61,
          429693.97,
          429691.33,
          429688.7,
          429694.97,
          429697.61,
          429700.25,
          429703.88,
          429701.24,
          429707.52,
          429737.89,
          429740.53,
          429743.17,
          429745.81,
          429748.45,
          429751.09,
          429753.73,
          429756.37,
          429759.01,
          429761.65,
          429764.29,
          429766.93,
          429769.57,
          429772.21,
          429778.48,
          429775.84,
          429773.2,
          429770.56,
          429767.92,
          429765.28,
          429762.64,
          429760,
          429757.37,
          429754.73,
          429752.09,
          429749.45,
          429746.81,
          429755.72,
          429758.36,
          429761,
          429763.64,
          429766.28,
          429768.92,
          429771.56,
          429774.2,
          429776.84,
          429779.48,
          429782.12,
          429784.76,
          429791.03,
          429788.39,
          429785.75,
          429783.11,
          429781.09,
          429777.83,
          429774.92,
          429772.55,
          429769.91,
          429767.27,
          429764.63,
          429760.83,
          429768.27,
          429770.91,
          429773.55,
          429776.19,
          429778.8,
          429780.85,
          429784.11,
          429786.75,
          429789.39,
          429792.02,
          429794.66,
          429798.3,
          429795.66,
          429793.02,
          429790.38,
          429787.78,
          429785.1,
          429782.46,
          429779.82,
          429777.18,
          429774.54,
          429780.82,
          429783.46,
          429786.1,
          429788.74,
          429791.38,
          429794.02,
          429796.65,
          429799.29,
          429801.93,
          429805.57,
          429802.93,
          429800.29,
          429797.65,
          429795.01,
          429792.37,
          429789.73,
          429787.09,
          429789.57,
          429792.62,
          429794.85,
          429793.25,
          429796.01,
          429798.64,
          429801.28,
          429803.92,
          429806.56,
          429809.2,
          429812.84,
          429810.09,
          429807.56,
          429804.92,
          429802.28,
          429799.64,
          429800.12,
          429797.9,
          429795.68,
          429798.73,
          429800.96,
          429803.18,
          429805.4,
          429806.25,
          429808.55,
          429811.19,
          429813.83,
          429816.47,
          429820.11,
          429817.47,
          429814.83,
          429812.19,
          429810.68,
          429808.46,
          429806.23,
          429804.01,
          429809.29,
          429811.51,
          429813.74,
          429815.96,
          429818.46,
          429820.68,
          429823.74,
          429826.55,
          429823.92,
          429821.24,
          429819.01,
          429816.79,
          429814.57,
          429819.85,
          429822.07,
          429824.29,
          429826.52,
          429828.91,
          429831.79,
          429829.57,
          429827.35,
          429825.12,
          429830.4,
          429832.63,
          429834.85,
          429837.9,
          429835.68,
          429840.96,
          429660.66,
          429662.88,
          429665.54,
          429668.39,
          429671.03,
          429673.63,
          429676.07,
          429678.17,
          429679.2,
          429677.51,
          429675.55,
          429673.22,
          429671.36,
          429669.56,
          429667.35,
          429665.41,
          429666.53,
          429669.56,
          429672.81,
          429674.67,
          429675.98,
          429678.87,
          429680.55,
          429681.93,
          429682.89,
          429686.49,
          429684.35,
          429681.74,
          429678.95,
          429677.77,
          429674.99,
          429672.15,
          429677.86,
          429680.26,
          429682.67,
          429685.08,
          429687.49,
          429689.28,
          429692.75,
          429691.18,
          429688.82,
          429686.64,
          429685.28,
          429683.23,
          429656.67,
          429662.06,
          429763.52,
          429765.2,
          429766.87,
          429768.55,
          429772.53,
          429770.86,
          429769.18,
          429767.51,
          429765.83,
          429764.16,
          429663.28,
          429762.48,
          429760.81,
          429764.79,
          429766.46,
          429768.14,
          429769.82,
          429771.49,
          429773.17,
          429774.84,
          429775.79,
          429664.26,
          429780.5,
          429778.82,
          429777.15,
          429775.47,
          429773.8,
          429772.12,
          429770.45,
          429768.77,
          429772.76,
          429774.43,
          429665.47,
          429776.11,
          429777.78,
          429779.46,
          429781.13,
          429782.81,
          429784.48,
          429786.79,
          429785.12,
          429783.44,
          429781.77,
          429668.42,
          429780.09,
          429778.42,
          429776.74,
          429780.72,
          429782.4,
          429784.07,
          429785.75,
          429787.42,
          429789.1,
          429791.41,
          429666.88,
          429789.73,
          429788.06,
          429786.38,
          429784.71,
          429788.69,
          429790.37,
          429792.04,
          429793.72,
          429796.03,
          429794.35,
          429665.2,
          429792.67,
          429669.18,
          429670.86,
          429672.42,
          429657.92,
          429676.47,
          429674.84,
          429673.17,
          429677.15,
          429678.83,
          429682.81,
          429681.13,
          429685.12,
          429686.79,
          429690.78,
          429659.36,
          429689.1,
          429693.09,
          429694.76,
          429698.74,
          429697.07,
          429701.05,
          429702.73,
          429706.71,
          429705.04,
          429709.02,
          429661.65,
          429710.69,
          429714.68,
          429713,
          429716.99,
          429718.66,
          429722.65,
          429720.97,
          429724.95,
          429726.63,
          429732.29,
          429660.34,
          429730.61,
          429728.94,
          429732.92,
          429734.6,
          429736.27,
          429737.95,
          429739.62,
          429741.3,
          429745.28,
          429743.61,
          429659.67,
          429741.93,
          429740.25,
          429738.58,
          429736.9,
          429740.89,
          429742.56,
          429744.24,
          429745.91,
          429747.59,
          429749.26,
          429657.53,
          429750.94,
          429752.61,
          429756.6,
          429754.92,
          429753.25,
          429751.57,
          429749.9,
          429748.22,
          429746.55,
          429744.87,
          429658.34,
          429748.86,
          429750.53,
          429752.21,
          429753.88,
          429755.56,
          429757.23,
          429758.91,
          429760.58,
          429764.57,
          429762.89,
          429661.22,
          429761.21,
          429759.54,
          429757.86,
          429756.19,
          429754.51,
          429752.84,
          429756.82,
          429758.5,
          429760.17,
          429761.85
         ],
         "y": [
          5266456.29,
          5266462.06,
          5266467.82,
          5266473.58,
          5266473.01,
          5266467.25,
          5266461.49,
          5266466.68,
          5266472.44,
          5266471.87,
          5266458.07,
          5266452.3,
          5266446.54,
          5266440.78,
          5266435.02,
          5266429.25,
          5266423.49,
          5266417.73,
          5266411.97,
          5266406.2,
          5266400.44,
          5266394.68,
          5266388.92,
          5266383.15,
          5266382.58,
          5266388.35,
          5266394.11,
          5266399.87,
          5266405.63,
          5266411.4,
          5266417.16,
          5266422.92,
          5266428.68,
          5266434.45,
          5266440.21,
          5266445.97,
          5266451.73,
          5266445.4,
          5266439.64,
          5266433.88,
          5266428.11,
          5266422.35,
          5266416.59,
          5266410.83,
          5266405.06,
          5266399.3,
          5266393.54,
          5266387.78,
          5266382.01,
          5266381.44,
          5266387.21,
          5266392.97,
          5266398.73,
          5266404.78,
          5266410.26,
          5266415.94,
          5266421.78,
          5266427.54,
          5266433.31,
          5266439.07,
          5266444.83,
          5266444.26,
          5266438.5,
          5266432.74,
          5266426.97,
          5266421.28,
          5266416.02,
          5266409.69,
          5266403.92,
          5266398.16,
          5266392.4,
          5266386.64,
          5266391.83,
          5266397.59,
          5266403.35,
          5266409.12,
          5266415.1,
          5266420.64,
          5266426.4,
          5266432.17,
          5266437.93,
          5266443.69,
          5266443.12,
          5266437.36,
          5266431.6,
          5266425.83,
          5266420.07,
          5266414.31,
          5266408.55,
          5266402.78,
          5266397.02,
          5266402.21,
          5266407.98,
          5266413.74,
          5266419.5,
          5266425.26,
          5266431.03,
          5266436.79,
          5266442.55,
          5266446.04,
          5266450.38,
          5266445.56,
          5266441.91,
          5266436.22,
          5266430.46,
          5266424.69,
          5266418.93,
          5266413.17,
          5266407.41,
          5266412.6,
          5266418.03,
          5266424.12,
          5266429.89,
          5266435.65,
          5266441.41,
          5266445.08,
          5266449.9,
          5266454.72,
          5266459.07,
          5266454.24,
          5266449.42,
          5266444.6,
          5266440.79,
          5266435.08,
          5266429.32,
          5266423.55,
          5266417.79,
          5266422.98,
          5266428.75,
          5266434.51,
          5266440.27,
          5266444.12,
          5266448.94,
          5266453.77,
          5266458.59,
          5266458.11,
          5266453.29,
          5266448.47,
          5266443.64,
          5266439.7,
          5266434.04,
          5266428.18,
          5266432.92,
          5266439.27,
          5266443.16,
          5266447.99,
          5266452.81,
          5266457.63,
          5266457.15,
          5266452.33,
          5266447.51,
          5266442.69,
          5266438.63,
          5266442.21,
          5266447.03,
          5266451.85,
          5266456.67,
          5266456.19,
          5266451.37,
          5266446.55,
          5266450.89,
          5266455.71,
          5266455.23,
          5266469.27,
          5266463.73,
          5266458.5,
          5266452.27,
          5266446.51,
          5266440.84,
          5266435.5,
          5266430.93,
          5266435.78,
          5266439.7,
          5266444.52,
          5266449.8,
          5266455.2,
          5266459.67,
          5266463.64,
          5266466.93,
          5266470.21,
          5266466.9,
          5266462.63,
          5266458.24,
          5266453.26,
          5266448.26,
          5266443.95,
          5266440.2,
          5266435.83,
          5266441.09,
          5266446.87,
          5266452.7,
          5266458.04,
          5266462.83,
          5266467.37,
          5266470.99,
          5266472.87,
          5266467.97,
          5266462.69,
          5266457.42,
          5266452.14,
          5266445.84,
          5266450.7,
          5266456.14,
          5266461.29,
          5266466.07,
          5266469.04,
          5266473.4,
          5266478.03,
          5266480.06,
          5266458.8,
          5266455.13,
          5266451.47,
          5266447.8,
          5266447.44,
          5266451.11,
          5266454.77,
          5266458.44,
          5266462.11,
          5266465.77,
          5266478.04,
          5266469.44,
          5266473.1,
          5266472.74,
          5266469.08,
          5266465.41,
          5266461.74,
          5266458.08,
          5266454.41,
          5266450.74,
          5266448.14,
          5266475.48,
          5266446.72,
          5266450.38,
          5266454.05,
          5266457.71,
          5266461.38,
          5266465.05,
          5266468.71,
          5266472.38,
          5266472.02,
          5266468.35,
          5266473.22,
          5266464.69,
          5266461.02,
          5266457.35,
          5266453.69,
          5266450.02,
          5266446.35,
          5266449.66,
          5266453.32,
          5266456.99,
          5266460.66,
          5266474.39,
          5266464.32,
          5266467.99,
          5266471.66,
          5266471.3,
          5266467.63,
          5266463.96,
          5266460.3,
          5266456.63,
          5266452.96,
          5266456.27,
          5266478.12,
          5266459.93,
          5266463.6,
          5266467.27,
          5266470.93,
          5266470.57,
          5266466.91,
          5266463.24,
          5266459.57,
          5266462.88,
          5266466.54,
          5266481.79,
          5266470.21,
          5266481.43,
          5266477.76,
          5266474.09,
          5266475.37,
          5266475.18,
          5266477.4,
          5266481.07,
          5266480.7,
          5266477.04,
          5266476.68,
          5266480.34,
          5266479.98,
          5266476.31,
          5266475.95,
          5266472.39,
          5266479.62,
          5266479.26,
          5266475.59,
          5266475.23,
          5266478.9,
          5266478.53,
          5266474.87,
          5266474.5,
          5266478.17,
          5266477.81,
          5266473.24,
          5266474.14,
          5266473.78,
          5266477.45,
          5266477.09,
          5266473.42,
          5266473.06,
          5266476.72,
          5266476.36,
          5266472.7,
          5266468.67,
          5266475.99,
          5266472.33,
          5266476,
          5266475.64,
          5266471.97,
          5266468.3,
          5266464.64,
          5266460.97,
          5266457.31,
          5266456.94,
          5266460.61,
          5266478.84,
          5266464.28,
          5266467.94,
          5266471.61,
          5266475.28,
          5266474.91,
          5266471.25,
          5266467.58,
          5266463.91,
          5266460.25,
          5266456.58,
          5266480.15,
          5266452.91,
          5266449.25,
          5266448.89,
          5266452.55,
          5266456.22,
          5266459.89,
          5266463.55,
          5266467.22,
          5266470.89,
          5266474.55,
          5266482.23,
          5266474.19,
          5266470.52,
          5266466.86,
          5266463.19,
          5266459.52,
          5266455.86,
          5266452.19,
          5266448.52,
          5266448.16,
          5266451.83,
          5266482.15,
          5266455.5,
          5266459.16,
          5266462.83,
          5266466.5,
          5266470.16,
          5266473.83,
          5266473.47,
          5266469.8,
          5266466.13,
          5266462.47
         ],
         "z": [
          363.51,
          363.55,
          363.67,
          363.54,
          363.71,
          363.68,
          363.59,
          363.6,
          363.82,
          363.92,
          363.98,
          363.7,
          363.67,
          363.54,
          363.42,
          363.41,
          363.83,
          363.61,
          363.46,
          363.67,
          364.1,
          363.84,
          363.72,
          363.56,
          363.57,
          363.67,
          363.84,
          363.97,
          363.79,
          363.47,
          363.48,
          363.74,
          363.5,
          363.52,
          363.59,
          363.74,
          363.77,
          363.75,
          363.68,
          363.61,
          363.56,
          363.46,
          363.47,
          363.47,
          363.72,
          364.01,
          363.73,
          363.42,
          363.39,
          363.35,
          363.4,
          363.43,
          363.58,
          363.6,
          363.47,
          363.51,
          363.52,
          363.6,
          364.03,
          363.68,
          363.7,
          363.68,
          363.8,
          363.79,
          363.6,
          363.51,
          363.44,
          363.52,
          363.47,
          363.41,
          363.39,
          363.39,
          363.5,
          363.51,
          363.48,
          363.48,
          363.51,
          363.54,
          363.62,
          363.73,
          364.81,
          363.75,
          364.16,
          363.87,
          363.66,
          363.52,
          363.51,
          363.36,
          363.47,
          363.51,
          363.57,
          363.58,
          363.48,
          363.49,
          363.46,
          368.66,
          363.51,
          363.72,
          364.17,
          364.87,
          365.07,
          363.67,
          363.7,
          363.55,
          363.5,
          366.99,
          363.48,
          363.47,
          363.54,
          363.51,
          363.48,
          363.38,
          363.54,
          363.45,
          363.61,
          363.65,
          363.66,
          364.57,
          366.3,
          363.81,
          363.61,
          363.54,
          363.49,
          363.5,
          363.41,
          363.42,
          363.48,
          363.5,
          363.5,
          363.61,
          363.61,
          363.58,
          363.59,
          363.65,
          364.88,
          363.92,
          363.53,
          363.52,
          363.71,
          363.68,
          363.67,
          363.57,
          363.59,
          363.7,
          363.7,
          363.68,
          363.54,
          363.55,
          363.68,
          363.76,
          363.71,
          363.69,
          363.64,
          363.6,
          363.64,
          363.77,
          363.77,
          363.77,
          363.7,
          363.64,
          363.76,
          363.78,
          363.82,
          363.45,
          363.44,
          363.62,
          363.64,
          363.63,
          363.89,
          364.01,
          363.73,
          363.67,
          363.69,
          363.68,
          363.8,
          363.71,
          363.42,
          363.34,
          363.29,
          363.27,
          363.38,
          363.46,
          363.6,
          363.72,
          363.81,
          363.62,
          363.61,
          363.62,
          363.69,
          363.79,
          363.69,
          363.73,
          363.59,
          363.37,
          363.32,
          363.39,
          363.55,
          363.66,
          363.75,
          363.76,
          363.77,
          363.82,
          363.87,
          363.77,
          363.66,
          363.53,
          363.49,
          365.11,
          363.72,
          363.72,
          363.69,
          363.7,
          363.74,
          363.77,
          363.68,
          363.65,
          363.41,
          363.51,
          364.03,
          363.36,
          364.69,
          362.41,
          361.62,
          363.49,
          364.15,
          363.36,
          363.53,
          363.82,
          363.68,
          363.59,
          363.15,
          363.71,
          363.82,
          364.31,
          364.09,
          363.61,
          364.1,
          362.92,
          360.81,
          360.44,
          363.37,
          363.01,
          364.11,
          364,
          364.26,
          364.34,
          363.96,
          363.89,
          364.06,
          364.38,
          364.26,
          363.98,
          363.04,
          364.27,
          364,
          361.59,
          363.59,
          363.82,
          364.53,
          363.92,
          364.37,
          364.41,
          364.25,
          363.07,
          363.96,
          364.53,
          364.87,
          364.21,
          363.8,
          364.07,
          365.03,
          364.01,
          364.87,
          363.67,
          364.57,
          362.84,
          364.18,
          363.13,
          363.03,
          364.17,
          363.14,
          363.22,
          364.18,
          363.8,
          363.22,
          363.38,
          363.47,
          363.73,
          363.52,
          363.62,
          363.85,
          363.97,
          364.16,
          363.76,
          363.8,
          363.9,
          363.83,
          363.86,
          364.07,
          363.98,
          364.23,
          363.28,
          364.23,
          364.34,
          364.32,
          364.4,
          364.33,
          364.43,
          364.7,
          366.09,
          364.18,
          363.8,
          363.52,
          364.04,
          364.58,
          363.8,
          363.63,
          363.88,
          364.41,
          364.17,
          363.98,
          363.99,
          364.21,
          363.46,
          364.59,
          364.78,
          363.93,
          363.46,
          363.83,
          364.2,
          364.66,
          364.3,
          364.15,
          363.91,
          364.39,
          363.89,
          363.82,
          363.72,
          363.75,
          363.95,
          364.02,
          364.24,
          364.33,
          364.34,
          364.62,
          364.94,
          363.34,
          365.04,
          364.19,
          364.11,
          364.01,
          363.7,
          363.75,
          363.73,
          363.77,
          363.73,
          364.88,
          363.67,
          363.84,
          364.02,
          364.2,
          365.1,
          363.6,
          362.79,
          364.4,
          363.94,
          363.77
         ]
        }
       ],
       "layout": {
        "autosize": true,
        "coloraxis": {
         "colorbar": {
          "title": {
           "text": "Blast Rating"
          }
         },
         "colorscale": [
          [
           0,
           "#0d0887"
          ],
          [
           0.1111111111111111,
           "#46039f"
          ],
          [
           0.2222222222222222,
           "#7201a8"
          ],
          [
           0.3333333333333333,
           "#9c179e"
          ],
          [
           0.4444444444444444,
           "#bd3786"
          ],
          [
           0.5555555555555556,
           "#d8576b"
          ],
          [
           0.6666666666666666,
           "#ed7953"
          ],
          [
           0.7777777777777778,
           "#fb9f3a"
          ],
          [
           0.8888888888888888,
           "#fdca26"
          ],
          [
           1,
           "#f0f921"
          ]
         ]
        },
        "legend": {
         "tracegroupgap": 0
        },
        "scene": {
         "aspectmode": "auto",
         "aspectratio": {
          "x": 1,
          "y": 1,
          "z": 1
         },
         "camera": {
          "center": {
           "x": 0,
           "y": 0,
           "z": 0
          },
          "eye": {
           "x": 0.6735978061417038,
           "y": 0.6735978061417037,
           "z": 0.6735978061417038
          },
          "projection": {
           "type": "perspective"
          },
          "up": {
           "x": 0,
           "y": 0,
           "z": 1
          }
         },
         "domain": {
          "x": [
           0,
           1
          ],
          "y": [
           0,
           1
          ]
         },
         "xaxis": {
          "title": {
           "text": "X Coordinate"
          },
          "type": "linear"
         },
         "yaxis": {
          "title": {
           "text": "Y Coordinate"
          },
          "type": "linear"
         },
         "zaxis": {
          "title": {
           "text": "Z Coordinate"
          },
          "type": "linear"
         }
        },
        "template": {
         "data": {
          "bar": [
           {
            "error_x": {
             "color": "#2a3f5f"
            },
            "error_y": {
             "color": "#2a3f5f"
            },
            "marker": {
             "line": {
              "color": "#E5ECF6",
              "width": 0.5
             },
             "pattern": {
              "fillmode": "overlay",
              "size": 10,
              "solidity": 0.2
             }
            },
            "type": "bar"
           }
          ],
          "barpolar": [
           {
            "marker": {
             "line": {
              "color": "#E5ECF6",
              "width": 0.5
             },
             "pattern": {
              "fillmode": "overlay",
              "size": 10,
              "solidity": 0.2
             }
            },
            "type": "barpolar"
           }
          ],
          "carpet": [
           {
            "aaxis": {
             "endlinecolor": "#2a3f5f",
             "gridcolor": "white",
             "linecolor": "white",
             "minorgridcolor": "white",
             "startlinecolor": "#2a3f5f"
            },
            "baxis": {
             "endlinecolor": "#2a3f5f",
             "gridcolor": "white",
             "linecolor": "white",
             "minorgridcolor": "white",
             "startlinecolor": "#2a3f5f"
            },
            "type": "carpet"
           }
          ],
          "choropleth": [
           {
            "colorbar": {
             "outlinewidth": 0,
             "ticks": ""
            },
            "type": "choropleth"
           }
          ],
          "contour": [
           {
            "colorbar": {
             "outlinewidth": 0,
             "ticks": ""
            },
            "colorscale": [
             [
              0,
              "#0d0887"
             ],
             [
              0.1111111111111111,
              "#46039f"
             ],
             [
              0.2222222222222222,
              "#7201a8"
             ],
             [
              0.3333333333333333,
              "#9c179e"
             ],
             [
              0.4444444444444444,
              "#bd3786"
             ],
             [
              0.5555555555555556,
              "#d8576b"
             ],
             [
              0.6666666666666666,
              "#ed7953"
             ],
             [
              0.7777777777777778,
              "#fb9f3a"
             ],
             [
              0.8888888888888888,
              "#fdca26"
             ],
             [
              1,
              "#f0f921"
             ]
            ],
            "type": "contour"
           }
          ],
          "contourcarpet": [
           {
            "colorbar": {
             "outlinewidth": 0,
             "ticks": ""
            },
            "type": "contourcarpet"
           }
          ],
          "heatmap": [
           {
            "colorbar": {
             "outlinewidth": 0,
             "ticks": ""
            },
            "colorscale": [
             [
              0,
              "#0d0887"
             ],
             [
              0.1111111111111111,
              "#46039f"
             ],
             [
              0.2222222222222222,
              "#7201a8"
             ],
             [
              0.3333333333333333,
              "#9c179e"
             ],
             [
              0.4444444444444444,
              "#bd3786"
             ],
             [
              0.5555555555555556,
              "#d8576b"
             ],
             [
              0.6666666666666666,
              "#ed7953"
             ],
             [
              0.7777777777777778,
              "#fb9f3a"
             ],
             [
              0.8888888888888888,
              "#fdca26"
             ],
             [
              1,
              "#f0f921"
             ]
            ],
            "type": "heatmap"
           }
          ],
          "heatmapgl": [
           {
            "colorbar": {
             "outlinewidth": 0,
             "ticks": ""
            },
            "colorscale": [
             [
              0,
              "#0d0887"
             ],
             [
              0.1111111111111111,
              "#46039f"
             ],
             [
              0.2222222222222222,
              "#7201a8"
             ],
             [
              0.3333333333333333,
              "#9c179e"
             ],
             [
              0.4444444444444444,
              "#bd3786"
             ],
             [
              0.5555555555555556,
              "#d8576b"
             ],
             [
              0.6666666666666666,
              "#ed7953"
             ],
             [
              0.7777777777777778,
              "#fb9f3a"
             ],
             [
              0.8888888888888888,
              "#fdca26"
             ],
             [
              1,
              "#f0f921"
             ]
            ],
            "type": "heatmapgl"
           }
          ],
          "histogram": [
           {
            "marker": {
             "pattern": {
              "fillmode": "overlay",
              "size": 10,
              "solidity": 0.2
             }
            },
            "type": "histogram"
           }
          ],
          "histogram2d": [
           {
            "colorbar": {
             "outlinewidth": 0,
             "ticks": ""
            },
            "colorscale": [
             [
              0,
              "#0d0887"
             ],
             [
              0.1111111111111111,
              "#46039f"
             ],
             [
              0.2222222222222222,
              "#7201a8"
             ],
             [
              0.3333333333333333,
              "#9c179e"
             ],
             [
              0.4444444444444444,
              "#bd3786"
             ],
             [
              0.5555555555555556,
              "#d8576b"
             ],
             [
              0.6666666666666666,
              "#ed7953"
             ],
             [
              0.7777777777777778,
              "#fb9f3a"
             ],
             [
              0.8888888888888888,
              "#fdca26"
             ],
             [
              1,
              "#f0f921"
             ]
            ],
            "type": "histogram2d"
           }
          ],
          "histogram2dcontour": [
           {
            "colorbar": {
             "outlinewidth": 0,
             "ticks": ""
            },
            "colorscale": [
             [
              0,
              "#0d0887"
             ],
             [
              0.1111111111111111,
              "#46039f"
             ],
             [
              0.2222222222222222,
              "#7201a8"
             ],
             [
              0.3333333333333333,
              "#9c179e"
             ],
             [
              0.4444444444444444,
              "#bd3786"
             ],
             [
              0.5555555555555556,
              "#d8576b"
             ],
             [
              0.6666666666666666,
              "#ed7953"
             ],
             [
              0.7777777777777778,
              "#fb9f3a"
             ],
             [
              0.8888888888888888,
              "#fdca26"
             ],
             [
              1,
              "#f0f921"
             ]
            ],
            "type": "histogram2dcontour"
           }
          ],
          "mesh3d": [
           {
            "colorbar": {
             "outlinewidth": 0,
             "ticks": ""
            },
            "type": "mesh3d"
           }
          ],
          "parcoords": [
           {
            "line": {
             "colorbar": {
              "outlinewidth": 0,
              "ticks": ""
             }
            },
            "type": "parcoords"
           }
          ],
          "pie": [
           {
            "automargin": true,
            "type": "pie"
           }
          ],
          "scatter": [
           {
            "fillpattern": {
             "fillmode": "overlay",
             "size": 10,
             "solidity": 0.2
            },
            "type": "scatter"
           }
          ],
          "scatter3d": [
           {
            "line": {
             "colorbar": {
              "outlinewidth": 0,
              "ticks": ""
             }
            },
            "marker": {
             "colorbar": {
              "outlinewidth": 0,
              "ticks": ""
             }
            },
            "type": "scatter3d"
           }
          ],
          "scattercarpet": [
           {
            "marker": {
             "colorbar": {
              "outlinewidth": 0,
              "ticks": ""
             }
            },
            "type": "scattercarpet"
           }
          ],
          "scattergeo": [
           {
            "marker": {
             "colorbar": {
              "outlinewidth": 0,
              "ticks": ""
             }
            },
            "type": "scattergeo"
           }
          ],
          "scattergl": [
           {
            "marker": {
             "colorbar": {
              "outlinewidth": 0,
              "ticks": ""
             }
            },
            "type": "scattergl"
           }
          ],
          "scattermapbox": [
           {
            "marker": {
             "colorbar": {
              "outlinewidth": 0,
              "ticks": ""
             }
            },
            "type": "scattermapbox"
           }
          ],
          "scatterpolar": [
           {
            "marker": {
             "colorbar": {
              "outlinewidth": 0,
              "ticks": ""
             }
            },
            "type": "scatterpolar"
           }
          ],
          "scatterpolargl": [
           {
            "marker": {
             "colorbar": {
              "outlinewidth": 0,
              "ticks": ""
             }
            },
            "type": "scatterpolargl"
           }
          ],
          "scatterternary": [
           {
            "marker": {
             "colorbar": {
              "outlinewidth": 0,
              "ticks": ""
             }
            },
            "type": "scatterternary"
           }
          ],
          "surface": [
           {
            "colorbar": {
             "outlinewidth": 0,
             "ticks": ""
            },
            "colorscale": [
             [
              0,
              "#0d0887"
             ],
             [
              0.1111111111111111,
              "#46039f"
             ],
             [
              0.2222222222222222,
              "#7201a8"
             ],
             [
              0.3333333333333333,
              "#9c179e"
             ],
             [
              0.4444444444444444,
              "#bd3786"
             ],
             [
              0.5555555555555556,
              "#d8576b"
             ],
             [
              0.6666666666666666,
              "#ed7953"
             ],
             [
              0.7777777777777778,
              "#fb9f3a"
             ],
             [
              0.8888888888888888,
              "#fdca26"
             ],
             [
              1,
              "#f0f921"
             ]
            ],
            "type": "surface"
           }
          ],
          "table": [
           {
            "cells": {
             "fill": {
              "color": "#EBF0F8"
             },
             "line": {
              "color": "white"
             }
            },
            "header": {
             "fill": {
              "color": "#C8D4E3"
             },
             "line": {
              "color": "white"
             }
            },
            "type": "table"
           }
          ]
         },
         "layout": {
          "annotationdefaults": {
           "arrowcolor": "#2a3f5f",
           "arrowhead": 0,
           "arrowwidth": 1
          },
          "autotypenumbers": "strict",
          "coloraxis": {
           "colorbar": {
            "outlinewidth": 0,
            "ticks": ""
           }
          },
          "colorscale": {
           "diverging": [
            [
             0,
             "#8e0152"
            ],
            [
             0.1,
             "#c51b7d"
            ],
            [
             0.2,
             "#de77ae"
            ],
            [
             0.3,
             "#f1b6da"
            ],
            [
             0.4,
             "#fde0ef"
            ],
            [
             0.5,
             "#f7f7f7"
            ],
            [
             0.6,
             "#e6f5d0"
            ],
            [
             0.7,
             "#b8e186"
            ],
            [
             0.8,
             "#7fbc41"
            ],
            [
             0.9,
             "#4d9221"
            ],
            [
             1,
             "#276419"
            ]
           ],
           "sequential": [
            [
             0,
             "#0d0887"
            ],
            [
             0.1111111111111111,
             "#46039f"
            ],
            [
             0.2222222222222222,
             "#7201a8"
            ],
            [
             0.3333333333333333,
             "#9c179e"
            ],
            [
             0.4444444444444444,
             "#bd3786"
            ],
            [
             0.5555555555555556,
             "#d8576b"
            ],
            [
             0.6666666666666666,
             "#ed7953"
            ],
            [
             0.7777777777777778,
             "#fb9f3a"
            ],
            [
             0.8888888888888888,
             "#fdca26"
            ],
            [
             1,
             "#f0f921"
            ]
           ],
           "sequentialminus": [
            [
             0,
             "#0d0887"
            ],
            [
             0.1111111111111111,
             "#46039f"
            ],
            [
             0.2222222222222222,
             "#7201a8"
            ],
            [
             0.3333333333333333,
             "#9c179e"
            ],
            [
             0.4444444444444444,
             "#bd3786"
            ],
            [
             0.5555555555555556,
             "#d8576b"
            ],
            [
             0.6666666666666666,
             "#ed7953"
            ],
            [
             0.7777777777777778,
             "#fb9f3a"
            ],
            [
             0.8888888888888888,
             "#fdca26"
            ],
            [
             1,
             "#f0f921"
            ]
           ]
          },
          "colorway": [
           "#636efa",
           "#EF553B",
           "#00cc96",
           "#ab63fa",
           "#FFA15A",
           "#19d3f3",
           "#FF6692",
           "#B6E880",
           "#FF97FF",
           "#FECB52"
          ],
          "font": {
           "color": "#2a3f5f"
          },
          "geo": {
           "bgcolor": "white",
           "lakecolor": "white",
           "landcolor": "#E5ECF6",
           "showlakes": true,
           "showland": true,
           "subunitcolor": "white"
          },
          "hoverlabel": {
           "align": "left"
          },
          "hovermode": "closest",
          "mapbox": {
           "style": "light"
          },
          "paper_bgcolor": "white",
          "plot_bgcolor": "#E5ECF6",
          "polar": {
           "angularaxis": {
            "gridcolor": "white",
            "linecolor": "white",
            "ticks": ""
           },
           "bgcolor": "#E5ECF6",
           "radialaxis": {
            "gridcolor": "white",
            "linecolor": "white",
            "ticks": ""
           }
          },
          "scene": {
           "xaxis": {
            "backgroundcolor": "#E5ECF6",
            "gridcolor": "white",
            "gridwidth": 2,
            "linecolor": "white",
            "showbackground": true,
            "ticks": "",
            "zerolinecolor": "white"
           },
           "yaxis": {
            "backgroundcolor": "#E5ECF6",
            "gridcolor": "white",
            "gridwidth": 2,
            "linecolor": "white",
            "showbackground": true,
            "ticks": "",
            "zerolinecolor": "white"
           },
           "zaxis": {
            "backgroundcolor": "#E5ECF6",
            "gridcolor": "white",
            "gridwidth": 2,
            "linecolor": "white",
            "showbackground": true,
            "ticks": "",
            "zerolinecolor": "white"
           }
          },
          "shapedefaults": {
           "line": {
            "color": "#2a3f5f"
           }
          },
          "ternary": {
           "aaxis": {
            "gridcolor": "white",
            "linecolor": "white",
            "ticks": ""
           },
           "baxis": {
            "gridcolor": "white",
            "linecolor": "white",
            "ticks": ""
           },
           "bgcolor": "#E5ECF6",
           "caxis": {
            "gridcolor": "white",
            "linecolor": "white",
            "ticks": ""
           }
          },
          "title": {
           "x": 0.05
          },
          "xaxis": {
           "automargin": true,
           "gridcolor": "white",
           "linecolor": "white",
           "ticks": "",
           "title": {
            "standoff": 15
           },
           "zerolinecolor": "white",
           "zerolinewidth": 2
          },
          "yaxis": {
           "automargin": true,
           "gridcolor": "white",
           "linecolor": "white",
           "ticks": "",
           "title": {
            "standoff": 15
           },
           "zerolinecolor": "white",
           "zerolinewidth": 2
          }
         }
        },
        "title": {
         "text": "Drillhole Blast Positions"
        }
       }
      },
      "image/png": "[encoded data removed]",
      "text/html": [
       "<div>                            <div id=\"823e4e81-43d8-4455-aa4b-7385eda4871c\" class=\"plotly-graph-div\" style=\"height:525px; width:100%;\"></div>            <script type=\"text/javascript\">                require([\"plotly\"], function(Plotly) {                    window.PLOTLYENV=window.PLOTLYENV || {};                                    if (document.getElementById(\"823e4e81-43d8-4455-aa4b-7385eda4871c\")) {                    Plotly.newPlot(                        \"823e4e81-43d8-4455-aa4b-7385eda4871c\",                        [{\"hovertemplate\":\"X Coordinate=%{x}\\u003cbr\\u003eY Coordinate=%{y}\\u003cbr\\u003eZ Coordinate=%{z}\\u003cbr\\u003eBlast Rating=%{marker.color}\\u003cextra\\u003e\\u003c\\u002fextra\\u003e\",\"legendgroup\":\"\",\"marker\":{\"color\":[0,0,0,0,0,0,0,0,0,0,0,0,0,0,0,0,0,0,0,0,0,0,0,0,0,0,0,0,0,0,0,0,0,0,0,0,0,0,0,0,0,0,0,0,0,0,0,0,0,0,0,0,0,0,0,0,0,0,0,0,0,0,0,0,0,0,0,0,0,0,0,0,0,0,0,0,0,0,0,0,0,0,0,0,0,0,0,0,0,0,0,0,0,0,0,0,0,0,0,0,0,0,0,0,0,0,0,0,0,0,0,0,0,0,0,0,0,0,0,0,0,0,0,0,0,0,0,0,0,0,0,0,0,0,0,0,0,0,0,0,0,0,0,0,0,0,0,0,0,0,0,0,0,0,0,0,0,0,0,0,0,0,0,0,0,0,0,0,0,0,0,0,0,0,0,0,0,0,0,0,0,0,0,0,0,0,0,0,0,0,0,0,0,0,0,0,0,0,0,0,0,0,0,0,0,0,0,0,0,0,0,0,0,0,0,0,0,0,0,0,0,0,0,0,0,0,0,0,0,0,0,0,0,0,0,0,0,0,0,0,0,0,0,0,0,0,0,0,0,0,0,0,0,0,0,0,0,0,0,0,0,0,0,0,0,0,0,0,0,0,0,0,0,0,0,0,0,0,0,0,0,0,0,0,0,0,0,0,0,0,0,0,0,0,0,0,0,0,0,0,0,0,0,0,0,0,0,0,0,0,0,0,0,0,0,0,0,0,0,0,0,0,0,0,0,0,0,0,0,0,0,0,0,0,0,0,0,0,0,0,0,0,0,0,0,0,0,0,0,0,0,0,0,0,0,0,0,0,0,0,0,0,0,0,0,0,0],\"coloraxis\":\"coloraxis\",\"symbol\":\"circle\",\"size\":12},\"mode\":\"markers\",\"name\":\"\",\"scene\":\"scene\",\"showlegend\":false,\"x\":[429696.61,429693.97,429691.33,429688.7,429694.97,429697.61,429700.25,429703.88,429701.24,429707.52,429737.89,429740.53,429743.17,429745.81,429748.45,429751.09,429753.73,429756.37,429759.01,429761.65,429764.29,429766.93,429769.57,429772.21,429778.48,429775.84,429773.2,429770.56,429767.92,429765.28,429762.64,429760.0,429757.37,429754.73,429752.09,429749.45,429746.81,429755.72,429758.36,429761.0,429763.64,429766.28,429768.92,429771.56,429774.2,429776.84,429779.48,429782.12,429784.76,429791.03,429788.39,429785.75,429783.11,429781.09,429777.83,429774.92,429772.55,429769.91,429767.27,429764.63,429760.83,429768.27,429770.91,429773.55,429776.19,429778.8,429780.85,429784.11,429786.75,429789.39,429792.02,429794.66,429798.3,429795.66,429793.02,429790.38,429787.78,429785.1,429782.46,429779.82,429777.18,429774.54,429780.82,429783.46,429786.1,429788.74,429791.38,429794.02,429796.65,429799.29,429801.93,429805.57,429802.93,429800.29,429797.65,429795.01,429792.37,429789.73,429787.09,429789.57,429792.62,429794.85,429793.25,429796.01,429798.64,429801.28,429803.92,429806.56,429809.2,429812.84,429810.09,429807.56,429804.92,429802.28,429799.64,429800.12,429797.9,429795.68,429798.73,429800.96,429803.18,429805.4,429806.25,429808.55,429811.19,429813.83,429816.47,429820.11,429817.47,429814.83,429812.19,429810.68,429808.46,429806.23,429804.01,429809.29,429811.51,429813.74,429815.96,429818.46,429820.68,429823.74,429826.55,429823.92,429821.24,429819.01,429816.79,429814.57,429819.85,429822.07,429824.29,429826.52,429828.91,429831.79,429829.57,429827.35,429825.12,429830.4,429832.63,429834.85,429837.9,429835.68,429840.96,429660.66,429662.88,429665.54,429668.39,429671.03,429673.63,429676.07,429678.17,429679.2,429677.51,429675.55,429673.22,429671.36,429669.56,429667.35,429665.41,429666.53,429669.56,429672.81,429674.67,429675.98,429678.87,429680.55,429681.93,429682.89,429686.49,429684.35,429681.74,429678.95,429677.77,429674.99,429672.15,429677.86,429680.26,429682.67,429685.08,429687.49,429689.28,429692.75,429691.18,429688.82,429686.64,429685.28,429683.23,429656.67,429662.06,429763.52,429765.2,429766.87,429768.55,429772.53,429770.86,429769.18,429767.51,429765.83,429764.16,429663.28,429762.48,429760.81,429764.79,429766.46,429768.14,429769.82,429771.49,429773.17,429774.84,429775.79,429664.26,429780.5,429778.82,429777.15,429775.47,429773.8,429772.12,429770.45,429768.77,429772.76,429774.43,429665.47,429776.11,429777.78,429779.46,429781.13,429782.81,429784.48,429786.79,429785.12,429783.44,429781.77,429668.42,429780.09,429778.42,429776.74,429780.72,429782.4,429784.07,429785.75,429787.42,429789.1,429791.41,429666.88,429789.73,429788.06,429786.38,429784.71,429788.69,429790.37,429792.04,429793.72,429796.03,429794.35,429665.2,429792.67,429669.18,429670.86,429672.42,429657.92,429676.47,429674.84,429673.17,429677.15,429678.83,429682.81,429681.13,429685.12,429686.79,429690.78,429659.36,429689.1,429693.09,429694.76,429698.74,429697.07,429701.05,429702.73,429706.71,429705.04,429709.02,429661.65,429710.69,429714.68,429713.0,429716.99,429718.66,429722.65,429720.97,429724.95,429726.63,429732.29,429660.34,429730.61,429728.94,429732.92,429734.6,429736.27,429737.95,429739.62,429741.3,429745.28,429743.61,429659.67,429741.93,429740.25,429738.58,429736.9,429740.89,429742.56,429744.24,429745.91,429747.59,429749.26,429657.53,429750.94,429752.61,429756.6,429754.92,429753.25,429751.57,429749.9,429748.22,429746.55,429744.87,429658.34,429748.86,429750.53,429752.21,429753.88,429755.56,429757.23,429758.91,429760.58,429764.57,429762.89,429661.22,429761.21,429759.54,429757.86,429756.19,429754.51,429752.84,429756.82,429758.5,429760.17,429761.85],\"y\":[5266456.29,5266462.06,5266467.82,5266473.58,5266473.01,5266467.25,5266461.49,5266466.68,5266472.44,5266471.87,5266458.07,5266452.3,5266446.54,5266440.78,5266435.02,5266429.25,5266423.49,5266417.73,5266411.97,5266406.2,5266400.44,5266394.68,5266388.92,5266383.15,5266382.58,5266388.35,5266394.11,5266399.87,5266405.63,5266411.4,5266417.16,5266422.92,5266428.68,5266434.45,5266440.21,5266445.97,5266451.73,5266445.4,5266439.64,5266433.88,5266428.11,5266422.35,5266416.59,5266410.83,5266405.06,5266399.3,5266393.54,5266387.78,5266382.01,5266381.44,5266387.21,5266392.97,5266398.73,5266404.78,5266410.26,5266415.94,5266421.78,5266427.54,5266433.31,5266439.07,5266444.83,5266444.26,5266438.5,5266432.74,5266426.97,5266421.28,5266416.02,5266409.69,5266403.92,5266398.16,5266392.4,5266386.64,5266391.83,5266397.59,5266403.35,5266409.12,5266415.1,5266420.64,5266426.4,5266432.17,5266437.93,5266443.69,5266443.12,5266437.36,5266431.6,5266425.83,5266420.07,5266414.31,5266408.55,5266402.78,5266397.02,5266402.21,5266407.98,5266413.74,5266419.5,5266425.26,5266431.03,5266436.79,5266442.55,5266446.04,5266450.38,5266445.56,5266441.91,5266436.22,5266430.46,5266424.69,5266418.93,5266413.17,5266407.41,5266412.6,5266418.03,5266424.12,5266429.89,5266435.65,5266441.41,5266445.08,5266449.9,5266454.72,5266459.07,5266454.24,5266449.42,5266444.6,5266440.79,5266435.08,5266429.32,5266423.55,5266417.79,5266422.98,5266428.75,5266434.51,5266440.27,5266444.12,5266448.94,5266453.77,5266458.59,5266458.11,5266453.29,5266448.47,5266443.64,5266439.7,5266434.04,5266428.18,5266432.92,5266439.27,5266443.16,5266447.99,5266452.81,5266457.63,5266457.15,5266452.33,5266447.51,5266442.69,5266438.63,5266442.21,5266447.03,5266451.85,5266456.67,5266456.19,5266451.37,5266446.55,5266450.89,5266455.71,5266455.23,5266469.27,5266463.73,5266458.5,5266452.27,5266446.51,5266440.84,5266435.5,5266430.93,5266435.78,5266439.7,5266444.52,5266449.8,5266455.2,5266459.67,5266463.64,5266466.93,5266470.21,5266466.9,5266462.63,5266458.24,5266453.26,5266448.26,5266443.95,5266440.2,5266435.83,5266441.09,5266446.87,5266452.7,5266458.04,5266462.83,5266467.37,5266470.99,5266472.87,5266467.97,5266462.69,5266457.42,5266452.14,5266445.84,5266450.7,5266456.14,5266461.29,5266466.07,5266469.04,5266473.4,5266478.03,5266480.06,5266458.8,5266455.13,5266451.47,5266447.8,5266447.44,5266451.11,5266454.77,5266458.44,5266462.11,5266465.77,5266478.04,5266469.44,5266473.1,5266472.74,5266469.08,5266465.41,5266461.74,5266458.08,5266454.41,5266450.74,5266448.14,5266475.48,5266446.72,5266450.38,5266454.05,5266457.71,5266461.38,5266465.05,5266468.71,5266472.38,5266472.02,5266468.35,5266473.22,5266464.69,5266461.02,5266457.35,5266453.69,5266450.02,5266446.35,5266449.66,5266453.32,5266456.99,5266460.66,5266474.39,5266464.32,5266467.99,5266471.66,5266471.3,5266467.63,5266463.96,5266460.3,5266456.63,5266452.96,5266456.27,5266478.12,5266459.93,5266463.6,5266467.27,5266470.93,5266470.57,5266466.91,5266463.24,5266459.57,5266462.88,5266466.54,5266481.79,5266470.21,5266481.43,5266477.76,5266474.09,5266475.37,5266475.18,5266477.4,5266481.07,5266480.7,5266477.04,5266476.68,5266480.34,5266479.98,5266476.31,5266475.95,5266472.39,5266479.62,5266479.26,5266475.59,5266475.23,5266478.9,5266478.53,5266474.87,5266474.5,5266478.17,5266477.81,5266473.24,5266474.14,5266473.78,5266477.45,5266477.09,5266473.42,5266473.06,5266476.72,5266476.36,5266472.7,5266468.67,5266475.99,5266472.33,5266476.0,5266475.64,5266471.97,5266468.3,5266464.64,5266460.97,5266457.31,5266456.94,5266460.61,5266478.84,5266464.28,5266467.94,5266471.61,5266475.28,5266474.91,5266471.25,5266467.58,5266463.91,5266460.25,5266456.58,5266480.15,5266452.91,5266449.25,5266448.89,5266452.55,5266456.22,5266459.89,5266463.55,5266467.22,5266470.89,5266474.55,5266482.23,5266474.19,5266470.52,5266466.86,5266463.19,5266459.52,5266455.86,5266452.19,5266448.52,5266448.16,5266451.83,5266482.15,5266455.5,5266459.16,5266462.83,5266466.5,5266470.16,5266473.83,5266473.47,5266469.8,5266466.13,5266462.47],\"z\":[363.51,363.55,363.67,363.54,363.71,363.68,363.59,363.6,363.82,363.92,363.98,363.7,363.67,363.54,363.42,363.41,363.83,363.61,363.46,363.67,364.1,363.84,363.72,363.56,363.57,363.67,363.84,363.97,363.79,363.47,363.48,363.74,363.5,363.52,363.59,363.74,363.77,363.75,363.68,363.61,363.56,363.46,363.47,363.47,363.72,364.01,363.73,363.42,363.39,363.35,363.4,363.43,363.58,363.6,363.47,363.51,363.52,363.6,364.03,363.68,363.7,363.68,363.8,363.79,363.6,363.51,363.44,363.52,363.47,363.41,363.39,363.39,363.5,363.51,363.48,363.48,363.51,363.54,363.62,363.73,364.81,363.75,364.16,363.87,363.66,363.52,363.51,363.36,363.47,363.51,363.57,363.58,363.48,363.49,363.46,368.66,363.51,363.72,364.17,364.87,365.07,363.67,363.7,363.55,363.5,366.99,363.48,363.47,363.54,363.51,363.48,363.38,363.54,363.45,363.61,363.65,363.66,364.57,366.3,363.81,363.61,363.54,363.49,363.5,363.41,363.42,363.48,363.5,363.5,363.61,363.61,363.58,363.59,363.65,364.88,363.92,363.53,363.52,363.71,363.68,363.67,363.57,363.59,363.7,363.7,363.68,363.54,363.55,363.68,363.76,363.71,363.69,363.64,363.6,363.64,363.77,363.77,363.77,363.7,363.64,363.76,363.78,363.82,363.45,363.44,363.62,363.64,363.63,363.89,364.01,363.73,363.67,363.69,363.68,363.8,363.71,363.42,363.34,363.29,363.27,363.38,363.46,363.6,363.72,363.81,363.62,363.61,363.62,363.69,363.79,363.69,363.73,363.59,363.37,363.32,363.39,363.55,363.66,363.75,363.76,363.77,363.82,363.87,363.77,363.66,363.53,363.49,365.11,363.72,363.72,363.69,363.7,363.74,363.77,363.68,363.65,363.41,363.51,364.03,363.36,364.69,362.41,361.62,363.49,364.15,363.36,363.53,363.82,363.68,363.59,363.15,363.71,363.82,364.31,364.09,363.61,364.1,362.92,360.81,360.44,363.37,363.01,364.11,364.0,364.26,364.34,363.96,363.89,364.06,364.38,364.26,363.98,363.04,364.27,364.0,361.59,363.59,363.82,364.53,363.92,364.37,364.41,364.25,363.07,363.96,364.53,364.87,364.21,363.8,364.07,365.03,364.01,364.87,363.67,364.57,362.84,364.18,363.13,363.03,364.17,363.14,363.22,364.18,363.8,363.22,363.38,363.47,363.73,363.52,363.62,363.85,363.97,364.16,363.76,363.8,363.9,363.83,363.86,364.07,363.98,364.23,363.28,364.23,364.34,364.32,364.4,364.33,364.43,364.7,366.09,364.18,363.8,363.52,364.04,364.58,363.8,363.63,363.88,364.41,364.17,363.98,363.99,364.21,363.46,364.59,364.78,363.93,363.46,363.83,364.2,364.66,364.3,364.15,363.91,364.39,363.89,363.82,363.72,363.75,363.95,364.02,364.24,364.33,364.34,364.62,364.94,363.34,365.04,364.19,364.11,364.01,363.7,363.75,363.73,363.77,363.73,364.88,363.67,363.84,364.02,364.2,365.1,363.6,362.79,364.4,363.94,363.77],\"type\":\"scatter3d\"}],                        {\"template\":{\"data\":{\"histogram2dcontour\":[{\"type\":\"histogram2dcontour\",\"colorbar\":{\"outlinewidth\":0,\"ticks\":\"\"},\"colorscale\":[[0.0,\"#0d0887\"],[0.1111111111111111,\"#46039f\"],[0.2222222222222222,\"#7201a8\"],[0.3333333333333333,\"#9c179e\"],[0.4444444444444444,\"#bd3786\"],[0.5555555555555556,\"#d8576b\"],[0.6666666666666666,\"#ed7953\"],[0.7777777777777778,\"#fb9f3a\"],[0.8888888888888888,\"#fdca26\"],[1.0,\"#f0f921\"]]}],\"choropleth\":[{\"type\":\"choropleth\",\"colorbar\":{\"outlinewidth\":0,\"ticks\":\"\"}}],\"histogram2d\":[{\"type\":\"histogram2d\",\"colorbar\":{\"outlinewidth\":0,\"ticks\":\"\"},\"colorscale\":[[0.0,\"#0d0887\"],[0.1111111111111111,\"#46039f\"],[0.2222222222222222,\"#7201a8\"],[0.3333333333333333,\"#9c179e\"],[0.4444444444444444,\"#bd3786\"],[0.5555555555555556,\"#d8576b\"],[0.6666666666666666,\"#ed7953\"],[0.7777777777777778,\"#fb9f3a\"],[0.8888888888888888,\"#fdca26\"],[1.0,\"#f0f921\"]]}],\"heatmap\":[{\"type\":\"heatmap\",\"colorbar\":{\"outlinewidth\":0,\"ticks\":\"\"},\"colorscale\":[[0.0,\"#0d0887\"],[0.1111111111111111,\"#46039f\"],[0.2222222222222222,\"#7201a8\"],[0.3333333333333333,\"#9c179e\"],[0.4444444444444444,\"#bd3786\"],[0.5555555555555556,\"#d8576b\"],[0.6666666666666666,\"#ed7953\"],[0.7777777777777778,\"#fb9f3a\"],[0.8888888888888888,\"#fdca26\"],[1.0,\"#f0f921\"]]}],\"heatmapgl\":[{\"type\":\"heatmapgl\",\"colorbar\":{\"outlinewidth\":0,\"ticks\":\"\"},\"colorscale\":[[0.0,\"#0d0887\"],[0.1111111111111111,\"#46039f\"],[0.2222222222222222,\"#7201a8\"],[0.3333333333333333,\"#9c179e\"],[0.4444444444444444,\"#bd3786\"],[0.5555555555555556,\"#d8576b\"],[0.6666666666666666,\"#ed7953\"],[0.7777777777777778,\"#fb9f3a\"],[0.8888888888888888,\"#fdca26\"],[1.0,\"#f0f921\"]]}],\"contourcarpet\":[{\"type\":\"contourcarpet\",\"colorbar\":{\"outlinewidth\":0,\"ticks\":\"\"}}],\"contour\":[{\"type\":\"contour\",\"colorbar\":{\"outlinewidth\":0,\"ticks\":\"\"},\"colorscale\":[[0.0,\"#0d0887\"],[0.1111111111111111,\"#46039f\"],[0.2222222222222222,\"#7201a8\"],[0.3333333333333333,\"#9c179e\"],[0.4444444444444444,\"#bd3786\"],[0.5555555555555556,\"#d8576b\"],[0.6666666666666666,\"#ed7953\"],[0.7777777777777778,\"#fb9f3a\"],[0.8888888888888888,\"#fdca26\"],[1.0,\"#f0f921\"]]}],\"surface\":[{\"type\":\"surface\",\"colorbar\":{\"outlinewidth\":0,\"ticks\":\"\"},\"colorscale\":[[0.0,\"#0d0887\"],[0.1111111111111111,\"#46039f\"],[0.2222222222222222,\"#7201a8\"],[0.3333333333333333,\"#9c179e\"],[0.4444444444444444,\"#bd3786\"],[0.5555555555555556,\"#d8576b\"],[0.6666666666666666,\"#ed7953\"],[0.7777777777777778,\"#fb9f3a\"],[0.8888888888888888,\"#fdca26\"],[1.0,\"#f0f921\"]]}],\"mesh3d\":[{\"type\":\"mesh3d\",\"colorbar\":{\"outlinewidth\":0,\"ticks\":\"\"}}],\"scatter\":[{\"fillpattern\":{\"fillmode\":\"overlay\",\"size\":10,\"solidity\":0.2},\"type\":\"scatter\"}],\"parcoords\":[{\"type\":\"parcoords\",\"line\":{\"colorbar\":{\"outlinewidth\":0,\"ticks\":\"\"}}}],\"scatterpolargl\":[{\"type\":\"scatterpolargl\",\"marker\":{\"colorbar\":{\"outlinewidth\":0,\"ticks\":\"\"}}}],\"bar\":[{\"error_x\":{\"color\":\"#2a3f5f\"},\"error_y\":{\"color\":\"#2a3f5f\"},\"marker\":{\"line\":{\"color\":\"#E5ECF6\",\"width\":0.5},\"pattern\":{\"fillmode\":\"overlay\",\"size\":10,\"solidity\":0.2}},\"type\":\"bar\"}],\"scattergeo\":[{\"type\":\"scattergeo\",\"marker\":{\"colorbar\":{\"outlinewidth\":0,\"ticks\":\"\"}}}],\"scatterpolar\":[{\"type\":\"scatterpolar\",\"marker\":{\"colorbar\":{\"outlinewidth\":0,\"ticks\":\"\"}}}],\"histogram\":[{\"marker\":{\"pattern\":{\"fillmode\":\"overlay\",\"size\":10,\"solidity\":0.2}},\"type\":\"histogram\"}],\"scattergl\":[{\"type\":\"scattergl\",\"marker\":{\"colorbar\":{\"outlinewidth\":0,\"ticks\":\"\"}}}],\"scatter3d\":[{\"type\":\"scatter3d\",\"line\":{\"colorbar\":{\"outlinewidth\":0,\"ticks\":\"\"}},\"marker\":{\"colorbar\":{\"outlinewidth\":0,\"ticks\":\"\"}}}],\"scattermapbox\":[{\"type\":\"scattermapbox\",\"marker\":{\"colorbar\":{\"outlinewidth\":0,\"ticks\":\"\"}}}],\"scatterternary\":[{\"type\":\"scatterternary\",\"marker\":{\"colorbar\":{\"outlinewidth\":0,\"ticks\":\"\"}}}],\"scattercarpet\":[{\"type\":\"scattercarpet\",\"marker\":{\"colorbar\":{\"outlinewidth\":0,\"ticks\":\"\"}}}],\"carpet\":[{\"aaxis\":{\"endlinecolor\":\"#2a3f5f\",\"gridcolor\":\"white\",\"linecolor\":\"white\",\"minorgridcolor\":\"white\",\"startlinecolor\":\"#2a3f5f\"},\"baxis\":{\"endlinecolor\":\"#2a3f5f\",\"gridcolor\":\"white\",\"linecolor\":\"white\",\"minorgridcolor\":\"white\",\"startlinecolor\":\"#2a3f5f\"},\"type\":\"carpet\"}],\"table\":[{\"cells\":{\"fill\":{\"color\":\"#EBF0F8\"},\"line\":{\"color\":\"white\"}},\"header\":{\"fill\":{\"color\":\"#C8D4E3\"},\"line\":{\"color\":\"white\"}},\"type\":\"table\"}],\"barpolar\":[{\"marker\":{\"line\":{\"color\":\"#E5ECF6\",\"width\":0.5},\"pattern\":{\"fillmode\":\"overlay\",\"size\":10,\"solidity\":0.2}},\"type\":\"barpolar\"}],\"pie\":[{\"automargin\":true,\"type\":\"pie\"}]},\"layout\":{\"autotypenumbers\":\"strict\",\"colorway\":[\"#636efa\",\"#EF553B\",\"#00cc96\",\"#ab63fa\",\"#FFA15A\",\"#19d3f3\",\"#FF6692\",\"#B6E880\",\"#FF97FF\",\"#FECB52\"],\"font\":{\"color\":\"#2a3f5f\"},\"hovermode\":\"closest\",\"hoverlabel\":{\"align\":\"left\"},\"paper_bgcolor\":\"white\",\"plot_bgcolor\":\"#E5ECF6\",\"polar\":{\"bgcolor\":\"#E5ECF6\",\"angularaxis\":{\"gridcolor\":\"white\",\"linecolor\":\"white\",\"ticks\":\"\"},\"radialaxis\":{\"gridcolor\":\"white\",\"linecolor\":\"white\",\"ticks\":\"\"}},\"ternary\":{\"bgcolor\":\"#E5ECF6\",\"aaxis\":{\"gridcolor\":\"white\",\"linecolor\":\"white\",\"ticks\":\"\"},\"baxis\":{\"gridcolor\":\"white\",\"linecolor\":\"white\",\"ticks\":\"\"},\"caxis\":{\"gridcolor\":\"white\",\"linecolor\":\"white\",\"ticks\":\"\"}},\"coloraxis\":{\"colorbar\":{\"outlinewidth\":0,\"ticks\":\"\"}},\"colorscale\":{\"sequential\":[[0.0,\"#0d0887\"],[0.1111111111111111,\"#46039f\"],[0.2222222222222222,\"#7201a8\"],[0.3333333333333333,\"#9c179e\"],[0.4444444444444444,\"#bd3786\"],[0.5555555555555556,\"#d8576b\"],[0.6666666666666666,\"#ed7953\"],[0.7777777777777778,\"#fb9f3a\"],[0.8888888888888888,\"#fdca26\"],[1.0,\"#f0f921\"]],\"sequentialminus\":[[0.0,\"#0d0887\"],[0.1111111111111111,\"#46039f\"],[0.2222222222222222,\"#7201a8\"],[0.3333333333333333,\"#9c179e\"],[0.4444444444444444,\"#bd3786\"],[0.5555555555555556,\"#d8576b\"],[0.6666666666666666,\"#ed7953\"],[0.7777777777777778,\"#fb9f3a\"],[0.8888888888888888,\"#fdca26\"],[1.0,\"#f0f921\"]],\"diverging\":[[0,\"#8e0152\"],[0.1,\"#c51b7d\"],[0.2,\"#de77ae\"],[0.3,\"#f1b6da\"],[0.4,\"#fde0ef\"],[0.5,\"#f7f7f7\"],[0.6,\"#e6f5d0\"],[0.7,\"#b8e186\"],[0.8,\"#7fbc41\"],[0.9,\"#4d9221\"],[1,\"#276419\"]]},\"xaxis\":{\"gridcolor\":\"white\",\"linecolor\":\"white\",\"ticks\":\"\",\"title\":{\"standoff\":15},\"zerolinecolor\":\"white\",\"automargin\":true,\"zerolinewidth\":2},\"yaxis\":{\"gridcolor\":\"white\",\"linecolor\":\"white\",\"ticks\":\"\",\"title\":{\"standoff\":15},\"zerolinecolor\":\"white\",\"automargin\":true,\"zerolinewidth\":2},\"scene\":{\"xaxis\":{\"backgroundcolor\":\"#E5ECF6\",\"gridcolor\":\"white\",\"linecolor\":\"white\",\"showbackground\":true,\"ticks\":\"\",\"zerolinecolor\":\"white\",\"gridwidth\":2},\"yaxis\":{\"backgroundcolor\":\"#E5ECF6\",\"gridcolor\":\"white\",\"linecolor\":\"white\",\"showbackground\":true,\"ticks\":\"\",\"zerolinecolor\":\"white\",\"gridwidth\":2},\"zaxis\":{\"backgroundcolor\":\"#E5ECF6\",\"gridcolor\":\"white\",\"linecolor\":\"white\",\"showbackground\":true,\"ticks\":\"\",\"zerolinecolor\":\"white\",\"gridwidth\":2}},\"shapedefaults\":{\"line\":{\"color\":\"#2a3f5f\"}},\"annotationdefaults\":{\"arrowcolor\":\"#2a3f5f\",\"arrowhead\":0,\"arrowwidth\":1},\"geo\":{\"bgcolor\":\"white\",\"landcolor\":\"#E5ECF6\",\"subunitcolor\":\"white\",\"showland\":true,\"showlakes\":true,\"lakecolor\":\"white\"},\"title\":{\"x\":0.05},\"mapbox\":{\"style\":\"light\"}}},\"scene\":{\"domain\":{\"x\":[0.0,1.0],\"y\":[0.0,1.0]},\"xaxis\":{\"title\":{\"text\":\"X Coordinate\"}},\"yaxis\":{\"title\":{\"text\":\"Y Coordinate\"}},\"zaxis\":{\"title\":{\"text\":\"Z Coordinate\"}}},\"coloraxis\":{\"colorbar\":{\"title\":{\"text\":\"Blast Rating\"}},\"colorscale\":[[0.0,\"#0d0887\"],[0.1111111111111111,\"#46039f\"],[0.2222222222222222,\"#7201a8\"],[0.3333333333333333,\"#9c179e\"],[0.4444444444444444,\"#bd3786\"],[0.5555555555555556,\"#d8576b\"],[0.6666666666666666,\"#ed7953\"],[0.7777777777777778,\"#fb9f3a\"],[0.8888888888888888,\"#fdca26\"],[1.0,\"#f0f921\"]]},\"legend\":{\"tracegroupgap\":0},\"title\":{\"text\":\"Drillhole Blast Positions\"}},                        {\"responsive\": true}                    ).then(function(){\n",
       "                            \n",
       "var gd = document.getElementById('823e4e81-43d8-4455-aa4b-7385eda4871c');\n",
       "var x = new MutationObserver(function (mutations, observer) {{\n",
       "        var display = window.getComputedStyle(gd).display;\n",
       "        if (!display || display === 'none') {{\n",
       "            console.log([gd, 'removed!']);\n",
       "            Plotly.purge(gd);\n",
       "            observer.disconnect();\n",
       "        }}\n",
       "}});\n",
       "\n",
       "// Listen for the removal of the full notebook cells\n",
       "var notebookContainer = gd.closest('#notebook-container');\n",
       "if (notebookContainer) {{\n",
       "    x.observe(notebookContainer, {childList: true});\n",
       "}}\n",
       "\n",
       "// Listen for the clearing of the current output cell\n",
       "var outputEl = gd.closest('.output');\n",
       "if (outputEl) {{\n",
       "    x.observe(outputEl, {childList: true});\n",
       "}}\n",
       "\n",
       "                        })                };                });            </script>        </div>"
      ]
     },
     "metadata": {},
     "output_type": "display_data"
    }
   ],
   "source": [
    "import pandas as pd\n",
    "import numpy as np\n",
    "import tkinter as tk\n",
    "from tkinter import filedialog, messagebox\n",
    "from sklearn.model_selection import train_test_split\n",
    "from sklearn.preprocessing import LabelEncoder, StandardScaler\n",
    "from sklearn.ensemble import RandomForestClassifier\n",
    "from sklearn.metrics import classification_report, accuracy_score\n",
    "import plotly.express as px\n",
    "\n",
    "# Global variable to store the dataset\n",
    "df = None\n",
    "\n",
    "# Function to load multiple CSV data\n",
    "def load_multiple_csv(files):\n",
    "    global df\n",
    "    data_list = []\n",
    "    for file in files:\n",
    "        data = pd.read_csv(file)\n",
    "        data_list.append(data)\n",
    "    df = pd.concat(data_list, ignore_index=True)\n",
    "    print(df.head())\n",
    "    return df\n",
    "\n",
    "# Train model using real-world data from multiple CSV files\n",
    "def train_model(files):\n",
    "    data = load_multiple_csv(files)\n",
    "    \n",
    "    features = [\"Drillhole_X\", \"Drillhole_Y\", \"Drillhole_Z\", \"Drillhole_ToeX\", \"Drillhole_ToeY\", \"Drillhole_ToeZ\",\n",
    "                \"Drillhole_Length\", \"Drillhole_Dip\", \"Drillhole_Azimuth\", \"Avg_Displacement\", \"Max_Displacement\",\n",
    "                \"Centroid_Shift\", \"Earliest_Pixel_Disp\", \"PPV\", \"Overpressure\", \"Total_Displacement\"]\n",
    "    \n",
    "    missing_columns = [col for col in features if col not in data.columns]\n",
    "    if missing_columns:\n",
    "        raise ValueError(f\"Missing columns in the dataset: {', '.join(missing_columns)}\")\n",
    "    \n",
    "    label_encoder = LabelEncoder()\n",
    "    data[\"Blast_Rating\"] = label_encoder.fit_transform(data[\"Blast_Rating\"])\n",
    "    \n",
    "    X = data[features]\n",
    "    y = data[\"Blast_Rating\"]\n",
    "\n",
    "    scaler = StandardScaler()\n",
    "    X_scaled = scaler.fit_transform(X)\n",
    "\n",
    "    X_train, X_test, y_train, y_test = train_test_split(X_scaled, y, test_size=0.2, random_state=42)\n",
    "\n",
    "    model = RandomForestClassifier(random_state=42)\n",
    "    model.fit(X_train, y_train)\n",
    "\n",
    "    y_pred = model.predict(X_test)\n",
    "\n",
    "    accuracy = accuracy_score(y_test, y_pred)\n",
    "    class_report = classification_report(y_test, y_pred, target_names=label_encoder.classes_)\n",
    "\n",
    "    return accuracy, class_report, model, scaler, label_encoder, list(X.columns)\n",
    "\n",
    "# Function to predict the rating for new data\n",
    "def predict_rating(model, scaler, label_encoder, new_data, feature_columns):\n",
    "    new_data_df = pd.DataFrame(new_data, columns=feature_columns)\n",
    "    new_data_scaled = scaler.transform(new_data_df)\n",
    "    predicted_rating = label_encoder.inverse_transform(model.predict(new_data_scaled))\n",
    "    return predicted_rating[0]\n",
    "\n",
    "# UI setup\n",
    "def create_ui():\n",
    "    global df  # Ensure you can access the df variable globally for the plot\n",
    "    \n",
    "    root = tk.Tk()\n",
    "    root.title(\"Blast Rating Prediction\")\n",
    "    root.geometry(\"600x600\")\n",
    "\n",
    "    model, scaler, label_encoder, feature_columns = None, None, None, None\n",
    "\n",
    "    def load_files():\n",
    "        nonlocal model, scaler, label_encoder, feature_columns\n",
    "        files = filedialog.askopenfilenames(filetypes=[(\"CSV files\", \"*.csv\")])\n",
    "        if files:\n",
    "            accuracy, class_report, model, scaler, label_encoder, feature_columns = train_model(files)\n",
    "            \n",
    "            accuracy_label.config(text=f\"Accuracy: {accuracy:.4f}\")\n",
    "\n",
    "            class_report_text.delete(1.0, tk.END)\n",
    "            class_report_text.insert(tk.END, class_report)\n",
    "            \n",
    "            prediction_section.pack()\n",
    "\n",
    "            # Plot the 3D scatter plot after loading data\n",
    "            if df is not None:\n",
    "                fig = px.scatter_3d(df, x='Drillhole_X', y='Drillhole_Y', z='Drillhole_Z', color='Blast_Rating', \n",
    "                                    labels={'Blast_Rating': 'Blast Rating', 'Drillhole_X': 'X Coordinate', 'Drillhole_Y': 'Y Coordinate', 'Drillhole_Z': 'Z Coordinate'},\n",
    "                                    title=\"Drillhole Blast Positions\")\n",
    "                fig.update_traces(marker=dict(size=12))\n",
    "                fig.show()\n",
    "\n",
    "    load_files_button = tk.Button(root, text=\"Load CSV Files\", command=load_files)\n",
    "    load_files_button.pack(pady=10)\n",
    "\n",
    "    accuracy_label = tk.Label(root, text=\"Accuracy: \", font=(\"Arial\", 12))\n",
    "    accuracy_label.pack(pady=10)\n",
    "\n",
    "    class_report_label = tk.Label(root, text=\"Classification Report:\", font=(\"Arial\", 12))\n",
    "    class_report_label.pack(pady=10)\n",
    "\n",
    "    class_report_text = tk.Text(root, height=10, width=70)\n",
    "    class_report_text.pack(pady=10)\n",
    "\n",
    "    prediction_section = tk.Frame(root)\n",
    "    new_data_label = tk.Label(prediction_section, text=\"Enter new drillhole data (X, Y, Z, ToeX, ToeY, ToeZ, Length, Dip, Azimuth, Avg Displacement, Max Displacement, Centroid Shift, Earliest Pixel Disp, PPV, Overpressure, Total Displacement):\", font=(\"Arial\", 12))\n",
    "    new_data_label.pack(pady=10)\n",
    "\n",
    "    # Entry fields for prediction data\n",
    "    entry_x = tk.Entry(prediction_section, width=10)\n",
    "    entry_x.pack(pady=5)\n",
    "    entry_x.insert(0, \"250\")\n",
    "\n",
    "    entry_y = tk.Entry(prediction_section, width=10)\n",
    "    entry_y.pack(pady=5)\n",
    "    entry_y.insert(0, \"250\")\n",
    "\n",
    "    entry_z = tk.Entry(prediction_section, width=10)\n",
    "    entry_z.pack(pady=5)\n",
    "    entry_z.insert(0, \"150\")\n",
    "\n",
    "    entry_toex = tk.Entry(prediction_section, width=10)\n",
    "    entry_toex.pack(pady=5)\n",
    "    entry_toex.insert(0, \"245\")\n",
    "\n",
    "    entry_toey = tk.Entry(prediction_section, width=10)\n",
    "    entry_toey.pack(pady=5)\n",
    "    entry_toey.insert(0, \"245\")\n",
    "\n",
    "    entry_toez = tk.Entry(prediction_section, width=10)\n",
    "    entry_toez.pack(pady=5)\n",
    "    entry_toez.insert(0, \"148\")\n",
    "\n",
    "    entry_length = tk.Entry(prediction_section, width=10)\n",
    "    entry_length.pack(pady=5)\n",
    "    entry_length.insert(0, \"120\")\n",
    "\n",
    "    entry_dip = tk.Entry(prediction_section, width=10)\n",
    "    entry_dip.pack(pady=5)\n",
    "    entry_dip.insert(0, \"40\")\n",
    "\n",
    "    entry_azimuth = tk.Entry(prediction_section, width=10)\n",
    "    entry_azimuth.pack(pady=5)\n",
    "    entry_azimuth.insert(0, \"180\")\n",
    "\n",
    "    entry_avg_disp = tk.Entry(prediction_section, width=10)\n",
    "    entry_avg_disp.pack(pady=5)\n",
    "    entry_avg_disp.insert(0, \"2\")\n",
    "\n",
    "    entry_max_disp = tk.Entry(prediction_section, width=10)\n",
    "    entry_max_disp.pack(pady=5)\n",
    "    entry_max_disp.insert(0, \"8\")\n",
    "\n",
    "    entry_centroid_shift = tk.Entry(prediction_section, width=10)\n",
    "    entry_centroid_shift.pack(pady=5)\n",
    "    entry_centroid_shift.insert(0, \"1\")\n",
    "\n",
    "    entry_earliest_pixel_disp = tk.Entry(prediction_section, width=10)\n",
    "    entry_earliest_pixel_disp.pack(pady=5)\n",
    "    entry_earliest_pixel_disp.insert(0, \"2\")\n",
    "\n",
    "    entry_ppv = tk.Entry(prediction_section, width=10)\n",
    "    entry_ppv.pack(pady=5)\n",
    "    entry_ppv.insert(0, \"5\")\n",
    "\n",
    "    entry_overpressure = tk.Entry(prediction_section, width=10)\n",
    "    entry_overpressure.pack(pady=5)\n",
    "    entry_overpressure.insert(0, \"50\")\n",
    "\n",
    "    entry_total_disp = tk.Entry(prediction_section, width=10)\n",
    "    entry_total_disp.pack(pady=5)\n",
    "    entry_total_disp.insert(0, \"15\")\n",
    "\n",
    "    def on_predict():\n",
    "        try:\n",
    "            new_data = np.array([[float(entry_x.get()), float(entry_y.get()), float(entry_z.get()), \n",
    "                                  float(entry_toex.get()), float(entry_toey.get()), float(entry_toez.get()), \n",
    "                                  float(entry_length.get()), float(entry_dip.get()), float(entry_azimuth.get()),\n",
    "                                  float(entry_avg_disp.get()), float(entry_max_disp.get()), float(entry_centroid_shift.get()),\n",
    "                                  float(entry_earliest_pixel_disp.get()), float(entry_ppv.get()), float(entry_overpressure.get()),\n",
    "                                  float(entry_total_disp.get())]])\n",
    "            predicted_rating = predict_rating(model, scaler, label_encoder, new_data, feature_columns)\n",
    "            result_label.config(text=f\"Predicted Rating: {predicted_rating}\")\n",
    "        except Exception as e:\n",
    "            messagebox.showerror(\"Error\", f\"Failed to make prediction: {e}\")\n",
    "\n",
    "    predict_button = tk.Button(prediction_section, text=\"Predict Rating\", command=on_predict)\n",
    "    predict_button.pack(pady=10)\n",
    "\n",
    "    result_label = tk.Label(prediction_section, text=\"Predicted Rating: \", font=(\"Arial\", 14))\n",
    "    result_label.pack(pady=10)\n",
    "\n",
    "    root.mainloop()\n",
    "\n",
    "# Run the UI\n",
    "create_ui()\n"
   ]
  }
 ],
 "metadata": {
  "kernelspec": {
   "display_name": "Python 3 (ipykernel)",
   "language": "python",
   "name": "python3"
  },
  "language_info": {
   "codemirror_mode": {
    "name": "ipython",
    "version": 3
   },
   "file_extension": ".py",
   "mimetype": "text/x-python",
   "name": "python",
   "nbconvert_exporter": "python",
   "pygments_lexer": "ipython3",
   "version": "3.12.4"
  }
 },
 "nbformat": 4,
 "nbformat_minor": 5
}
