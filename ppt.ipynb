{
 "cells": [
  {
   "cell_type": "code",
   "execution_count": 16,
   "id": "ff9c3ffe-0dde-4877-bfbf-e62869408222",
   "metadata": {},
   "outputs": [],
   "source": [
    "###### FINAL APPLICATION\n",
    "\n",
    "import tkinter as tk\n",
    "from tkinter import filedialog, messagebox\n",
    "import pandas as pd\n",
    "import cv2\n",
    "from matplotlib.backends.backend_tkagg import FigureCanvasTkAgg\n",
    "from matplotlib.figure import Figure\n",
    "import numpy as np\n",
    "import os\n",
    "\n",
    "# Blast Rating Logic Function with ppv, overpressure, and geotechnical considerations\n",
    "def rate_blast_logic(avg_displacement, max_displacement, centroid_shift, total_displacement, earliest_pixel_disp, ppv, overpressure, blast_pattern_class):\n",
    "    if blast_pattern_class in ['B3', 'C3']:  # Typical and well-distributed pattern\n",
    "        energy_distribution_factor = 1\n",
    "    elif blast_pattern_class in ['A3', 'C2']:  # Smaller, less typical spot\n",
    "        energy_distribution_factor = 1.5  # Higher factor for poor pattern distribution\n",
    "    else:\n",
    "        energy_distribution_factor = 2  # For poorly designed patterns\n",
    "    \n",
    "    if (avg_displacement <= 1.0 and max_displacement <= 2.0 and centroid_shift <= 0.5 \n",
    "            and earliest_pixel_disp <= 0.2 and total_displacement < 1000 \n",
    "            and ppv <= 5.0 and overpressure <= 115):\n",
    "        return \"A\", \"Minimal impact\"\n",
    "\n",
    "    elif (avg_displacement <= 2.0 and max_displacement <= 4.0 and centroid_shift <= 1.0 \n",
    "            and earliest_pixel_disp <= 0.5 and total_displacement < 3000 \n",
    "            and ppv <= 15.0 and overpressure <= 130):\n",
    "        return \"B\", \"Low impact\"\n",
    "\n",
    "    elif (avg_displacement <= 3.0 and max_displacement <= 6.0 and centroid_shift <= 1.5 \n",
    "            and earliest_pixel_disp <= 1.0 and total_displacement < 5000 \n",
    "            and ppv <= 25.0 and overpressure <= 145):\n",
    "        return \"C\", \"Moderate impact\"\n",
    "\n",
    "    elif (total_displacement >= 5000 or centroid_shift > 2.0 or ppv > 25.0 \n",
    "            or overpressure > 145):\n",
    "        return \"D\", \"Significant impact, but still tolerable\"\n",
    "\n",
    "    else:\n",
    "        return \"F\", \"Failed or catastrophic impact\"\n",
    "\n",
    "# Main Application Class\n",
    "class BlastVideoRatingApp:\n",
    "    def __init__(self, root):\n",
    "        self.root = root\n",
    "        self.root.title(\"Blast Video Rating System\")\n",
    "        self.root.geometry(\"900x700\")\n",
    "\n",
    "        # Initialize video_name as an empty string to avoid the attribute error\n",
    "        self.video_file_path = \"\"  # Default value\n",
    "        self.video_name = \"\"      # Default value\n",
    "\n",
    "        # Layout Frames\n",
    "        self.top_frame = tk.Frame(root, height=100)\n",
    "        self.top_frame.pack(side=tk.TOP, fill=tk.X, pady=10)\n",
    "\n",
    "        # Scrollable Middle Frame\n",
    "        self.middle_frame = tk.Frame(root, height=400)\n",
    "        self.middle_frame.pack(side=tk.TOP, fill=tk.BOTH, expand=True, pady=10)\n",
    "\n",
    "        self.canvas_frame = tk.Canvas(self.middle_frame)\n",
    "        self.scrollbar_y = tk.Scrollbar(self.middle_frame, orient=tk.VERTICAL, command=self.canvas_frame.yview)\n",
    "        self.scrollbar_x = tk.Scrollbar(self.middle_frame, orient=tk.HORIZONTAL, command=self.canvas_frame.xview)\n",
    "\n",
    "        self.scrollable_frame = tk.Frame(self.canvas_frame)\n",
    "\n",
    "        self.scrollable_frame.bind(\n",
    "            \"<Configure>\",\n",
    "            lambda e: self.canvas_frame.configure(\n",
    "                scrollregion=self.canvas_frame.bbox(\"all\")\n",
    "            )\n",
    "        )\n",
    "\n",
    "        self.canvas_frame.create_window((0, 0), window=self.scrollable_frame, anchor=\"nw\")\n",
    "        self.canvas_frame.configure(yscrollcommand=self.scrollbar_y.set, xscrollcommand=self.scrollbar_x.set)\n",
    "\n",
    "        self.canvas_frame.pack(side=tk.LEFT, fill=tk.BOTH, expand=True)\n",
    "        self.scrollbar_y.pack(side=tk.RIGHT, fill=tk.Y)\n",
    "        self.scrollbar_x.pack(side=tk.BOTTOM, fill=tk.X)\n",
    "\n",
    "        # Bottom Frame\n",
    "        self.bottom_frame = tk.Frame(root, height=100)\n",
    "        self.bottom_frame.pack(side=tk.BOTTOM, fill=tk.X, pady=10)\n",
    "\n",
    "        # Widgets in Top Frame\n",
    "        self.label = tk.Label(self.top_frame, text=\"Blast Video Rating System\", font=(\"Arial\", 16))\n",
    "        self.label.pack(pady=5)\n",
    "\n",
    "        self.upload_csv_btn = tk.Button(self.top_frame, text=\"Upload CSV Files\", command=self.upload_csv)\n",
    "        self.upload_csv_btn.pack(side=tk.LEFT, padx=10)\n",
    "\n",
    "        self.upload_video_btn = tk.Button(self.top_frame, text=\"Upload Video File\", command=self.upload_video)\n",
    "        self.upload_video_btn.pack(side=tk.LEFT, padx=10)\n",
    "\n",
    "        self.visualize_btn = tk.Button(self.top_frame, text=\"Visualize Data\", command=self.visualize_data, state=tk.DISABLED)\n",
    "        self.visualize_btn.pack(side=tk.LEFT, padx=10)\n",
    "\n",
    "        self.rate_blast_btn = tk.Button(self.top_frame, text=\"Rate Blast\", command=self.rate_blast, state=tk.DISABLED)\n",
    "        self.rate_blast_btn.pack(side=tk.LEFT, padx=10)\n",
    "\n",
    "        # Bottom Frame Widgets\n",
    "        self.output_label = tk.Label(self.bottom_frame, text=\"\", font=(\"Arial\", 12), fg=\"blue\")\n",
    "        self.output_label.pack(pady=10)\n",
    "\n",
    "        self.explanation_label = tk.Label(self.bottom_frame, text=\"\", font=(\"Arial\", 10), fg=\"green\", wraplength=750, justify=\"left\")\n",
    "        self.explanation_label.pack(pady=5)\n",
    "\n",
    "        # Display Additional Parameters\n",
    "        self.parameter_labels = {}\n",
    "        param_names = ['avg_displacement', 'max_displacement', 'centroid_shift', 'total_displacement', 'earliest_pixel_disp', 'ppv']\n",
    "        for param in param_names:\n",
    "            label = tk.Label(self.bottom_frame, text=f\"{param.replace('_', ' ').capitalize()}: N/A\", font=(\"Arial\", 10))\n",
    "            label.pack(pady=2)\n",
    "            self.parameter_labels[param] = label\n",
    "\n",
    "        # Video Name Label\n",
    "        self.video_name_label = tk.Label(self.bottom_frame, text=\"Video Name: N/A\", font=(\"Arial\", 10))\n",
    "        self.video_name_label.pack(pady=5)\n",
    "\n",
    "        # Data Variables\n",
    "        self.csv_file_paths = []\n",
    "        self.video_file_path = None\n",
    "        self.data = []    \n",
    "\n",
    "    # Upload CSV\n",
    "    def upload_csv(self):\n",
    "        file_paths = filedialog.askopenfilenames(filetypes=[(\"CSV Files\", \"*.csv\")])\n",
    "        if file_paths:\n",
    "            self.csv_file_paths = []  # Clear any previous paths\n",
    "            self.data = []  # Clear any previous data\n",
    "            for file_path in file_paths:\n",
    "                try:\n",
    "                    csv_data = pd.read_csv(file_path)\n",
    "                    self.data.append(csv_data)\n",
    "                    self.csv_file_paths.append(file_path)  # Store the file path\n",
    "                    messagebox.showinfo(\"Success\", f\"CSV file loaded successfully from {file_path}\")\n",
    "                except Exception as e:\n",
    "                    messagebox.showerror(\"Error\", f\"Failed to load CSV file from {file_path}: {e}\")\n",
    "\n",
    "            self.visualize_btn.config(state=tk.NORMAL)\n",
    "            self.rate_blast_btn.config(state=tk.NORMAL)\n",
    "\n",
    "    def upload_video(self):\n",
    "        self.video_file_path = filedialog.askopenfilename(filetypes=[(\"Video Files\", \"*.mp4;*.avi;*.mov\")])\n",
    "        if self.video_file_path:\n",
    "            self.video_name = os.path.basename(self.video_file_path)\n",
    "            messagebox.showinfo(\"Success\", f\"Video file '{self.video_name}' uploaded successfully.\")\n",
    "            self.rate_blast_btn.config(state=tk.NORMAL)\n",
    "\n",
    "            # Update the video name label\n",
    "            self.video_name_label.config(text=f\"Video Name: {self.video_name}\")\n",
    "\n",
    "    def visualize_data(self):\n",
    "        if self.data:\n",
    "            try:\n",
    "                combined_data = pd.concat(self.data, ignore_index=True)\n",
    "                numeric_cols = combined_data.select_dtypes(include=[\"number\"])\n",
    "\n",
    "                if numeric_cols.shape[1] < 3:\n",
    "                    messagebox.showerror(\"Error\", \"Data must contain at least three numeric columns for visualization.\")\n",
    "                    return\n",
    "\n",
    "                x, y, z = numeric_cols.columns[:3]\n",
    "                fig = Figure(figsize=(10, 5), dpi=100)\n",
    "                ax1 = fig.add_subplot(121)  # Subplot for bar chart\n",
    "                ax2 = fig.add_subplot(122, projection=\"3d\")\n",
    "\n",
    "                avg_displacement = numeric_cols[x].mean()\n",
    "                max_displacement = numeric_cols[y].max()\n",
    "                centroid_shift = numeric_cols[z].mean()\n",
    "\n",
    "                # Bar chart for displacements\n",
    "                labels = ['Avg', 'Max', 'Centroid']\n",
    "                values = [avg_displacement, max_displacement, centroid_shift]\n",
    "\n",
    "                ax1.bar(labels, values, color=['blue', 'green', 'red'])\n",
    "                ax1.set_title(\"Blast Displacement Analysis\")\n",
    "                ax1.set_ylabel(\"Displacement (pixels)\")\n",
    "\n",
    "                ax2.scatter(numeric_cols[x], numeric_cols[y], numeric_cols[z])\n",
    "                ax2.set_title(\"3D Scatter\")\n",
    "\n",
    "                canvas_widget = FigureCanvasTkAgg(fig, self.scrollable_frame)\n",
    "                canvas_widget.draw()\n",
    "                canvas_widget.get_tk_widget().pack(fill=tk.BOTH, expand=True)\n",
    "\n",
    "            except Exception as e:\n",
    "                messagebox.showerror(\"Error\", f\"Visualization failed: {e}\")\n",
    "\n",
    "    def rate_blast(self):\n",
    "        if self.data and self.video_file_path:\n",
    "            try:\n",
    "                combined_data = pd.concat(self.data, ignore_index=True)\n",
    "\n",
    "                required_columns = ['Drillhole_X', 'Drillhole_Y', 'Drillhole_Z', 'Drillhole_Length', 'Drillhole_Dip', 'Drillhole_Azimuth']\n",
    "                for col in required_columns:\n",
    "                    if col not in combined_data.columns:\n",
    "                        messagebox.showerror(\"Error\", f\"Missing required column: {col}\")\n",
    "                        return\n",
    "\n",
    "                for col in required_columns:\n",
    "                    combined_data[col] = pd.to_numeric(combined_data[col], errors='coerce')\n",
    "\n",
    "                nan_rows = combined_data[required_columns].isna().any(axis=1)\n",
    "                if nan_rows.any():\n",
    "                    problematic_data = combined_data[nan_rows]\n",
    "                    messagebox.showerror(\"Error\", f\"Some rows contain non-numeric values or are missing data:\\n{problematic_data}\")\n",
    "                    return\n",
    "\n",
    "                self.process_video_for_rating()\n",
    "\n",
    "                combined_data['Avg_Displacement'] = self.avg_displacement\n",
    "                combined_data['Max_Displacement'] = self.max_displacement\n",
    "                combined_data['Centroid_Shift'] = self.centroid_shift\n",
    "                combined_data['Earliest_Pixel_Disp'] = self.earliest_pixel_disp\n",
    "                combined_data['PPV'] = self.ppv\n",
    "                combined_data['Overpressure'] = self.overpressure\n",
    "\n",
    "                total_displacement = self.avg_displacement * self.max_displacement\n",
    "                combined_data['Total_Displacement'] = total_displacement\n",
    "\n",
    "                rating, explanation = rate_blast_logic(\n",
    "                    self.avg_displacement,\n",
    "                    self.max_displacement,\n",
    "                    self.centroid_shift,\n",
    "                    total_displacement, \n",
    "                    self.earliest_pixel_disp,\n",
    "                    self.ppv,\n",
    "                    self.overpressure,\n",
    "                    'B3'\n",
    "                )\n",
    "                combined_data['Blast_Rating'] = rating\n",
    "                combined_data['Rating_Explanation'] = explanation\n",
    "\n",
    "                for file_path in self.csv_file_paths:\n",
    "                    output_path = file_path.replace(\".csv\", \"_rated.csv\")\n",
    "                    combined_data.to_csv(output_path, index=False)\n",
    "                    messagebox.showinfo(\"Success\", f\"Blast ratings saved to {output_path}\")\n",
    "\n",
    "                # Update the labels to display the new parameters\n",
    "                self.parameter_labels['avg_displacement'].config(text=f\"Avg Displacement: {self.avg_displacement:.2f} pixels\")\n",
    "                self.parameter_labels['max_displacement'].config(text=f\"Max Displacement: {self.max_displacement:.2f} pixels\")\n",
    "                self.parameter_labels['centroid_shift'].config(text=f\"Centroid Shift: {self.centroid_shift:.2f} pixels\")\n",
    "                self.parameter_labels['total_displacement'].config(text=f\"Total Displacement: {total_displacement:.2f} pixels\")\n",
    "                self.parameter_labels['earliest_pixel_disp'].config(text=f\"Earliest Pixel Disp: {self.earliest_pixel_disp:.2f} pixels\")\n",
    "                self.parameter_labels['ppv'].config(text=f\"PPV: {self.ppv:.2f} m/s\")\n",
    "\n",
    "                # Update the output label to show the rating and explanation\n",
    "                self.output_label.config(text=f\"Blast Rating: {rating}\")\n",
    "                self.explanation_label.config(text=f\"Explanation: {explanation}\")\n",
    "\n",
    "            except Exception as e:\n",
    "                messagebox.showerror(\"Error\", f\"Failed to rate blast: {e}\")\n",
    "\n",
    "    def process_video_for_rating(self):\n",
    "        cap = cv2.VideoCapture(self.video_file_path)\n",
    "        frame_count = int(cap.get(cv2.CAP_PROP_FRAME_COUNT))\n",
    "        \n",
    "        pre_blast_frame = None\n",
    "        post_blast_frame = None\n",
    "        blast_frame_index = int(frame_count * 0.5)\n",
    "        \n",
    "        for i in range(blast_frame_index - 10, blast_frame_index + 10):\n",
    "            cap.set(cv2.CAP_PROP_POS_FRAMES, i)\n",
    "            ret, frame = cap.read()\n",
    "            if not ret:\n",
    "                break\n",
    "        \n",
    "            if i < blast_frame_index:\n",
    "                pre_blast_frame = frame\n",
    "            else:\n",
    "                post_blast_frame = frame\n",
    "        \n",
    "        cap.release()\n",
    "        \n",
    "        if pre_blast_frame is not None and post_blast_frame is not None:\n",
    "            displacement, earliest_pixel_disp = self.calculate_displacement(pre_blast_frame, post_blast_frame)\n",
    "    \n",
    "            self.avg_displacement = displacement\n",
    "            self.max_displacement = displacement * 2\n",
    "            self.centroid_shift = earliest_pixel_disp\n",
    "            self.earliest_pixel_disp = earliest_pixel_disp\n",
    "    \n",
    "            total_displacement = self.avg_displacement * self.max_displacement\n",
    "            self.ppv = 10.0\n",
    "            self.overpressure = 120\n",
    "\n",
    "    def calculate_displacement(self, pre_blast_frame, post_blast_frame):\n",
    "        displacement = np.random.uniform(1, 3)\n",
    "        earliest_pixel_disp = np.random.uniform(0.1, 0.5)\n",
    "        return displacement, earliest_pixel_disp\n",
    "\n",
    "# Run Application\n",
    "root = tk.Tk()\n",
    "app = BlastVideoRatingApp(root)\n",
    "root.mainloop()\n",
    "##### FINAL"
   ]
  },
  {
   "cell_type": "code",
   "execution_count": null,
   "id": "f6003ac7-1050-4330-9709-65ef6f4d6630",
   "metadata": {},
   "outputs": [],
   "source": []
  },
  {
   "cell_type": "code",
   "execution_count": 8,
   "id": "e5c8076a-eb83-451f-8cac-d1ae7b19b8af",
   "metadata": {},
   "outputs": [
    {
     "name": "stdout",
     "output_type": "stream",
     "text": [
      "Classification Report:\n",
      "              precision    recall  f1-score   support\n",
      "\n",
      "           A       0.95      0.91      0.93        22\n",
      "           B       0.70      0.88      0.78        16\n",
      "           C       0.95      0.82      0.88        22\n",
      "\n",
      "    accuracy                           0.87        60\n",
      "   macro avg       0.87      0.87      0.86        60\n",
      "weighted avg       0.88      0.87      0.87        60\n",
      "\n",
      "Accuracy: 0.8666666666666667\n",
      "\n",
      "Predicted Rating for New Data: B\n"
     ]
    },
    {
     "data": {
      "image/png": "[encoded data removed]",
      "text/plain": [
       "<Figure size 640x480 with 2 Axes>"
      ]
     },
     "metadata": {},
     "output_type": "display_data"
    },
    {
     "data": {
      "image/png": "[encoded data removed]",
      "text/plain": [
       "<Figure size 800x600 with 1 Axes>"
      ]
     },
     "metadata": {},
     "output_type": "display_data"
    }
   ],
   "source": [
    "# ML Model Accuracy through Confusion Matrix and Random Forest Feature\n",
    "\n",
    "import pandas as pd\n",
    "import numpy as np\n",
    "import os\n",
    "from sklearn.model_selection import train_test_split\n",
    "from sklearn.ensemble import RandomForestClassifier\n",
    "from sklearn.preprocessing import LabelEncoder, StandardScaler\n",
    "from sklearn.metrics import classification_report, accuracy_score, ConfusionMatrixDisplay\n",
    "import matplotlib.pyplot as plt\n",
    "\n",
    "# Generate data for ratings A, B, and C with additional features\n",
    "def generate_drillhole_data(rating, n_samples=100):\n",
    "    np.random.seed(42)\n",
    "    data = []\n",
    "    for _ in range(n_samples):\n",
    "        if rating == \"A\":\n",
    "            Drillhole_X = np.random.uniform(0, 300)\n",
    "            Drillhole_Y = np.random.uniform(0, 300)\n",
    "            Drillhole_Z = np.random.uniform(0, 100)\n",
    "            Drillhole_Length = np.random.uniform(50, 100)\n",
    "            Drillhole_Dip = np.random.uniform(0, 30)\n",
    "            Drillhole_Azimuth = np.random.uniform(0, 360)\n",
    "        elif rating == \"B\":\n",
    "            Drillhole_X = np.random.uniform(100, 400)\n",
    "            Drillhole_Y = np.random.uniform(100, 400)\n",
    "            Drillhole_Z = np.random.uniform(0, 200)\n",
    "            Drillhole_Length = np.random.uniform(50, 150)\n",
    "            Drillhole_Dip = np.random.uniform(10, 60)\n",
    "            Drillhole_Azimuth = np.random.uniform(0, 360)\n",
    "        elif rating == \"C\":\n",
    "            Drillhole_X = np.random.uniform(200, 500)\n",
    "            Drillhole_Y = np.random.uniform(200, 500)\n",
    "            Drillhole_Z = np.random.uniform(50, 250)\n",
    "            Drillhole_Length = np.random.uniform(100, 200)\n",
    "            Drillhole_Dip = np.random.uniform(20, 70)\n",
    "            Drillhole_Azimuth = np.random.uniform(0, 360)\n",
    "\n",
    "        # Additional features (randomized)\n",
    "        Avg_Displacement = np.random.uniform(0, 5)  # Random value between 0 and 5\n",
    "        Max_Displacement = np.random.uniform(0, 10)  # Random value between 0 and 10\n",
    "        Centroid_Shift = np.random.uniform(0, 2)  # Random value between 0 and 2\n",
    "        Earliest_Pixel_Disp = np.random.uniform(0, 1)  # Random value between 0 and 1\n",
    "        PPV = np.random.uniform(5, 20)  # Random value between 5 and 20\n",
    "        Overpressure = np.random.uniform(100, 150)  # Random value between 100 and 150\n",
    "        Total_Displacement = Avg_Displacement * Max_Displacement  # Derived feature\n",
    "\n",
    "        # Append the full row of features\n",
    "        data.append([Drillhole_X, Drillhole_Y, Drillhole_Z, Drillhole_Length, Drillhole_Dip, Drillhole_Azimuth,\n",
    "                     Avg_Displacement, Max_Displacement, Centroid_Shift, Earliest_Pixel_Disp, PPV, Overpressure, \n",
    "                     Total_Displacement, rating])  # 14 columns per sample\n",
    "    return data\n",
    "\n",
    "# Generate data for ratings A, B, and C\n",
    "data_a = generate_drillhole_data(\"A\", 100)\n",
    "data_b = generate_drillhole_data(\"B\", 100)\n",
    "data_c = generate_drillhole_data(\"C\", 100)\n",
    "\n",
    "# Combine into a single DataFrame\n",
    "columns = [\"Drillhole_X\", \"Drillhole_Y\", \"Drillhole_Z\", \"Drillhole_Length\", \"Drillhole_Dip\", \"Drillhole_Azimuth\",\n",
    "           \"Avg_Displacement\", \"Max_Displacement\", \"Centroid_Shift\", \"Earliest_Pixel_Disp\", \"PPV\", \"Overpressure\",\n",
    "           \"Total_Displacement\", \"Rating\"]\n",
    "\n",
    "data = pd.DataFrame(data_a + data_b + data_c, columns=columns)\n",
    "\n",
    "# Encode labels (A=0, B=1, C=2)\n",
    "label_encoder = LabelEncoder()\n",
    "data[\"Rating\"] = label_encoder.fit_transform(data[\"Rating\"])\n",
    "\n",
    "# Split data into features (X) and labels (y)\n",
    "X = data.drop(\"Rating\", axis=1)\n",
    "y = data[\"Rating\"]\n",
    "\n",
    "# Normalize features\n",
    "scaler = StandardScaler()\n",
    "X = scaler.fit_transform(X)\n",
    "\n",
    "# Split into training and testing sets\n",
    "X_train, X_test, y_train, y_test = train_test_split(X, y, test_size=0.2, random_state=42)\n",
    "\n",
    "# Train a Random Forest Classifier\n",
    "model = RandomForestClassifier(random_state=42)\n",
    "model.fit(X_train, y_train)\n",
    "\n",
    "# Predict on the test set\n",
    "y_pred = model.predict(X_test)\n",
    "\n",
    "# Evaluate the model\n",
    "print(\"Classification Report:\")\n",
    "print(classification_report(y_test, y_pred, target_names=label_encoder.classes_))\n",
    "print(\"Accuracy:\", accuracy_score(y_test, y_pred))\n",
    "\n",
    "# Predict the rating for new data\n",
    "new_data = pd.DataFrame([[250, 250, 150, 120, 40, 180, 3, 4, 1, 0.5, 10, 130, 12]],\n",
    "                        columns=[\"Drillhole_X\", \"Drillhole_Y\", \"Drillhole_Z\", \"Drillhole_Length\", \"Drillhole_Dip\",\n",
    "                                 \"Drillhole_Azimuth\", \"Avg_Displacement\", \"Max_Displacement\", \"Centroid_Shift\",\n",
    "                                 \"Earliest_Pixel_Disp\", \"PPV\", \"Overpressure\", \"Total_Displacement\"])\n",
    "new_data_scaled = scaler.transform(new_data)\n",
    "predicted_rating = label_encoder.inverse_transform(model.predict(new_data_scaled))\n",
    "print(\"\\nPredicted Rating for New Data:\", predicted_rating[0])\n",
    "\n",
    "# Plot Confusion Matrix\n",
    "ConfusionMatrixDisplay.from_estimator(model, X_test, y_test, display_labels=label_encoder.classes_, cmap=\"Blues\")\n",
    "plt.title(\"Confusion Matrix\")\n",
    "plt.show()\n",
    "\n",
    "# Plot Feature Importance\n",
    "feature_importance = model.feature_importances_\n",
    "features = [\"Drillhole_X\", \"Drillhole_Y\", \"Drillhole_Z\", \"Drillhole_Length\", \"Drillhole_Dip\", \"Drillhole_Azimuth\",\n",
    "            \"Avg_Displacement\", \"Max_Displacement\", \"Centroid_Shift\", \"Earliest_Pixel_Disp\", \"PPV\", \"Overpressure\", \n",
    "            \"Total_Displacement\"]\n",
    "\n",
    "plt.figure(figsize=(8, 6))\n",
    "plt.barh(features, feature_importance, color='skyblue')\n",
    "plt.xlabel(\"Feature Importance\")\n",
    "plt.title(\"Random Forest Feature Importance\")\n",
    "plt.gca().invert_yaxis()\n",
    "plt.show()"
   ]
  },
  {
   "cell_type": "code",
   "execution_count": 10,
   "id": "4c08faac-0816-4940-8970-45a03b927333",
   "metadata": {},
   "outputs": [],
   "source": [
    "# Machine learning recommendation for future blasting plan\n",
    "\n",
    "import pandas as pd\n",
    "import numpy as np\n",
    "import tkinter as tk\n",
    "from tkinter import messagebox\n",
    "from sklearn.model_selection import train_test_split\n",
    "from sklearn.preprocessing import LabelEncoder, StandardScaler\n",
    "from sklearn.ensemble import RandomForestClassifier\n",
    "from sklearn.metrics import classification_report, accuracy_score\n",
    "\n",
    "# Function to generate drillhole data for ratings A, B, and C\n",
    "def generate_drillhole_data(rating, n_samples=100):\n",
    "    np.random.seed(42)  # For reproducibility\n",
    "    data = []\n",
    "    for _ in range(n_samples):\n",
    "        if rating == \"A\":\n",
    "            Drillhole_X = np.random.uniform(0, 300)\n",
    "            Drillhole_Y = np.random.uniform(0, 300)\n",
    "            Drillhole_Z = np.random.uniform(0, 100)\n",
    "            Drillhole_ToeX = Drillhole_X + np.random.uniform(-5, 5)  # Small offset for ToeX\n",
    "            Drillhole_ToeY = Drillhole_Y + np.random.uniform(-5, 5)  # Small offset for ToeY\n",
    "            Drillhole_ToeZ = Drillhole_Z + np.random.uniform(-2, 2)  # Small offset for ToeZ\n",
    "            Drillhole_Length = np.random.uniform(50, 100)\n",
    "            Drillhole_Dip = np.random.uniform(0, 30)\n",
    "            Drillhole_Azimuth = np.random.uniform(0, 360)\n",
    "        elif rating == \"B\":\n",
    "            Drillhole_X = np.random.uniform(100, 400)\n",
    "            Drillhole_Y = np.random.uniform(100, 400)\n",
    "            Drillhole_Z = np.random.uniform(0, 200)\n",
    "            Drillhole_ToeX = Drillhole_X + np.random.uniform(-10, 10)\n",
    "            Drillhole_ToeY = Drillhole_Y + np.random.uniform(-10, 10)\n",
    "            Drillhole_ToeZ = Drillhole_Z + np.random.uniform(-5, 5)\n",
    "            Drillhole_Length = np.random.uniform(50, 150)\n",
    "            Drillhole_Dip = np.random.uniform(10, 60)\n",
    "            Drillhole_Azimuth = np.random.uniform(0, 360)\n",
    "        elif rating == \"C\":\n",
    "            Drillhole_X = np.random.uniform(200, 500)\n",
    "            Drillhole_Y = np.random.uniform(200, 500)\n",
    "            Drillhole_Z = np.random.uniform(50, 250)\n",
    "            Drillhole_ToeX = Drillhole_X + np.random.uniform(-20, 20)\n",
    "            Drillhole_ToeY = Drillhole_Y + np.random.uniform(-20, 20)\n",
    "            Drillhole_ToeZ = Drillhole_Z + np.random.uniform(-10, 10)\n",
    "            Drillhole_Length = np.random.uniform(100, 200)\n",
    "            Drillhole_Dip = np.random.uniform(20, 70)\n",
    "            Drillhole_Azimuth = np.random.uniform(0, 360)\n",
    "        data.append([Drillhole_X, Drillhole_Y, Drillhole_Z, Drillhole_ToeX, Drillhole_ToeY, Drillhole_ToeZ, Drillhole_Length, Drillhole_Dip, Drillhole_Azimuth, rating])\n",
    "    return data\n",
    "\n",
    "# Load data and train model (simplified for the UI)\n",
    "def train_model():\n",
    "    # Generate data for each rating\n",
    "    data_a = generate_drillhole_data(\"A\", 100)\n",
    "    data_b = generate_drillhole_data(\"B\", 100)\n",
    "    data_c = generate_drillhole_data(\"C\", 100)\n",
    "\n",
    "    # Combine into a single DataFrame\n",
    "    columns = [\"Drillhole_X\", \"Drillhole_Y\", \"Drillhole_Z\", \"Drillhole_ToeX\", \"Drillhole_ToeY\", \"Drillhole_ToeZ\", \"Drillhole_Length\", \"Drillhole_Dip\", \"Drillhole_Azimuth\", \"Rating\"]\n",
    "    data = pd.DataFrame(data_a + data_b + data_c, columns=columns)\n",
    "\n",
    "    # Encode labels (A=0, B=1, C=2)\n",
    "    label_encoder = LabelEncoder()\n",
    "    data[\"Rating\"] = label_encoder.fit_transform(data[\"Rating\"])\n",
    "\n",
    "    # Split data into features (X) and labels (y)\n",
    "    X = data.drop(\"Rating\", axis=1)\n",
    "    y = data[\"Rating\"]\n",
    "\n",
    "    # Normalize features\n",
    "    scaler = StandardScaler()\n",
    "    X_scaled = scaler.fit_transform(X)\n",
    "\n",
    "    # Split into training and testing sets\n",
    "    X_train, X_test, y_train, y_test = train_test_split(X_scaled, y, test_size=0.2, random_state=42)\n",
    "\n",
    "    # Train a Random Forest Classifier\n",
    "    model = RandomForestClassifier(random_state=42)\n",
    "    model.fit(X_train, y_train)\n",
    "\n",
    "    # Predict on the test set\n",
    "    y_pred = model.predict(X_test)\n",
    "\n",
    "    # Evaluate the model\n",
    "    accuracy = accuracy_score(y_test, y_pred)\n",
    "    class_report = classification_report(y_test, y_pred, target_names=label_encoder.classes_)\n",
    "\n",
    "    # Return the necessary data\n",
    "    return accuracy, class_report, model, scaler, label_encoder, X.columns\n",
    "\n",
    "# Function to predict the rating for new data\n",
    "def predict_rating(model, scaler, label_encoder, new_data, feature_columns):\n",
    "    new_data_df = pd.DataFrame(new_data, columns=feature_columns)  # Wrap in DataFrame with column names\n",
    "    new_data_scaled = scaler.transform(new_data_df)  # Scale the data\n",
    "    predicted_rating = label_encoder.inverse_transform(model.predict(new_data_scaled))\n",
    "    return predicted_rating[0]\n",
    "\n",
    "# UI setup\n",
    "def create_ui():\n",
    "    # Create the main window\n",
    "    root = tk.Tk()\n",
    "    root.title(\"Blast Rating Prediction\")\n",
    "    root.geometry(\"600x600\")\n",
    "\n",
    "    # Training the model\n",
    "    accuracy, class_report, model, scaler, label_encoder, feature_columns = train_model()\n",
    "\n",
    "    # Accuracy label\n",
    "    accuracy_label = tk.Label(root, text=f\"Accuracy: {accuracy:.4f}\", font=(\"Arial\", 12))\n",
    "    accuracy_label.pack(pady=10)\n",
    "\n",
    "    # Classification Report label\n",
    "    class_report_label = tk.Label(root, text=\"Classification Report:\", font=(\"Arial\", 12))\n",
    "    class_report_label.pack(pady=10)\n",
    "\n",
    "    # Add the classification report to the window\n",
    "    class_report_text = tk.Text(root, height=10, width=70)\n",
    "    class_report_text.insert(tk.END, class_report)\n",
    "    class_report_text.pack(pady=10)\n",
    "\n",
    "    # Entry fields for new data\n",
    "    new_data_label = tk.Label(root, text=\"Enter new drillhole data (X, Y, Z, ToeX, ToeY, ToeZ, Length, Dip, Azimuth):\", font=(\"Arial\", 12))\n",
    "    new_data_label.pack(pady=10)\n",
    "\n",
    "    entry_x = tk.Entry(root, width=10)\n",
    "    entry_x.pack(pady=5)\n",
    "    entry_x.insert(0, \"250\")\n",
    "\n",
    "    entry_y = tk.Entry(root, width=10)\n",
    "    entry_y.pack(pady=5)\n",
    "    entry_y.insert(0, \"250\")\n",
    "\n",
    "    entry_z = tk.Entry(root, width=10)\n",
    "    entry_z.pack(pady=5)\n",
    "    entry_z.insert(0, \"150\")\n",
    "\n",
    "    entry_toex = tk.Entry(root, width=10)\n",
    "    entry_toex.pack(pady=5)\n",
    "    entry_toex.insert(0, \"245\")\n",
    "\n",
    "    entry_toey = tk.Entry(root, width=10)\n",
    "    entry_toey.pack(pady=5)\n",
    "    entry_toey.insert(0, \"245\")\n",
    "\n",
    "    entry_toez = tk.Entry(root, width=10)\n",
    "    entry_toez.pack(pady=5)\n",
    "    entry_toez.insert(0, \"148\")\n",
    "\n",
    "    entry_length = tk.Entry(root, width=10)\n",
    "    entry_length.pack(pady=5)\n",
    "    entry_length.insert(0, \"120\")\n",
    "\n",
    "    entry_dip = tk.Entry(root, width=10)\n",
    "    entry_dip.pack(pady=5)\n",
    "    entry_dip.insert(0, \"40\")\n",
    "\n",
    "    entry_azimuth = tk.Entry(root, width=10)\n",
    "    entry_azimuth.pack(pady=5)\n",
    "    entry_azimuth.insert(0, \"180\")\n",
    "\n",
    "    # Button to predict the rating\n",
    "    def on_predict():\n",
    "        try:\n",
    "            # Collect new data as a list\n",
    "            new_data = np.array([[float(entry_x.get()), float(entry_y.get()), float(entry_z.get()), \n",
    "                                  float(entry_toex.get()), float(entry_toey.get()), float(entry_toez.get()), \n",
    "                                  float(entry_length.get()), float(entry_dip.get()), float(entry_azimuth.get())]])\n",
    "            predicted_rating = predict_rating(model, scaler, label_encoder, new_data, feature_columns)\n",
    "            result_label.config(text=f\"Predicted Rating: {predicted_rating}\")\n",
    "        except Exception as e:\n",
    "            messagebox.showerror(\"Error\", f\"Failed to make prediction: {e}\")\n",
    "\n",
    "    predict_button = tk.Button(root, text=\"Predict Rating\", command=on_predict)\n",
    "    predict_button.pack(pady=10)\n",
    "\n",
    "    # Result label\n",
    "    result_label = tk.Label(root, text=\"Predicted Rating: \", font=(\"Arial\", 14))\n",
    "    result_label.pack(pady=10)\n",
    "\n",
    "    # Start the main loop\n",
    "    root.mainloop()\n",
    "\n",
    "# Run the UI\n",
    "create_ui()"
   ]
  },
  {
   "cell_type": "code",
   "execution_count": 15,
   "id": "d8a8ba53-d6c3-443b-ab1b-53efa521fae4",
   "metadata": {},
   "outputs": [
    {
     "data": {
      "application/vnd.plotly.v1+json": {
       "config": {
        "plotlyServerURL": "https://plot.ly"
       },
       "data": [
        {
         "hovertemplate": "Blast Rating=A<br>X Coordinate=%{x}<br>Y Coordinate=%{y}<br>Z Coordinate=%{z}<extra></extra>",
         "legendgroup": "A",
         "marker": {
          "color": "#636efa",
          "size": 12,
          "symbol": "circle"
         },
         "mode": "markers",
         "name": "A",
         "scene": "scene",
         "showlegend": true,
         "type": "scatter3d",
         "x": [
          429356.65,
          429370.27,
          429386.68,
          429403.1,
          429419.51,
          429435.92,
          429452.34
         ],
         "y": [
          5266339.42,
          5266347.11,
          5266356.48,
          5266365.85,
          5266375.22,
          5266384.59,
          5266393.96
         ],
         "z": [
          340.38,
          341.18,
          340.69,
          340.5,
          340.37,
          340.8,
          340.55
         ]
        },
        {
         "hovertemplate": "Blast Rating=B<br>X Coordinate=%{x}<br>Y Coordinate=%{y}<br>Z Coordinate=%{z}<extra></extra>",
         "legendgroup": "B",
         "marker": {
          "color": "#EF553B",
          "size": 12,
          "symbol": "circle"
         },
         "mode": "markers",
         "name": "B",
         "scene": "scene",
         "showlegend": true,
         "type": "scatter3d",
         "x": [
          429360.67,
          429374.8,
          429392.15,
          429408.57,
          429424.98,
          429441.4,
          429457.6
         ],
         "y": [
          5266341.5,
          5266349.73,
          5266359.6,
          5266368.97,
          5266378.34,
          5266387.71,
          5266396.93
         ],
         "z": [
          340.36,
          340.55,
          340.61,
          340.49,
          340.51,
          340.76,
          340.53
         ]
        },
        {
         "hovertemplate": "Blast Rating=C<br>X Coordinate=%{x}<br>Y Coordinate=%{y}<br>Z Coordinate=%{z}<extra></extra>",
         "legendgroup": "C",
         "marker": {
          "color": "#00cc96",
          "size": 12,
          "symbol": "circle"
         },
         "mode": "markers",
         "name": "C",
         "scene": "scene",
         "showlegend": true,
         "type": "scatter3d",
         "x": [
          429364.8,
          429381.21,
          429397.76,
          429413.71,
          429430.45,
          429446.87
         ],
         "y": [
          5266343.99,
          5266353.36,
          5266362.83,
          5266371.81,
          5266381.47,
          5266390.84
         ],
         "z": [
          340.56,
          340.64,
          340.56,
          340.44,
          340.67,
          340.6
         ]
        }
       ],
       "layout": {
        "height": 360,
        "legend": {
         "title": {
          "text": "Blast Rating"
         },
         "tracegroupgap": 0
        },
        "scene": {
         "domain": {
          "x": [
           0,
           1
          ],
          "y": [
           0,
           1
          ]
         },
         "xaxis": {
          "title": {
           "text": "X Coordinate"
          }
         },
         "yaxis": {
          "title": {
           "text": "Y Coordinate"
          }
         },
         "zaxis": {
          "title": {
           "text": "Z Coordinate"
          }
         }
        },
        "template": {
         "data": {
          "bar": [
           {
            "error_x": {
             "color": "#2a3f5f"
            },
            "error_y": {
             "color": "#2a3f5f"
            },
            "marker": {
             "line": {
              "color": "#E5ECF6",
              "width": 0.5
             },
             "pattern": {
              "fillmode": "overlay",
              "size": 10,
              "solidity": 0.2
             }
            },
            "type": "bar"
           }
          ],
          "barpolar": [
           {
            "marker": {
             "line": {
              "color": "#E5ECF6",
              "width": 0.5
             },
             "pattern": {
              "fillmode": "overlay",
              "size": 10,
              "solidity": 0.2
             }
            },
            "type": "barpolar"
           }
          ],
          "carpet": [
           {
            "aaxis": {
             "endlinecolor": "#2a3f5f",
             "gridcolor": "white",
             "linecolor": "white",
             "minorgridcolor": "white",
             "startlinecolor": "#2a3f5f"
            },
            "baxis": {
             "endlinecolor": "#2a3f5f",
             "gridcolor": "white",
             "linecolor": "white",
             "minorgridcolor": "white",
             "startlinecolor": "#2a3f5f"
            },
            "type": "carpet"
           }
          ],
          "choropleth": [
           {
            "colorbar": {
             "outlinewidth": 0,
             "ticks": ""
            },
            "type": "choropleth"
           }
          ],
          "contour": [
           {
            "colorbar": {
             "outlinewidth": 0,
             "ticks": ""
            },
            "colorscale": [
             [
              0,
              "#0d0887"
             ],
             [
              0.1111111111111111,
              "#46039f"
             ],
             [
              0.2222222222222222,
              "#7201a8"
             ],
             [
              0.3333333333333333,
              "#9c179e"
             ],
             [
              0.4444444444444444,
              "#bd3786"
             ],
             [
              0.5555555555555556,
              "#d8576b"
             ],
             [
              0.6666666666666666,
              "#ed7953"
             ],
             [
              0.7777777777777778,
              "#fb9f3a"
             ],
             [
              0.8888888888888888,
              "#fdca26"
             ],
             [
              1,
              "#f0f921"
             ]
            ],
            "type": "contour"
           }
          ],
          "contourcarpet": [
           {
            "colorbar": {
             "outlinewidth": 0,
             "ticks": ""
            },
            "type": "contourcarpet"
           }
          ],
          "heatmap": [
           {
            "colorbar": {
             "outlinewidth": 0,
             "ticks": ""
            },
            "colorscale": [
             [
              0,
              "#0d0887"
             ],
             [
              0.1111111111111111,
              "#46039f"
             ],
             [
              0.2222222222222222,
              "#7201a8"
             ],
             [
              0.3333333333333333,
              "#9c179e"
             ],
             [
              0.4444444444444444,
              "#bd3786"
             ],
             [
              0.5555555555555556,
              "#d8576b"
             ],
             [
              0.6666666666666666,
              "#ed7953"
             ],
             [
              0.7777777777777778,
              "#fb9f3a"
             ],
             [
              0.8888888888888888,
              "#fdca26"
             ],
             [
              1,
              "#f0f921"
             ]
            ],
            "type": "heatmap"
           }
          ],
          "heatmapgl": [
           {
            "colorbar": {
             "outlinewidth": 0,
             "ticks": ""
            },
            "colorscale": [
             [
              0,
              "#0d0887"
             ],
             [
              0.1111111111111111,
              "#46039f"
             ],
             [
              0.2222222222222222,
              "#7201a8"
             ],
             [
              0.3333333333333333,
              "#9c179e"
             ],
             [
              0.4444444444444444,
              "#bd3786"
             ],
             [
              0.5555555555555556,
              "#d8576b"
             ],
             [
              0.6666666666666666,
              "#ed7953"
             ],
             [
              0.7777777777777778,
              "#fb9f3a"
             ],
             [
              0.8888888888888888,
              "#fdca26"
             ],
             [
              1,
              "#f0f921"
             ]
            ],
            "type": "heatmapgl"
           }
          ],
          "histogram": [
           {
            "marker": {
             "pattern": {
              "fillmode": "overlay",
              "size": 10,
              "solidity": 0.2
             }
            },
            "type": "histogram"
           }
          ],
          "histogram2d": [
           {
            "colorbar": {
             "outlinewidth": 0,
             "ticks": ""
            },
            "colorscale": [
             [
              0,
              "#0d0887"
             ],
             [
              0.1111111111111111,
              "#46039f"
             ],
             [
              0.2222222222222222,
              "#7201a8"
             ],
             [
              0.3333333333333333,
              "#9c179e"
             ],
             [
              0.4444444444444444,
              "#bd3786"
             ],
             [
              0.5555555555555556,
              "#d8576b"
             ],
             [
              0.6666666666666666,
              "#ed7953"
             ],
             [
              0.7777777777777778,
              "#fb9f3a"
             ],
             [
              0.8888888888888888,
              "#fdca26"
             ],
             [
              1,
              "#f0f921"
             ]
            ],
            "type": "histogram2d"
           }
          ],
          "histogram2dcontour": [
           {
            "colorbar": {
             "outlinewidth": 0,
             "ticks": ""
            },
            "colorscale": [
             [
              0,
              "#0d0887"
             ],
             [
              0.1111111111111111,
              "#46039f"
             ],
             [
              0.2222222222222222,
              "#7201a8"
             ],
             [
              0.3333333333333333,
              "#9c179e"
             ],
             [
              0.4444444444444444,
              "#bd3786"
             ],
             [
              0.5555555555555556,
              "#d8576b"
             ],
             [
              0.6666666666666666,
              "#ed7953"
             ],
             [
              0.7777777777777778,
              "#fb9f3a"
             ],
             [
              0.8888888888888888,
              "#fdca26"
             ],
             [
              1,
              "#f0f921"
             ]
            ],
            "type": "histogram2dcontour"
           }
          ],
          "mesh3d": [
           {
            "colorbar": {
             "outlinewidth": 0,
             "ticks": ""
            },
            "type": "mesh3d"
           }
          ],
          "parcoords": [
           {
            "line": {
             "colorbar": {
              "outlinewidth": 0,
              "ticks": ""
             }
            },
            "type": "parcoords"
           }
          ],
          "pie": [
           {
            "automargin": true,
            "type": "pie"
           }
          ],
          "scatter": [
           {
            "fillpattern": {
             "fillmode": "overlay",
             "size": 10,
             "solidity": 0.2
            },
            "type": "scatter"
           }
          ],
          "scatter3d": [
           {
            "line": {
             "colorbar": {
              "outlinewidth": 0,
              "ticks": ""
             }
            },
            "marker": {
             "colorbar": {
              "outlinewidth": 0,
              "ticks": ""
             }
            },
            "type": "scatter3d"
           }
          ],
          "scattercarpet": [
           {
            "marker": {
             "colorbar": {
              "outlinewidth": 0,
              "ticks": ""
             }
            },
            "type": "scattercarpet"
           }
          ],
          "scattergeo": [
           {
            "marker": {
             "colorbar": {
              "outlinewidth": 0,
              "ticks": ""
             }
            },
            "type": "scattergeo"
           }
          ],
          "scattergl": [
           {
            "marker": {
             "colorbar": {
              "outlinewidth": 0,
              "ticks": ""
             }
            },
            "type": "scattergl"
           }
          ],
          "scattermapbox": [
           {
            "marker": {
             "colorbar": {
              "outlinewidth": 0,
              "ticks": ""
             }
            },
            "type": "scattermapbox"
           }
          ],
          "scatterpolar": [
           {
            "marker": {
             "colorbar": {
              "outlinewidth": 0,
              "ticks": ""
             }
            },
            "type": "scatterpolar"
           }
          ],
          "scatterpolargl": [
           {
            "marker": {
             "colorbar": {
              "outlinewidth": 0,
              "ticks": ""
             }
            },
            "type": "scatterpolargl"
           }
          ],
          "scatterternary": [
           {
            "marker": {
             "colorbar": {
              "outlinewidth": 0,
              "ticks": ""
             }
            },
            "type": "scatterternary"
           }
          ],
          "surface": [
           {
            "colorbar": {
             "outlinewidth": 0,
             "ticks": ""
            },
            "colorscale": [
             [
              0,
              "#0d0887"
             ],
             [
              0.1111111111111111,
              "#46039f"
             ],
             [
              0.2222222222222222,
              "#7201a8"
             ],
             [
              0.3333333333333333,
              "#9c179e"
             ],
             [
              0.4444444444444444,
              "#bd3786"
             ],
             [
              0.5555555555555556,
              "#d8576b"
             ],
             [
              0.6666666666666666,
              "#ed7953"
             ],
             [
              0.7777777777777778,
              "#fb9f3a"
             ],
             [
              0.8888888888888888,
              "#fdca26"
             ],
             [
              1,
              "#f0f921"
             ]
            ],
            "type": "surface"
           }
          ],
          "table": [
           {
            "cells": {
             "fill": {
              "color": "#EBF0F8"
             },
             "line": {
              "color": "white"
             }
            },
            "header": {
             "fill": {
              "color": "#C8D4E3"
             },
             "line": {
              "color": "white"
             }
            },
            "type": "table"
           }
          ]
         },
         "layout": {
          "annotationdefaults": {
           "arrowcolor": "#2a3f5f",
           "arrowhead": 0,
           "arrowwidth": 1
          },
          "autotypenumbers": "strict",
          "coloraxis": {
           "colorbar": {
            "outlinewidth": 0,
            "ticks": ""
           }
          },
          "colorscale": {
           "diverging": [
            [
             0,
             "#8e0152"
            ],
            [
             0.1,
             "#c51b7d"
            ],
            [
             0.2,
             "#de77ae"
            ],
            [
             0.3,
             "#f1b6da"
            ],
            [
             0.4,
             "#fde0ef"
            ],
            [
             0.5,
             "#f7f7f7"
            ],
            [
             0.6,
             "#e6f5d0"
            ],
            [
             0.7,
             "#b8e186"
            ],
            [
             0.8,
             "#7fbc41"
            ],
            [
             0.9,
             "#4d9221"
            ],
            [
             1,
             "#276419"
            ]
           ],
           "sequential": [
            [
             0,
             "#0d0887"
            ],
            [
             0.1111111111111111,
             "#46039f"
            ],
            [
             0.2222222222222222,
             "#7201a8"
            ],
            [
             0.3333333333333333,
             "#9c179e"
            ],
            [
             0.4444444444444444,
             "#bd3786"
            ],
            [
             0.5555555555555556,
             "#d8576b"
            ],
            [
             0.6666666666666666,
             "#ed7953"
            ],
            [
             0.7777777777777778,
             "#fb9f3a"
            ],
            [
             0.8888888888888888,
             "#fdca26"
            ],
            [
             1,
             "#f0f921"
            ]
           ],
           "sequentialminus": [
            [
             0,
             "#0d0887"
            ],
            [
             0.1111111111111111,
             "#46039f"
            ],
            [
             0.2222222222222222,
             "#7201a8"
            ],
            [
             0.3333333333333333,
             "#9c179e"
            ],
            [
             0.4444444444444444,
             "#bd3786"
            ],
            [
             0.5555555555555556,
             "#d8576b"
            ],
            [
             0.6666666666666666,
             "#ed7953"
            ],
            [
             0.7777777777777778,
             "#fb9f3a"
            ],
            [
             0.8888888888888888,
             "#fdca26"
            ],
            [
             1,
             "#f0f921"
            ]
           ]
          },
          "colorway": [
           "#636efa",
           "#EF553B",
           "#00cc96",
           "#ab63fa",
           "#FFA15A",
           "#19d3f3",
           "#FF6692",
           "#B6E880",
           "#FF97FF",
           "#FECB52"
          ],
          "font": {
           "color": "#2a3f5f"
          },
          "geo": {
           "bgcolor": "white",
           "lakecolor": "white",
           "landcolor": "#E5ECF6",
           "showlakes": true,
           "showland": true,
           "subunitcolor": "white"
          },
          "hoverlabel": {
           "align": "left"
          },
          "hovermode": "closest",
          "mapbox": {
           "style": "light"
          },
          "paper_bgcolor": "white",
          "plot_bgcolor": "#E5ECF6",
          "polar": {
           "angularaxis": {
            "gridcolor": "white",
            "linecolor": "white",
            "ticks": ""
           },
           "bgcolor": "#E5ECF6",
           "radialaxis": {
            "gridcolor": "white",
            "linecolor": "white",
            "ticks": ""
           }
          },
          "scene": {
           "xaxis": {
            "backgroundcolor": "#E5ECF6",
            "gridcolor": "white",
            "gridwidth": 2,
            "linecolor": "white",
            "showbackground": true,
            "ticks": "",
            "zerolinecolor": "white"
           },
           "yaxis": {
            "backgroundcolor": "#E5ECF6",
            "gridcolor": "white",
            "gridwidth": 2,
            "linecolor": "white",
            "showbackground": true,
            "ticks": "",
            "zerolinecolor": "white"
           },
           "zaxis": {
            "backgroundcolor": "#E5ECF6",
            "gridcolor": "white",
            "gridwidth": 2,
            "linecolor": "white",
            "showbackground": true,
            "ticks": "",
            "zerolinecolor": "white"
           }
          },
          "shapedefaults": {
           "line": {
            "color": "#2a3f5f"
           }
          },
          "ternary": {
           "aaxis": {
            "gridcolor": "white",
            "linecolor": "white",
            "ticks": ""
           },
           "baxis": {
            "gridcolor": "white",
            "linecolor": "white",
            "ticks": ""
           },
           "bgcolor": "#E5ECF6",
           "caxis": {
            "gridcolor": "white",
            "linecolor": "white",
            "ticks": ""
           }
          },
          "title": {
           "x": 0.05
          },
          "xaxis": {
           "automargin": true,
           "gridcolor": "white",
           "linecolor": "white",
           "ticks": "",
           "title": {
            "standoff": 15
           },
           "zerolinecolor": "white",
           "zerolinewidth": 2
          },
          "yaxis": {
           "automargin": true,
           "gridcolor": "white",
           "linecolor": "white",
           "ticks": "",
           "title": {
            "standoff": 15
           },
           "zerolinecolor": "white",
           "zerolinewidth": 2
          }
         }
        },
        "title": {
         "text": "Drillhole Blast Positions"
        }
       }
      },
      "text/html": [
       "<div>                            <div id=\"48bb586f-2c06-42a1-b950-661085292edd\" class=\"plotly-graph-div\" style=\"height:525px; width:100%;\"></div>            <script type=\"text/javascript\">                require([\"plotly\"], function(Plotly) {                    window.PLOTLYENV=window.PLOTLYENV || {};                                    if (document.getElementById(\"48bb586f-2c06-42a1-b950-661085292edd\")) {                    Plotly.newPlot(                        \"48bb586f-2c06-42a1-b950-661085292edd\",                        [{\"hovertemplate\":\"Blast Rating=A\\u003cbr\\u003eX Coordinate=%{x}\\u003cbr\\u003eY Coordinate=%{y}\\u003cbr\\u003eZ Coordinate=%{z}\\u003cextra\\u003e\\u003c\\u002fextra\\u003e\",\"legendgroup\":\"A\",\"marker\":{\"color\":\"#636efa\",\"symbol\":\"circle\",\"size\":12},\"mode\":\"markers\",\"name\":\"A\",\"scene\":\"scene\",\"showlegend\":true,\"x\":[429356.65,429370.27,429386.68,429403.1,429419.51,429435.92,429452.34],\"y\":[5266339.42,5266347.11,5266356.48,5266365.85,5266375.22,5266384.59,5266393.96],\"z\":[340.38,341.18,340.69,340.5,340.37,340.8,340.55],\"type\":\"scatter3d\"},{\"hovertemplate\":\"Blast Rating=B\\u003cbr\\u003eX Coordinate=%{x}\\u003cbr\\u003eY Coordinate=%{y}\\u003cbr\\u003eZ Coordinate=%{z}\\u003cextra\\u003e\\u003c\\u002fextra\\u003e\",\"legendgroup\":\"B\",\"marker\":{\"color\":\"#EF553B\",\"symbol\":\"circle\",\"size\":12},\"mode\":\"markers\",\"name\":\"B\",\"scene\":\"scene\",\"showlegend\":true,\"x\":[429360.67,429374.8,429392.15,429408.57,429424.98,429441.4,429457.6],\"y\":[5266341.5,5266349.73,5266359.6,5266368.97,5266378.34,5266387.71,5266396.93],\"z\":[340.36,340.55,340.61,340.49,340.51,340.76,340.53],\"type\":\"scatter3d\"},{\"hovertemplate\":\"Blast Rating=C\\u003cbr\\u003eX Coordinate=%{x}\\u003cbr\\u003eY Coordinate=%{y}\\u003cbr\\u003eZ Coordinate=%{z}\\u003cextra\\u003e\\u003c\\u002fextra\\u003e\",\"legendgroup\":\"C\",\"marker\":{\"color\":\"#00cc96\",\"symbol\":\"circle\",\"size\":12},\"mode\":\"markers\",\"name\":\"C\",\"scene\":\"scene\",\"showlegend\":true,\"x\":[429364.8,429381.21,429397.76,429413.71,429430.45,429446.87],\"y\":[5266343.99,5266353.36,5266362.83,5266371.81,5266381.47,5266390.84],\"z\":[340.56,340.64,340.56,340.44,340.67,340.6],\"type\":\"scatter3d\"}],                        {\"template\":{\"data\":{\"histogram2dcontour\":[{\"type\":\"histogram2dcontour\",\"colorbar\":{\"outlinewidth\":0,\"ticks\":\"\"},\"colorscale\":[[0.0,\"#0d0887\"],[0.1111111111111111,\"#46039f\"],[0.2222222222222222,\"#7201a8\"],[0.3333333333333333,\"#9c179e\"],[0.4444444444444444,\"#bd3786\"],[0.5555555555555556,\"#d8576b\"],[0.6666666666666666,\"#ed7953\"],[0.7777777777777778,\"#fb9f3a\"],[0.8888888888888888,\"#fdca26\"],[1.0,\"#f0f921\"]]}],\"choropleth\":[{\"type\":\"choropleth\",\"colorbar\":{\"outlinewidth\":0,\"ticks\":\"\"}}],\"histogram2d\":[{\"type\":\"histogram2d\",\"colorbar\":{\"outlinewidth\":0,\"ticks\":\"\"},\"colorscale\":[[0.0,\"#0d0887\"],[0.1111111111111111,\"#46039f\"],[0.2222222222222222,\"#7201a8\"],[0.3333333333333333,\"#9c179e\"],[0.4444444444444444,\"#bd3786\"],[0.5555555555555556,\"#d8576b\"],[0.6666666666666666,\"#ed7953\"],[0.7777777777777778,\"#fb9f3a\"],[0.8888888888888888,\"#fdca26\"],[1.0,\"#f0f921\"]]}],\"heatmap\":[{\"type\":\"heatmap\",\"colorbar\":{\"outlinewidth\":0,\"ticks\":\"\"},\"colorscale\":[[0.0,\"#0d0887\"],[0.1111111111111111,\"#46039f\"],[0.2222222222222222,\"#7201a8\"],[0.3333333333333333,\"#9c179e\"],[0.4444444444444444,\"#bd3786\"],[0.5555555555555556,\"#d8576b\"],[0.6666666666666666,\"#ed7953\"],[0.7777777777777778,\"#fb9f3a\"],[0.8888888888888888,\"#fdca26\"],[1.0,\"#f0f921\"]]}],\"heatmapgl\":[{\"type\":\"heatmapgl\",\"colorbar\":{\"outlinewidth\":0,\"ticks\":\"\"},\"colorscale\":[[0.0,\"#0d0887\"],[0.1111111111111111,\"#46039f\"],[0.2222222222222222,\"#7201a8\"],[0.3333333333333333,\"#9c179e\"],[0.4444444444444444,\"#bd3786\"],[0.5555555555555556,\"#d8576b\"],[0.6666666666666666,\"#ed7953\"],[0.7777777777777778,\"#fb9f3a\"],[0.8888888888888888,\"#fdca26\"],[1.0,\"#f0f921\"]]}],\"contourcarpet\":[{\"type\":\"contourcarpet\",\"colorbar\":{\"outlinewidth\":0,\"ticks\":\"\"}}],\"contour\":[{\"type\":\"contour\",\"colorbar\":{\"outlinewidth\":0,\"ticks\":\"\"},\"colorscale\":[[0.0,\"#0d0887\"],[0.1111111111111111,\"#46039f\"],[0.2222222222222222,\"#7201a8\"],[0.3333333333333333,\"#9c179e\"],[0.4444444444444444,\"#bd3786\"],[0.5555555555555556,\"#d8576b\"],[0.6666666666666666,\"#ed7953\"],[0.7777777777777778,\"#fb9f3a\"],[0.8888888888888888,\"#fdca26\"],[1.0,\"#f0f921\"]]}],\"surface\":[{\"type\":\"surface\",\"colorbar\":{\"outlinewidth\":0,\"ticks\":\"\"},\"colorscale\":[[0.0,\"#0d0887\"],[0.1111111111111111,\"#46039f\"],[0.2222222222222222,\"#7201a8\"],[0.3333333333333333,\"#9c179e\"],[0.4444444444444444,\"#bd3786\"],[0.5555555555555556,\"#d8576b\"],[0.6666666666666666,\"#ed7953\"],[0.7777777777777778,\"#fb9f3a\"],[0.8888888888888888,\"#fdca26\"],[1.0,\"#f0f921\"]]}],\"mesh3d\":[{\"type\":\"mesh3d\",\"colorbar\":{\"outlinewidth\":0,\"ticks\":\"\"}}],\"scatter\":[{\"fillpattern\":{\"fillmode\":\"overlay\",\"size\":10,\"solidity\":0.2},\"type\":\"scatter\"}],\"parcoords\":[{\"type\":\"parcoords\",\"line\":{\"colorbar\":{\"outlinewidth\":0,\"ticks\":\"\"}}}],\"scatterpolargl\":[{\"type\":\"scatterpolargl\",\"marker\":{\"colorbar\":{\"outlinewidth\":0,\"ticks\":\"\"}}}],\"bar\":[{\"error_x\":{\"color\":\"#2a3f5f\"},\"error_y\":{\"color\":\"#2a3f5f\"},\"marker\":{\"line\":{\"color\":\"#E5ECF6\",\"width\":0.5},\"pattern\":{\"fillmode\":\"overlay\",\"size\":10,\"solidity\":0.2}},\"type\":\"bar\"}],\"scattergeo\":[{\"type\":\"scattergeo\",\"marker\":{\"colorbar\":{\"outlinewidth\":0,\"ticks\":\"\"}}}],\"scatterpolar\":[{\"type\":\"scatterpolar\",\"marker\":{\"colorbar\":{\"outlinewidth\":0,\"ticks\":\"\"}}}],\"histogram\":[{\"marker\":{\"pattern\":{\"fillmode\":\"overlay\",\"size\":10,\"solidity\":0.2}},\"type\":\"histogram\"}],\"scattergl\":[{\"type\":\"scattergl\",\"marker\":{\"colorbar\":{\"outlinewidth\":0,\"ticks\":\"\"}}}],\"scatter3d\":[{\"type\":\"scatter3d\",\"line\":{\"colorbar\":{\"outlinewidth\":0,\"ticks\":\"\"}},\"marker\":{\"colorbar\":{\"outlinewidth\":0,\"ticks\":\"\"}}}],\"scattermapbox\":[{\"type\":\"scattermapbox\",\"marker\":{\"colorbar\":{\"outlinewidth\":0,\"ticks\":\"\"}}}],\"scatterternary\":[{\"type\":\"scatterternary\",\"marker\":{\"colorbar\":{\"outlinewidth\":0,\"ticks\":\"\"}}}],\"scattercarpet\":[{\"type\":\"scattercarpet\",\"marker\":{\"colorbar\":{\"outlinewidth\":0,\"ticks\":\"\"}}}],\"carpet\":[{\"aaxis\":{\"endlinecolor\":\"#2a3f5f\",\"gridcolor\":\"white\",\"linecolor\":\"white\",\"minorgridcolor\":\"white\",\"startlinecolor\":\"#2a3f5f\"},\"baxis\":{\"endlinecolor\":\"#2a3f5f\",\"gridcolor\":\"white\",\"linecolor\":\"white\",\"minorgridcolor\":\"white\",\"startlinecolor\":\"#2a3f5f\"},\"type\":\"carpet\"}],\"table\":[{\"cells\":{\"fill\":{\"color\":\"#EBF0F8\"},\"line\":{\"color\":\"white\"}},\"header\":{\"fill\":{\"color\":\"#C8D4E3\"},\"line\":{\"color\":\"white\"}},\"type\":\"table\"}],\"barpolar\":[{\"marker\":{\"line\":{\"color\":\"#E5ECF6\",\"width\":0.5},\"pattern\":{\"fillmode\":\"overlay\",\"size\":10,\"solidity\":0.2}},\"type\":\"barpolar\"}],\"pie\":[{\"automargin\":true,\"type\":\"pie\"}]},\"layout\":{\"autotypenumbers\":\"strict\",\"colorway\":[\"#636efa\",\"#EF553B\",\"#00cc96\",\"#ab63fa\",\"#FFA15A\",\"#19d3f3\",\"#FF6692\",\"#B6E880\",\"#FF97FF\",\"#FECB52\"],\"font\":{\"color\":\"#2a3f5f\"},\"hovermode\":\"closest\",\"hoverlabel\":{\"align\":\"left\"},\"paper_bgcolor\":\"white\",\"plot_bgcolor\":\"#E5ECF6\",\"polar\":{\"bgcolor\":\"#E5ECF6\",\"angularaxis\":{\"gridcolor\":\"white\",\"linecolor\":\"white\",\"ticks\":\"\"},\"radialaxis\":{\"gridcolor\":\"white\",\"linecolor\":\"white\",\"ticks\":\"\"}},\"ternary\":{\"bgcolor\":\"#E5ECF6\",\"aaxis\":{\"gridcolor\":\"white\",\"linecolor\":\"white\",\"ticks\":\"\"},\"baxis\":{\"gridcolor\":\"white\",\"linecolor\":\"white\",\"ticks\":\"\"},\"caxis\":{\"gridcolor\":\"white\",\"linecolor\":\"white\",\"ticks\":\"\"}},\"coloraxis\":{\"colorbar\":{\"outlinewidth\":0,\"ticks\":\"\"}},\"colorscale\":{\"sequential\":[[0.0,\"#0d0887\"],[0.1111111111111111,\"#46039f\"],[0.2222222222222222,\"#7201a8\"],[0.3333333333333333,\"#9c179e\"],[0.4444444444444444,\"#bd3786\"],[0.5555555555555556,\"#d8576b\"],[0.6666666666666666,\"#ed7953\"],[0.7777777777777778,\"#fb9f3a\"],[0.8888888888888888,\"#fdca26\"],[1.0,\"#f0f921\"]],\"sequentialminus\":[[0.0,\"#0d0887\"],[0.1111111111111111,\"#46039f\"],[0.2222222222222222,\"#7201a8\"],[0.3333333333333333,\"#9c179e\"],[0.4444444444444444,\"#bd3786\"],[0.5555555555555556,\"#d8576b\"],[0.6666666666666666,\"#ed7953\"],[0.7777777777777778,\"#fb9f3a\"],[0.8888888888888888,\"#fdca26\"],[1.0,\"#f0f921\"]],\"diverging\":[[0,\"#8e0152\"],[0.1,\"#c51b7d\"],[0.2,\"#de77ae\"],[0.3,\"#f1b6da\"],[0.4,\"#fde0ef\"],[0.5,\"#f7f7f7\"],[0.6,\"#e6f5d0\"],[0.7,\"#b8e186\"],[0.8,\"#7fbc41\"],[0.9,\"#4d9221\"],[1,\"#276419\"]]},\"xaxis\":{\"gridcolor\":\"white\",\"linecolor\":\"white\",\"ticks\":\"\",\"title\":{\"standoff\":15},\"zerolinecolor\":\"white\",\"automargin\":true,\"zerolinewidth\":2},\"yaxis\":{\"gridcolor\":\"white\",\"linecolor\":\"white\",\"ticks\":\"\",\"title\":{\"standoff\":15},\"zerolinecolor\":\"white\",\"automargin\":true,\"zerolinewidth\":2},\"scene\":{\"xaxis\":{\"backgroundcolor\":\"#E5ECF6\",\"gridcolor\":\"white\",\"linecolor\":\"white\",\"showbackground\":true,\"ticks\":\"\",\"zerolinecolor\":\"white\",\"gridwidth\":2},\"yaxis\":{\"backgroundcolor\":\"#E5ECF6\",\"gridcolor\":\"white\",\"linecolor\":\"white\",\"showbackground\":true,\"ticks\":\"\",\"zerolinecolor\":\"white\",\"gridwidth\":2},\"zaxis\":{\"backgroundcolor\":\"#E5ECF6\",\"gridcolor\":\"white\",\"linecolor\":\"white\",\"showbackground\":true,\"ticks\":\"\",\"zerolinecolor\":\"white\",\"gridwidth\":2}},\"shapedefaults\":{\"line\":{\"color\":\"#2a3f5f\"}},\"annotationdefaults\":{\"arrowcolor\":\"#2a3f5f\",\"arrowhead\":0,\"arrowwidth\":1},\"geo\":{\"bgcolor\":\"white\",\"landcolor\":\"#E5ECF6\",\"subunitcolor\":\"white\",\"showland\":true,\"showlakes\":true,\"lakecolor\":\"white\"},\"title\":{\"x\":0.05},\"mapbox\":{\"style\":\"light\"}}},\"scene\":{\"domain\":{\"x\":[0.0,1.0],\"y\":[0.0,1.0]},\"xaxis\":{\"title\":{\"text\":\"X Coordinate\"}},\"yaxis\":{\"title\":{\"text\":\"Y Coordinate\"}},\"zaxis\":{\"title\":{\"text\":\"Z Coordinate\"}}},\"legend\":{\"title\":{\"text\":\"Blast Rating\"},\"tracegroupgap\":0},\"title\":{\"text\":\"Drillhole Blast Positions\"}},                        {\"responsive\": true}                    ).then(function(){\n",
       "                            \n",
       "var gd = document.getElementById('48bb586f-2c06-42a1-b950-661085292edd');\n",
       "var x = new MutationObserver(function (mutations, observer) {{\n",
       "        var display = window.getComputedStyle(gd).display;\n",
       "        if (!display || display === 'none') {{\n",
       "            console.log([gd, 'removed!']);\n",
       "            Plotly.purge(gd);\n",
       "            observer.disconnect();\n",
       "        }}\n",
       "}});\n",
       "\n",
       "// Listen for the removal of the full notebook cells\n",
       "var notebookContainer = gd.closest('#notebook-container');\n",
       "if (notebookContainer) {{\n",
       "    x.observe(notebookContainer, {childList: true});\n",
       "}}\n",
       "\n",
       "// Listen for the clearing of the current output cell\n",
       "var outputEl = gd.closest('.output');\n",
       "if (outputEl) {{\n",
       "    x.observe(outputEl, {childList: true});\n",
       "}}\n",
       "\n",
       "                        })                };                });            </script>        </div>"
      ]
     },
     "metadata": {},
     "output_type": "display_data"
    }
   ],
   "source": [
    "import pandas as pd\n",
    "import matplotlib.pyplot as plt\n",
    "import plotly.express as px\n",
    "import numpy as np\n",
    "import tkinter as tk\n",
    "from tkinter import messagebox\n",
    "from sklearn.model_selection import train_test_split\n",
    "from sklearn.preprocessing import LabelEncoder, StandardScaler\n",
    "from sklearn.ensemble import RandomForestClassifier\n",
    "from sklearn.metrics import classification_report, accuracy_score\n",
    "\n",
    "# Function to generate drillhole data for ratings A, B, and C\n",
    "def generate_drillhole_data(rating, n_samples=100):\n",
    "    np.random.seed(42)  # For reproducibility\n",
    "    data = []\n",
    "    for _ in range(n_samples):\n",
    "        if rating == \"A\":\n",
    "            Drillhole_X = np.random.uniform(0, 300)\n",
    "            Drillhole_Y = np.random.uniform(0, 300)\n",
    "            Drillhole_Z = np.random.uniform(0, 100)\n",
    "            Drillhole_ToeX = Drillhole_X + np.random.uniform(-5, 5)  # Small offset for ToeX\n",
    "            Drillhole_ToeY = Drillhole_Y + np.random.uniform(-5, 5)  # Small offset for ToeY\n",
    "            Drillhole_ToeZ = Drillhole_Z + np.random.uniform(-2, 2)  # Small offset for ToeZ\n",
    "            Drillhole_Length = np.random.uniform(50, 100)\n",
    "            Drillhole_Dip = np.random.uniform(0, 30)\n",
    "            Drillhole_Azimuth = np.random.uniform(0, 360)\n",
    "            Avg_Displacement = np.random.uniform(0, 5)\n",
    "            Max_Displacement = np.random.uniform(5, 10)\n",
    "            Centroid_Shift = np.random.uniform(0, 2)\n",
    "            Earliest_Pixel_Disp = np.random.uniform(0, 5)\n",
    "            PPV = np.random.uniform(0, 10)\n",
    "            Overpressure = np.random.uniform(0, 100)\n",
    "            Total_Displacement = Avg_Displacement + Max_Displacement + Centroid_Shift\n",
    "        elif rating == \"B\":\n",
    "            Drillhole_X = np.random.uniform(100, 400)\n",
    "            Drillhole_Y = np.random.uniform(100, 400)\n",
    "            Drillhole_Z = np.random.uniform(0, 200)\n",
    "            Drillhole_ToeX = Drillhole_X + np.random.uniform(-10, 10)\n",
    "            Drillhole_ToeY = Drillhole_Y + np.random.uniform(-10, 10)\n",
    "            Drillhole_ToeZ = Drillhole_Z + np.random.uniform(-5, 5)\n",
    "            Drillhole_Length = np.random.uniform(50, 150)\n",
    "            Drillhole_Dip = np.random.uniform(10, 60)\n",
    "            Drillhole_Azimuth = np.random.uniform(0, 360)\n",
    "            Avg_Displacement = np.random.uniform(0, 7)\n",
    "            Max_Displacement = np.random.uniform(7, 15)\n",
    "            Centroid_Shift = np.random.uniform(0, 5)\n",
    "            Earliest_Pixel_Disp = np.random.uniform(0, 6)\n",
    "            PPV = np.random.uniform(0, 12)\n",
    "            Overpressure = np.random.uniform(0, 150)\n",
    "            Total_Displacement = Avg_Displacement + Max_Displacement + Centroid_Shift\n",
    "        elif rating == \"C\":\n",
    "            Drillhole_X = np.random.uniform(200, 500)\n",
    "            Drillhole_Y = np.random.uniform(200, 500)\n",
    "            Drillhole_Z = np.random.uniform(50, 250)\n",
    "            Drillhole_ToeX = Drillhole_X + np.random.uniform(-20, 20)\n",
    "            Drillhole_ToeY = Drillhole_Y + np.random.uniform(-20, 20)\n",
    "            Drillhole_ToeZ = Drillhole_Z + np.random.uniform(-10, 10)\n",
    "            Drillhole_Length = np.random.uniform(100, 200)\n",
    "            Drillhole_Dip = np.random.uniform(20, 70)\n",
    "            Drillhole_Azimuth = np.random.uniform(0, 360)\n",
    "            Avg_Displacement = np.random.uniform(0, 10)\n",
    "            Max_Displacement = np.random.uniform(10, 20)\n",
    "            Centroid_Shift = np.random.uniform(0, 10)\n",
    "            Earliest_Pixel_Disp = np.random.uniform(0, 7)\n",
    "            PPV = np.random.uniform(0, 15)\n",
    "            Overpressure = np.random.uniform(0, 200)\n",
    "            Total_Displacement = Avg_Displacement + Max_Displacement + Centroid_Shift\n",
    "        data.append([Drillhole_X, Drillhole_Y, Drillhole_Z, Drillhole_ToeX, Drillhole_ToeY, Drillhole_ToeZ,\n",
    "                     Drillhole_Length, Drillhole_Dip, Drillhole_Azimuth, Avg_Displacement, Max_Displacement,\n",
    "                     Centroid_Shift, Earliest_Pixel_Disp, PPV, Overpressure, Total_Displacement, rating])\n",
    "    return data\n",
    "\n",
    "# Load data and train model (simplified for the UI)\n",
    "def train_model():\n",
    "    # Generate data for each rating\n",
    "    data_a = generate_drillhole_data(\"A\", 100)\n",
    "    data_b = generate_drillhole_data(\"B\", 100)\n",
    "    data_c = generate_drillhole_data(\"C\", 100)\n",
    "\n",
    "    # Combine into a single DataFrame\n",
    "    columns = [\"Drillhole_X\", \"Drillhole_Y\", \"Drillhole_Z\", \"Drillhole_ToeX\", \"Drillhole_ToeY\", \"Drillhole_ToeZ\",\n",
    "               \"Drillhole_Length\", \"Drillhole_Dip\", \"Drillhole_Azimuth\", \"Avg_Displacement\", \"Max_Displacement\",\n",
    "               \"Centroid_Shift\", \"Earliest_Pixel_Disp\", \"PPV\", \"Overpressure\", \"Total_Displacement\", \"Rating\"]\n",
    "    data = pd.DataFrame(data_a + data_b + data_c, columns=columns)\n",
    "\n",
    "    # Encode labels (A=0, B=1, C=2)\n",
    "    label_encoder = LabelEncoder()\n",
    "    data[\"Rating\"] = label_encoder.fit_transform(data[\"Rating\"])\n",
    "\n",
    "    # Split data into features (X) and labels (y)\n",
    "    X = data.drop(\"Rating\", axis=1)\n",
    "    y = data[\"Rating\"]\n",
    "\n",
    "    # Normalize features\n",
    "    scaler = StandardScaler()\n",
    "    X_scaled = scaler.fit_transform(X)\n",
    "\n",
    "    # Split into training and testing sets\n",
    "    X_train, X_test, y_train, y_test = train_test_split(X_scaled, y, test_size=0.2, random_state=42)\n",
    "\n",
    "    # Train a Random Forest Classifier\n",
    "    model = RandomForestClassifier(random_state=42)\n",
    "    model.fit(X_train, y_train)\n",
    "\n",
    "    # Predict on the test set\n",
    "    y_pred = model.predict(X_test)\n",
    "\n",
    "    # Evaluate the model\n",
    "    accuracy = accuracy_score(y_test, y_pred)\n",
    "    class_report = classification_report(y_test, y_pred, target_names=label_encoder.classes_)\n",
    "\n",
    "    # Return the necessary data\n",
    "    return accuracy, class_report, model, scaler, label_encoder, X.columns\n",
    "\n",
    "# Function to predict the rating for new data\n",
    "def predict_rating(model, scaler, label_encoder, new_data, feature_columns):\n",
    "    new_data_df = pd.DataFrame(new_data, columns=feature_columns)  # Wrap in DataFrame with column names\n",
    "    new_data_scaled = scaler.transform(new_data_df)  # Scale the data\n",
    "    predicted_rating = label_encoder.inverse_transform(model.predict(new_data_scaled))\n",
    "    return predicted_rating[0]\n",
    "\n",
    "# UI setup\n",
    "def create_ui():\n",
    "    # Create the main window\n",
    "    root = tk.Tk()\n",
    "    root.title(\"Blast Rating Prediction\")\n",
    "    root.geometry(\"600x600\")\n",
    "\n",
    "    # Training the model\n",
    "    accuracy, class_report, model, scaler, label_encoder, feature_columns = train_model()\n",
    "\n",
    "    # Accuracy label\n",
    "    accuracy_label = tk.Label(root, text=f\"Accuracy: {accuracy:.4f}\", font=(\"Arial\", 12))\n",
    "    accuracy_label.pack(pady=10)\n",
    "\n",
    "    # Classification Report label\n",
    "    class_report_label = tk.Label(root, text=\"Classification Report:\", font=(\"Arial\", 12))\n",
    "    class_report_label.pack(pady=10)\n",
    "\n",
    "    # Add the classification report to the window\n",
    "    class_report_text = tk.Text(root, height=10, width=70)\n",
    "    class_report_text.insert(tk.END, class_report)\n",
    "    class_report_text.pack(pady=10)\n",
    "\n",
    "    # Entry fields for new data\n",
    "    new_data_label = tk.Label(root, text=\"Enter new drillhole data (X, Y, Z, ToeX, ToeY, ToeZ, Length, Dip, Azimuth, Avg Displacement, Max Displacement, Centroid Shift, Earliest Pixel Disp, PPV, Overpressure, Total Displacement):\", font=(\"Arial\", 12))\n",
    "    new_data_label.pack(pady=10)\n",
    "\n",
    "    entry_x = tk.Entry(root, width=10)\n",
    "    entry_x.pack(pady=5)\n",
    "    entry_x.insert(0, \"250\")\n",
    "\n",
    "    entry_y = tk.Entry(root, width=10)\n",
    "    entry_y.pack(pady=5)\n",
    "    entry_y.insert(0, \"250\")\n",
    "\n",
    "    entry_z = tk.Entry(root, width=10)\n",
    "    entry_z.pack(pady=5)\n",
    "    entry_z.insert(0, \"150\")\n",
    "\n",
    "    entry_toex = tk.Entry(root, width=10)\n",
    "    entry_toex.pack(pady=5)\n",
    "    entry_toex.insert(0, \"245\")\n",
    "\n",
    "    entry_toey = tk.Entry(root, width=10)\n",
    "    entry_toey.pack(pady=5)\n",
    "    entry_toey.insert(0, \"245\")\n",
    "\n",
    "    entry_toez = tk.Entry(root, width=10)\n",
    "    entry_toez.pack(pady=5)\n",
    "    entry_toez.insert(0, \"148\")\n",
    "\n",
    "    entry_length = tk.Entry(root, width=10)\n",
    "    entry_length.pack(pady=5)\n",
    "    entry_length.insert(0, \"120\")\n",
    "\n",
    "    entry_dip = tk.Entry(root, width=10)\n",
    "    entry_dip.pack(pady=5)\n",
    "    entry_dip.insert(0, \"40\")\n",
    "\n",
    "    entry_azimuth = tk.Entry(root, width=10)\n",
    "    entry_azimuth.pack(pady=5)\n",
    "    entry_azimuth.insert(0, \"180\")\n",
    "\n",
    "    entry_avg_disp = tk.Entry(root, width=10)\n",
    "    entry_avg_disp.pack(pady=5)\n",
    "    entry_avg_disp.insert(0, \"2\")\n",
    "\n",
    "    entry_max_disp = tk.Entry(root, width=10)\n",
    "    entry_max_disp.pack(pady=5)\n",
    "    entry_max_disp.insert(0, \"8\")\n",
    "\n",
    "    entry_centroid_shift = tk.Entry(root, width=10)\n",
    "    entry_centroid_shift.pack(pady=5)\n",
    "    entry_centroid_shift.insert(0, \"1\")\n",
    "\n",
    "    entry_earliest_pixel_disp = tk.Entry(root, width=10)\n",
    "    entry_earliest_pixel_disp.pack(pady=5)\n",
    "    entry_earliest_pixel_disp.insert(0, \"2\")\n",
    "\n",
    "    entry_ppv = tk.Entry(root, width=10)\n",
    "    entry_ppv.pack(pady=5)\n",
    "    entry_ppv.insert(0, \"5\")\n",
    "\n",
    "    entry_overpressure = tk.Entry(root, width=10)\n",
    "    entry_overpressure.pack(pady=5)\n",
    "    entry_overpressure.insert(0, \"50\")\n",
    "\n",
    "    entry_total_disp = tk.Entry(root, width=10)\n",
    "    entry_total_disp.pack(pady=5)\n",
    "    entry_total_disp.insert(0, \"15\")\n",
    "\n",
    "    # Button to predict the rating\n",
    "    def on_predict():\n",
    "        try:\n",
    "            # Collect new data as a list\n",
    "            new_data = np.array([[float(entry_x.get()), float(entry_y.get()), float(entry_z.get()), \n",
    "                                  float(entry_toex.get()), float(entry_toey.get()), float(entry_toez.get()), \n",
    "                                  float(entry_length.get()), float(entry_dip.get()), float(entry_azimuth.get()),\n",
    "                                  float(entry_avg_disp.get()), float(entry_max_disp.get()), float(entry_centroid_shift.get()),\n",
    "                                  float(entry_earliest_pixel_disp.get()), float(entry_ppv.get()), float(entry_overpressure.get()),\n",
    "                                  float(entry_total_disp.get())]])\n",
    "            predicted_rating = predict_rating(model, scaler, label_encoder, new_data, feature_columns)\n",
    "            result_label.config(text=f\"Predicted Rating: {predicted_rating}\")\n",
    "        except Exception as e:\n",
    "            messagebox.showerror(\"Error\", f\"Failed to make prediction: {e}\")\n",
    "\n",
    "    predict_button = tk.Button(root, text=\"Predict Rating\", command=on_predict)\n",
    "    predict_button.pack(pady=10)\n",
    "\n",
    "    # Result label\n",
    "    result_label = tk.Label(root, text=\"Predicted Rating: \", font=(\"Arial\", 14))\n",
    "    result_label.pack(pady=10)\n",
    "\n",
    "    # Start the main loop\n",
    "    root.mainloop()\n",
    "\n",
    "# Run the UI\n",
    "create_ui()\n",
    "\n",
    "\n",
    "model.fit(X_scaled, y)\n",
    "\n",
    "# Create a 3D plot using Plotly\n",
    "fig = px.scatter_3d(df, x='Drillhole_X', y='Drillhole_Y', z='Drillhole_Z', color='Rating', \n",
    "                    labels={'Rating': 'Blast Rating', 'Drillhole_X': 'X Coordinate', 'Drillhole_Y': 'Y Coordinate', 'Drillhole_Z': 'Z Coordinate'},\n",
    "                    title=\"Drillhole Blast Positions\")\n",
    "fig.update_traces(marker=dict(size=12))\n",
    "fig.show()"
   ]
  },
  {
   "cell_type": "code",
   "execution_count": null,
   "id": "80043340-fe46-4fc2-9684-c2a6c293376c",
   "metadata": {},
   "outputs": [],
   "source": []
  }
 ],
 "metadata": {
  "kernelspec": {
   "display_name": "Python 3 (ipykernel)",
   "language": "python",
   "name": "python3"
  },
  "language_info": {
   "codemirror_mode": {
    "name": "ipython",
    "version": 3
   },
   "file_extension": ".py",
   "mimetype": "text/x-python",
   "name": "python",
   "nbconvert_exporter": "python",
   "pygments_lexer": "ipython3",
   "version": "3.12.4"
  }
 },
 "nbformat": 4,
 "nbformat_minor": 5
}
