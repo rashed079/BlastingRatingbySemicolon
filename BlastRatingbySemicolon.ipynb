{
 "cells": [
  {
   "cell_type": "code",
   "execution_count": 3,
   "id": "b1c54ee2-7692-40a7-b433-409411dd7d74",
   "metadata": {},
   "outputs": [
    {
     "name": "stdout",
     "output_type": "stream",
     "text": [
      "Collecting opencv-python-headless\n",
      "  Downloading opencv_python_headless-4.10.0.84-cp37-abi3-win_amd64.whl.metadata (20 kB)\n",
      "Requirement already satisfied: numpy>=1.21.2 in c:\\users\\hp\\anaconda3\\lib\\site-packages (from opencv-python-headless) (1.26.4)\n",
      "Downloading opencv_python_headless-4.10.0.84-cp37-abi3-win_amd64.whl (38.8 MB)\n",
      "   ---------------------------------------- 0.0/38.8 MB ? eta -:--:--\n",
      "   -- ------------------------------------- 2.1/38.8 MB 11.8 MB/s eta 0:00:04\n",
      "   ----- ---------------------------------- 5.8/38.8 MB 15.3 MB/s eta 0:00:03\n",
      "   --------- ------------------------------ 8.9/38.8 MB 14.6 MB/s eta 0:00:03\n",
      "   ------------ --------------------------- 12.3/38.8 MB 14.8 MB/s eta 0:00:02\n",
      "   --------------- ------------------------ 15.5/38.8 MB 15.0 MB/s eta 0:00:02\n",
      "   ------------------- -------------------- 18.9/38.8 MB 14.9 MB/s eta 0:00:02\n",
      "   ---------------------- ----------------- 22.0/38.8 MB 15.0 MB/s eta 0:00:02\n",
      "   ------------------------- -------------- 25.2/38.8 MB 14.9 MB/s eta 0:00:01\n",
      "   ----------------------------- ---------- 28.6/38.8 MB 15.0 MB/s eta 0:00:01\n",
      "   -------------------------------- ------- 31.7/38.8 MB 14.9 MB/s eta 0:00:01\n",
      "   ------------------------------------ --- 35.1/38.8 MB 15.0 MB/s eta 0:00:01\n",
      "   ---------------------------------------  38.3/38.8 MB 14.9 MB/s eta 0:00:01\n",
      "   ---------------------------------------- 38.8/38.8 MB 14.2 MB/s eta 0:00:00\n",
      "Installing collected packages: opencv-python-headless\n",
      "Successfully installed opencv-python-headless-4.10.0.84\n",
      "Note: you may need to restart the kernel to use updated packages.\n"
     ]
    }
   ],
   "source": [
    "pip install opencv-python-headless"
   ]
  },
  {
   "cell_type": "code",
   "execution_count": 192,
   "id": "2391133b-a4b3-4082-aea3-2fc4bf4a9c81",
   "metadata": {},
   "outputs": [],
   "source": [
    "# Blast Assessment Tool #\n",
    "\n",
    "# Import necessary libraries\n",
    "import numpy as np\n",
    "import pandas as pd\n",
    "import glob\n",
    "import cv2\n",
    "import matplotlib.pyplot as plt\n",
    "from sklearn.ensemble import RandomForestClassifier\n",
    "from sklearn.model_selection import train_test_split\n",
    "from sklearn.metrics import classification_report, accuracy_score\n",
    "from sklearn.preprocessing import StandardScaler\n",
    "import tensorflow as tf\n",
    "from tensorflow.keras.models import Sequential\n",
    "from tensorflow.keras.layers import Dense, Dropout"
   ]
  },
  {
   "cell_type": "code",
   "execution_count": 194,
   "id": "facd24a3-2e1f-4139-9840-d3fc734b2542",
   "metadata": {},
   "outputs": [],
   "source": [
    "# Directory containing CSV files\n",
    "data_directory1 = 'D:/Cote Gold/BlastRatingbySemicolon/Data'\n",
    "data_directory2 = 'D:/Cote Gold/BlastRatingbySemicolon/Video'"
   ]
  },
  {
   "cell_type": "code",
   "execution_count": 196,
   "id": "0b32f9a9-318d-442d-9ebd-4a86b532e467",
   "metadata": {},
   "outputs": [
    {
     "name": "stdout",
     "output_type": "stream",
     "text": [
      "File Found\n"
     ]
    }
   ],
   "source": [
    "import os\n",
    "if os.path.exists('D:/Cote Gold/BlastRatingbySemicolon/Data/C1_352_108.csv'):\n",
    "    data = pd.read_csv('D:/Cote Gold/BlastRatingbySemicolon/Data/C1_352_108.csv')\n",
    "    print(\"File Found\")\n",
    "else:\n",
    "    print(\"File not found.\")"
   ]
  },
  {
   "cell_type": "code",
   "execution_count": 210,
   "id": "6163e2fd-c0f6-4fc0-8bc9-e5b1df061e3f",
   "metadata": {},
   "outputs": [],
   "source": [
    "# Use glob to get a list of all CSV files in the directory\n",
    "file_path1 = glob.glob(f\"{data_directory1}/*.csv\")\n",
    "file_path2 = glob.glob(f\"{data_directory2}/*.MP4\")"
   ]
  },
  {
   "cell_type": "code",
   "execution_count": 216,
   "id": "7b3419fd-f214-41f4-9941-280e1fa03f8f",
   "metadata": {},
   "outputs": [],
   "source": [
    "# Initialize an empty list to store DataFrames\n",
    "dataframes = []\n",
    "\n",
    "# Read each file into a DataFrame and append to the list\n",
    "for file_path in file_path1:\n",
    "    df = pd.read_csv(file_path)\n",
    "    if 'specific_column' in df.columns:\n",
    "        dataframes.append(df)\n",
    "\n"
   ]
  },
  {
   "cell_type": "code",
   "execution_count": 218,
   "id": "f67757d0-eb88-409c-bcc1-9c4572259832",
   "metadata": {},
   "outputs": [],
   "source": [
    "# Load and preprocess data\n",
    "def load_data():\n",
    "    \"\"\"\n",
    "    Load engineered blast data, fragmentation data, and timing logs.\n",
    "    For now, placeholder for actual implementation.\n",
    "    \"\"\"\n",
    "    # Placeholder: Replace with actual data loading logic\n",
    "    data = pd.read_csv('D:/Cote Gold/BlastRatingbySemicolon/Data/C1_328_109.csv')  # Example file\n",
    "    return data"
   ]
  },
  {
   "cell_type": "code",
   "execution_count": 220,
   "id": "c733836a-1379-4ae2-b82f-5b06deb1700a",
   "metadata": {},
   "outputs": [],
   "source": [
    "def preprocess_data(data):\n",
    "    \"\"\"\n",
    "    Preprocess input data by scaling numerical features and handling missing values.\n",
    "    \"\"\"\n",
    "    # Handle missing values\n",
    "    data = data.fillna(data.mean())\n",
    "\n",
    "    # Normalize numerical features\n",
    "    scaler = StandardScaler()\n",
    "    numerical_features = data.select_dtypes(include=['float64', 'int64']).columns\n",
    "    data[numerical_features] = scaler.fit_transform(data[numerical_features])\n",
    "\n",
    "    return data"
   ]
  },
  {
   "cell_type": "code",
   "execution_count": 222,
   "id": "13f1f324-1e06-4268-86e6-5e3063cd0657",
   "metadata": {},
   "outputs": [],
   "source": [
    "# Feature engineering and model training\n",
    "def train_model(data):\n",
    "    \"\"\"\n",
    "    Train a machine learning model for blast rating classification.\n",
    "    \"\"\"\n",
    "    # Split data into features and target\n",
    "    X = data.drop('blast_rating', axis=1)  # Features\n",
    "    y = data['blast_rating']  # Target\n",
    "\n",
    "    # Train-test split\n",
    "    X_train, X_test, y_train, y_test = train_test_split(X, y, test_size=0.2, random_state=42)\n",
    "\n",
    "    # Train Random Forest Classifier\n",
    "    model = RandomForestClassifier(n_estimators=100, random_state=42)\n",
    "    model.fit(X_train, y_train)\n",
    "\n",
    "    # Evaluate the model\n",
    "    y_pred = model.predict(X_test)\n",
    "    print(\"Classification Report:\\n\", classification_report(y_test, y_pred))\n",
    "    print(\"Accuracy:\", accuracy_score(y_test, y_pred))\n",
    "\n",
    "    return model"
   ]
  },
  {
   "cell_type": "code",
   "execution_count": 224,
   "id": "886045fb-2485-4329-aaf4-4218f39bfe60",
   "metadata": {},
   "outputs": [],
   "source": [
    "# Computer Vision Analysis\n",
    "def analyze_drone_footage(video_path):\n",
    "    \"\"\"\n",
    "    Process drone footage to analyze fragmentation.\n",
    "    \"\"\"\n",
    "    cap = cv2.VideoCapture('D:/Cote Gold/BlastRatingbySemicolon/Video')\n",
    "\n",
    "    while cap.isOpened():\n",
    "        ret, frame = cap.read()\n",
    "        if not ret:\n",
    "            break\n",
    "\n",
    "        # Convert to grayscale\n",
    "        gray = cv2.cvtColor(frame, cv2.COLOR_BGR2GRAY)\n",
    "\n",
    "        # Apply edge detection\n",
    "        edges = cv2.Canny(gray, 50, 150)\n",
    "\n",
    "        # Display the frame and edges\n",
    "        cv2.imshow('Original Frame', frame)\n",
    "        cv2.imshow('Edges', edges)\n",
    "\n",
    "        # Exit on key press\n",
    "        if cv2.waitKey(1) & 0xFF == ord('q'):\n",
    "            break\n",
    "\n",
    "    cap.release()\n",
    "    cv2.destroyAllWindows()"
   ]
  },
  {
   "cell_type": "code",
   "execution_count": 226,
   "id": "3aed05db-3324-4b6d-a310-cb15c086ccc3",
   "metadata": {},
   "outputs": [],
   "source": [
    "# Generate Scorecard\n",
    "def generate_scorecard(model, data):\n",
    "    \"\"\"\n",
    "    Generate a qualitative scorecard for blast performance.\n",
    "    \"\"\"\n",
    "    predictions = model.predict(data.drop('blast_rating', axis=1))\n",
    "    data['Predicted Rating'] = predictions\n",
    "\n",
    "    # Identify areas for improvement\n",
    "    scorecard = {\n",
    "        \"Confinement Issues\": \"Check burden and spacing design.\",\n",
    "        \"Timing Optimization\": \"Evaluate delay intervals for row interactions.\",\n",
    "        \"Fragmentation Quality\": \"Analyze particle size distribution post-blast.\"\n",
    "    }\n",
    "\n",
    "    return scorecard"
   ]
  },
  {
   "cell_type": "code",
   "execution_count": 228,
   "id": "bb2bf3a0-15fe-417a-b7e4-7f8b5808fa25",
   "metadata": {},
   "outputs": [
    {
     "ename": "TypeError",
     "evalue": "Could not convert ['C1_328_109C1_328_109C1_328_109C1_328_109C1_328_109C1_328_109C1_328_109C1_328_109C1_328_109C1_328_109C1_328_109C1_328_109C1_328_109C1_328_109C1_328_109C1_328_109C1_328_109C1_328_109C1_328_109C1_328_109C1_328_109C1_328_109C1_328_109C1_328_109C1_328_109C1_328_109C1_328_109C1_328_109C1_328_109C1_328_109C1_328_109C1_328_109C1_328_109C1_328_109C1_328_109C1_328_109C1_328_109C1_328_109C1_328_109C1_328_109C1_328_109C1_328_109C1_328_109C1_328_109C1_328_109C1_328_109C1_328_109C1_328_109C1_328_109C1_328_109C1_328_109C1_328_109C1_328_109C1_328_109C1_328_109C1_328_109C1_328_109C1_328_109C1_328_109C1_328_109C1_328_109C1_328_109C1_328_109C1_328_109C1_328_109C1_328_109C1_328_109C1_328_109C1_328_109C1_328_109C1_328_109C1_328_109C1_328_109C1_328_109C1_328_109C1_328_109C1_328_109C1_328_109C1_328_109C1_328_109C1_328_109C1_328_109C1_328_109C1_328_109C1_328_109C1_328_109C1_328_109C1_328_109C1_328_109C1_328_109C1_328_109C1_328_109C1_328_109C1_328_109C1_328_109C1_328_109C1_328_109C1_328_109C1_328_109C1_328_109C1_328_109C1_328_109C1_328_109C1_328_109C1_328_109C1_328_109C1_328_109C1_328_109C1_328_109C1_328_109C1_328_109C1_328_109C1_328_109C1_328_109C1_328_109C1_328_109C1_328_109C1_328_109C1_328_109C1_328_109C1_328_109C1_328_109C1_328_109C1_328_109C1_328_109C1_328_109C1_328_109C1_328_109C1_328_109C1_328_109C1_328_109C1_328_109C1_328_109C1_328_109C1_328_109C1_328_109C1_328_109C1_328_109C1_328_109C1_328_109C1_328_109C1_328_109C1_328_109C1_328_109C1_328_109C1_328_109C1_328_109C1_328_109C1_328_109C1_328_109C1_328_109C1_328_109C1_328_109C1_328_109C1_328_109C1_328_109C1_328_109C1_328_109C1_328_109C1_328_109C1_328_109C1_328_109C1_328_109C1_328_109C1_328_109C1_328_109C1_328_109C1_328_109C1_328_109C1_328_109C1_328_109C1_328_109C1_328_109C1_328_109C1_328_109C1_328_109C1_328_109C1_328_109C1_328_109C1_328_109C1_328_109C1_328_109C1_328_109C1_328_109C1_328_109C1_328_109C1_328_109C1_328_109C1_328_109C1_328_109C1_328_109C1_328_109C1_328_109C1_328_109C1_328_109C1_328_109C1_328_109C1_328_109C1_328_109C1_328_109C1_328_109C1_328_109C1_328_109C1_328_109C1_328_109C1_328_109C1_328_109C1_328_109C1_328_109C1_328_109C1_328_109C1_328_109C1_328_109C1_328_109C1_328_109C1_328_109C1_328_109C1_328_109C1_328_109C1_328_109C1_328_109C1_328_109C1_328_109C1_328_109C1_328_109C1_328_109C1_328_109C1_328_109C1_328_109C1_328_109C1_328_109C1_328_109C1_328_109C1_328_109C1_328_109C1_328_109C1_328_109C1_328_109C1_328_109C1_328_109C1_328_109C1_328_109C1_328_109C1_328_109C1_328_109C1_328_109C1_328_109C1_328_109C1_328_109C1_328_109C1_328_109C1_328_109C1_328_109C1_328_109C1_328_109C1_328_109C1_328_109C1_328_109C1_328_109C1_328_109C1_328_109C1_328_109C1_328_109C1_328_109C1_328_109C1_328_109C1_328_109C1_328_109C1_328_109C1_328_109C1_328_109C1_328_109C1_328_109C1_328_109C1_328_109C1_328_109C1_328_109C1_328_109C1_328_109C1_328_109C1_328_109C1_328_109C1_328_109C1_328_109C1_328_109C1_328_109C1_328_109C1_328_109C1_328_109C1_328_109C1_328_109C1_328_109C1_328_109C1_328_109C1_328_109C1_328_109C1_328_109C1_328_109C1_328_109C1_328_109C1_328_109C1_328_109C1_328_109C1_328_109C1_328_109C1_328_109C1_328_109C1_328_109C1_328_109C1_328_109C1_328_109C1_328_109C1_328_109C1_328_109C1_328_109C1_328_109C1_328_109C1_328_109C1_328_109C1_328_109C1_328_109C1_328_109C1_328_109C1_328_109C1_328_109C1_328_109C1_328_109C1_328_109C1_328_109C1_328_109C1_328_109C1_328_109C1_328_109C1_328_109C1_328_109C1_328_109C1_328_109C1_328_109C1_328_109C1_328_109C1_328_109C1_328_109C1_328_109C1_328_109C1_328_109C1_328_109C1_328_109C1_328_109C1_328_109C1_328_109C1_328_109C1_328_109C1_328_109C1_328_109C1_328_109C1_328_109C1_328_109C1_328_109C1_328_109C1_328_109C1_328_109C1_328_109C1_328_109C1_328_109C1_328_109C1_328_109C1_328_109C1_328_109C1_328_109C1_328_109C1_328_109C1_328_109C1_328_109C1_328_109C1_328_109C1_328_109C1_328_109C1_328_109C1_328_109C1_328_109C1_328_109C1_328_109C1_328_109C1_328_109C1_328_109C1_328_109C1_328_109C1_328_109C1_328_109C1_328_109C1_328_109C1_328_109C1_328_109C1_328_109C1_328_109C1_328_109C1_328_109C1_328_109C1_328_109C1_328_109C1_328_109C1_328_109C1_328_109C1_328_109C1_328_109C1_328_109C1_328_109C1_328_109C1_328_109C1_328_109C1_328_109C1_328_109C1_328_109C1_328_109C1_328_109C1_328_109C1_328_109C1_328_109C1_328_109C1_328_109C1_328_109C1_328_109C1_328_109C1_328_109C1_328_109C1_328_109C1_328_109C1_328_109C1_328_109C1_328_109C1_328_109C1_328_109C1_328_109C1_328_109C1_328_109C1_328_109C1_328_109C1_328_109C1_328_109C1_328_109C1_328_109C1_328_109C1_328_109C1_328_109C1_328_109C1_328_109C1_328_109C1_328_109C1_328_109C1_328_109C1_328_109C1_328_109C1_328_109C1_328_109C1_328_109C1_328_109C1_328_109C1_328_109C1_328_109C1_328_109C1_328_109C1_328_109C1_328_109C1_328_109C1_328_109C1_328_109C1_328_109C1_328_109C1_328_109C1_328_109C1_328_109C1_328_109C1_328_109C1_328_109C1_328_109C1_328_109C1_328_109C1_328_109C1_328_109C1_328_109C1_328_109C1_328_109C1_328_109C1_328_109C1_328_109C1_328_109C1_328_109C1_328_109C1_328_109C1_328_109C1_328_109C1_328_109C1_328_109C1_328_109C1_328_109C1_328_109C1_328_109C1_328_109C1_328_109C1_328_109C1_328_109C1_328_109C1_328_109C1_328_109C1_328_109C1_328_109C1_328_109C1_328_109C1_328_109C1_328_109C1_328_109C1_328_109C1_328_109C1_328_109C1_328_109C1_328_109C1_328_109C1_328_109C1_328_109C1_328_109C1_328_109C1_328_109C1_328_109C1_328_109C1_328_109C1_328_109C1_328_109C1_328_109C1_328_109C1_328_109C1_328_109C1_328_109C1_328_109C1_328_109C1_328_109C1_328_109C1_328_109C1_328_109C1_328_109C1_328_109C1_328_109C1_328_109C1_328_109C1_328_109C1_328_109C1_328_109C1_328_109C1_328_109C1_328_109C1_328_109C1_328_109C1_328_109C1_328_109C1_328_109C1_328_109C1_328_109C1_328_109C1_328_109C1_328_109C1_328_109C1_328_109C1_328_109C1_328_109C1_328_109C1_328_109C1_328_109C1_328_109C1_328_109C1_328_109C1_328_109C1_328_109C1_328_109C1_328_109C1_328_109C1_328_109C1_328_109C1_328_109C1_328_109C1_328_109C1_328_109C1_328_109C1_328_109C1_328_109C1_328_109C1_328_109C1_328_109C1_328_109C1_328_109C1_328_109C1_328_109C1_328_109C1_328_109C1_328_109C1_328_109C1_328_109C1_328_109C1_328_109C1_328_109C1_328_109C1_328_109C1_328_109C1_328_109C1_328_109C1_328_109C1_328_109C1_328_109C1_328_109C1_328_109C1_328_109C1_328_109C1_328_109C1_328_109C1_328_109C1_328_109C1_328_109C1_328_109C1_328_109C1_328_109C1_328_109C1_328_109C1_328_109C1_328_109C1_328_109C1_328_109C1_328_109C1_328_109C1_328_109C1_328_109C1_328_109C1_328_109C1_328_109C1_328_109C1_328_109C1_328_109C1_328_109C1_328_109C1_328_109C1_328_109C1_328_109C1_328_109C1_328_109C1_328_109C1_328_109C1_328_109C1_328_109C1_328_109C1_328_109C1_328_109C1_328_109C1_328_109C1_328_109C1_328_109C1_328_109C1_328_109C1_328_109C1_328_109C1_328_109C1_328_109C1_328_109C1_328_109C1_328_109C1_328_109C1_328_109C1_328_109C1_328_109C1_328_109C1_328_109C1_328_109C1_328_109C1_328_109C1_328_109C1_328_109C1_328_109C1_328_109C1_328_109C1_328_109C1_328_109C1_328_109C1_328_109C1_328_109C1_328_109C1_328_109C1_328_109C1_328_109C1_328_109C1_328_109C1_328_109C1_328_109C1_328_109C1_328_109C1_328_109C1_328_109C1_328_109C1_328_109C1_328_109C1_328_109C1_328_109C1_328_109C1_328_109C1_328_109C1_328_109C1_328_109C1_328_109C1_328_109C1_328_109C1_328_109C1_328_109C1_328_109C1_328_109C1_328_109C1_328_109C1_328_109C1_328_109C1_328_109C1_328_109C1_328_109C1_328_109C1_328_109C1_328_109C1_328_109C1_328_109C1_328_109C1_328_109C1_328_109C1_328_109C1_328_109C1_328_109C1_328_109C1_328_109C1_328_109C1_328_109C1_328_109C1_328_109C1_328_109C1_328_109C1_328_109C1_328_109C1_328_109C1_328_109C1_328_109C1_328_109C1_328_109C1_328_109C1_328_109C1_328_109C1_328_109C1_328_109C1_328_109C1_328_109C1_328_109C1_328_109C1_328_109C1_328_109C1_328_109C1_328_109C1_328_109C1_328_109C1_328_109C1_328_109C1_328_109C1_328_109C1_328_109C1_328_109C1_328_109C1_328_109C1_328_109C1_328_109C1_328_109C1_328_109C1_328_109C1_328_109C1_328_109C1_328_109C1_328_109C1_328_109C1_328_109C1_328_109C1_328_109C1_328_109C1_328_109C1_328_109C1_328_109C1_328_109C1_328_109C1_328_109C1_328_109C1_328_109C1_328_109C1_328_109C1_328_109C1_328_109C1_328_109C1_328_109C1_328_109C1_328_109C1_328_109C1_328_109'\n 'B24B25B26B27B28B29B30B31B32B33B34B35B36B37B38B39B40B41B42B43B44B45B46B47B48B49B50B51B52B53B54B55B56B23705706707708709710711712713714715716717718719720721722723724725726727728729730731732733734735736B22704703702701700699698697696695694693692691690689688687686685684683682681680679678677676675674673B21641642643644645646647648649650651652653654655656657658659660661662663664665666667668669670671672B20640639638637636635634633632631630629628627626625624623622621620619618617616615614613612611610609B19577578579580581582583584585586587588589590591592593594595596597598599600601602603604605606607608B18576575574573572571570569BMM3568567566565564563562561560559558BMM4557556555554553552551550549548547546545B17513514515516517518519520521522523524525526527528529530531532533534535536537538539540541542543544B16512511510509508507506505504503502501500499498497496495494493492491490489488487486485484483482481B15449450451452453454455456457458459460461462463464465466467468469470471472473474475476477478479480B14448447446445444443442441440439438437436435434433432431430429428427426425424423422421420419418417B13385386387388389390391392393394395396397398399400401402403404405406407408409410411412413414415416B12384383382381380379378377376375374373372371370369368367366365364363362361360BMM5359358357356355354353B11321322323324325326327328329330331332333334335336337338339340341342343344345346347348349350351352B10320319318317316315314313312311310309308307306305304303302301300299298297296295294293292291290289B9257258259260261262263264265266267268269270271272273274275276277278279280281282283284285286287288B8256255254253252251250249248247246245244243242241240239238237236235234233232231230229228227226225B7193194195196197BMM1198199200201202203204205206207208209210211212BMM2213214215216217218219220221222223224B6192191190189188187186185184183182181180179178177176175174173172171170169168167166165164163162161B5129130131132133134135136137138139140141142143144145146147148149150151152153154155156157158159160B4128127126125124123122121120119118117116115114113112111110109108107106105104103102101100999897B36566676869707172737475767778798081828384858687888990919293949596B26463626160595857565554535251504948474645444342414039383736353433B11234567891011121314151617181920212223242526272829303132'] to numeric",
     "output_type": "error",
     "traceback": [
      "\u001b[1;31m---------------------------------------------------------------------------\u001b[0m",
      "\u001b[1;31mTypeError\u001b[0m                                 Traceback (most recent call last)",
      "Cell \u001b[1;32mIn[228], line 18\u001b[0m\n\u001b[0;32m     15\u001b[0m     \u001b[38;5;28mprint\u001b[39m(\u001b[38;5;124m\"\u001b[39m\u001b[38;5;124mScorecard:\u001b[39m\u001b[38;5;124m\"\u001b[39m, scorecard)\n\u001b[0;32m     17\u001b[0m \u001b[38;5;28;01mif\u001b[39;00m \u001b[38;5;18m__name__\u001b[39m \u001b[38;5;241m==\u001b[39m \u001b[38;5;124m\"\u001b[39m\u001b[38;5;124m__main__\u001b[39m\u001b[38;5;124m\"\u001b[39m:\n\u001b[1;32m---> 18\u001b[0m     \u001b[43mmain\u001b[49m\u001b[43m(\u001b[49m\u001b[43m)\u001b[49m\n",
      "Cell \u001b[1;32mIn[228], line 5\u001b[0m, in \u001b[0;36mmain\u001b[1;34m()\u001b[0m\n\u001b[0;32m      2\u001b[0m \u001b[38;5;28;01mdef\u001b[39;00m \u001b[38;5;21mmain\u001b[39m():\n\u001b[0;32m      3\u001b[0m     \u001b[38;5;66;03m# Load and preprocess data\u001b[39;00m\n\u001b[0;32m      4\u001b[0m     data \u001b[38;5;241m=\u001b[39m load_data()\n\u001b[1;32m----> 5\u001b[0m     data \u001b[38;5;241m=\u001b[39m \u001b[43mpreprocess_data\u001b[49m\u001b[43m(\u001b[49m\u001b[43mdata\u001b[49m\u001b[43m)\u001b[49m\n\u001b[0;32m      7\u001b[0m     \u001b[38;5;66;03m# Train the model\u001b[39;00m\n\u001b[0;32m      8\u001b[0m     model \u001b[38;5;241m=\u001b[39m train_model(data)\n",
      "Cell \u001b[1;32mIn[220], line 6\u001b[0m, in \u001b[0;36mpreprocess_data\u001b[1;34m(data)\u001b[0m\n\u001b[0;32m      2\u001b[0m \u001b[38;5;250m\u001b[39m\u001b[38;5;124;03m\"\"\"\u001b[39;00m\n\u001b[0;32m      3\u001b[0m \u001b[38;5;124;03mPreprocess input data by scaling numerical features and handling missing values.\u001b[39;00m\n\u001b[0;32m      4\u001b[0m \u001b[38;5;124;03m\"\"\"\u001b[39;00m\n\u001b[0;32m      5\u001b[0m \u001b[38;5;66;03m# Handle missing values\u001b[39;00m\n\u001b[1;32m----> 6\u001b[0m data \u001b[38;5;241m=\u001b[39m data\u001b[38;5;241m.\u001b[39mfillna(\u001b[43mdata\u001b[49m\u001b[38;5;241;43m.\u001b[39;49m\u001b[43mmean\u001b[49m\u001b[43m(\u001b[49m\u001b[43m)\u001b[49m)\n\u001b[0;32m      8\u001b[0m \u001b[38;5;66;03m# Normalize numerical features\u001b[39;00m\n\u001b[0;32m      9\u001b[0m scaler \u001b[38;5;241m=\u001b[39m StandardScaler()\n",
      "File \u001b[1;32m~\\anaconda3\\Lib\\site-packages\\pandas\\core\\frame.py:11693\u001b[0m, in \u001b[0;36mDataFrame.mean\u001b[1;34m(self, axis, skipna, numeric_only, **kwargs)\u001b[0m\n\u001b[0;32m  11685\u001b[0m \u001b[38;5;129m@doc\u001b[39m(make_doc(\u001b[38;5;124m\"\u001b[39m\u001b[38;5;124mmean\u001b[39m\u001b[38;5;124m\"\u001b[39m, ndim\u001b[38;5;241m=\u001b[39m\u001b[38;5;241m2\u001b[39m))\n\u001b[0;32m  11686\u001b[0m \u001b[38;5;28;01mdef\u001b[39;00m \u001b[38;5;21mmean\u001b[39m(\n\u001b[0;32m  11687\u001b[0m     \u001b[38;5;28mself\u001b[39m,\n\u001b[1;32m   (...)\u001b[0m\n\u001b[0;32m  11691\u001b[0m     \u001b[38;5;241m*\u001b[39m\u001b[38;5;241m*\u001b[39mkwargs,\n\u001b[0;32m  11692\u001b[0m ):\n\u001b[1;32m> 11693\u001b[0m     result \u001b[38;5;241m=\u001b[39m \u001b[38;5;28;43msuper\u001b[39;49m\u001b[43m(\u001b[49m\u001b[43m)\u001b[49m\u001b[38;5;241;43m.\u001b[39;49m\u001b[43mmean\u001b[49m\u001b[43m(\u001b[49m\u001b[43maxis\u001b[49m\u001b[43m,\u001b[49m\u001b[43m \u001b[49m\u001b[43mskipna\u001b[49m\u001b[43m,\u001b[49m\u001b[43m \u001b[49m\u001b[43mnumeric_only\u001b[49m\u001b[43m,\u001b[49m\u001b[43m \u001b[49m\u001b[38;5;241;43m*\u001b[39;49m\u001b[38;5;241;43m*\u001b[39;49m\u001b[43mkwargs\u001b[49m\u001b[43m)\u001b[49m\n\u001b[0;32m  11694\u001b[0m     \u001b[38;5;28;01mif\u001b[39;00m \u001b[38;5;28misinstance\u001b[39m(result, Series):\n\u001b[0;32m  11695\u001b[0m         result \u001b[38;5;241m=\u001b[39m result\u001b[38;5;241m.\u001b[39m__finalize__(\u001b[38;5;28mself\u001b[39m, method\u001b[38;5;241m=\u001b[39m\u001b[38;5;124m\"\u001b[39m\u001b[38;5;124mmean\u001b[39m\u001b[38;5;124m\"\u001b[39m)\n",
      "File \u001b[1;32m~\\anaconda3\\Lib\\site-packages\\pandas\\core\\generic.py:12420\u001b[0m, in \u001b[0;36mNDFrame.mean\u001b[1;34m(self, axis, skipna, numeric_only, **kwargs)\u001b[0m\n\u001b[0;32m  12413\u001b[0m \u001b[38;5;28;01mdef\u001b[39;00m \u001b[38;5;21mmean\u001b[39m(\n\u001b[0;32m  12414\u001b[0m     \u001b[38;5;28mself\u001b[39m,\n\u001b[0;32m  12415\u001b[0m     axis: Axis \u001b[38;5;241m|\u001b[39m \u001b[38;5;28;01mNone\u001b[39;00m \u001b[38;5;241m=\u001b[39m \u001b[38;5;241m0\u001b[39m,\n\u001b[1;32m   (...)\u001b[0m\n\u001b[0;32m  12418\u001b[0m     \u001b[38;5;241m*\u001b[39m\u001b[38;5;241m*\u001b[39mkwargs,\n\u001b[0;32m  12419\u001b[0m ) \u001b[38;5;241m-\u001b[39m\u001b[38;5;241m>\u001b[39m Series \u001b[38;5;241m|\u001b[39m \u001b[38;5;28mfloat\u001b[39m:\n\u001b[1;32m> 12420\u001b[0m     \u001b[38;5;28;01mreturn\u001b[39;00m \u001b[38;5;28;43mself\u001b[39;49m\u001b[38;5;241;43m.\u001b[39;49m\u001b[43m_stat_function\u001b[49m\u001b[43m(\u001b[49m\n\u001b[0;32m  12421\u001b[0m \u001b[43m        \u001b[49m\u001b[38;5;124;43m\"\u001b[39;49m\u001b[38;5;124;43mmean\u001b[39;49m\u001b[38;5;124;43m\"\u001b[39;49m\u001b[43m,\u001b[49m\u001b[43m \u001b[49m\u001b[43mnanops\u001b[49m\u001b[38;5;241;43m.\u001b[39;49m\u001b[43mnanmean\u001b[49m\u001b[43m,\u001b[49m\u001b[43m \u001b[49m\u001b[43maxis\u001b[49m\u001b[43m,\u001b[49m\u001b[43m \u001b[49m\u001b[43mskipna\u001b[49m\u001b[43m,\u001b[49m\u001b[43m \u001b[49m\u001b[43mnumeric_only\u001b[49m\u001b[43m,\u001b[49m\u001b[43m \u001b[49m\u001b[38;5;241;43m*\u001b[39;49m\u001b[38;5;241;43m*\u001b[39;49m\u001b[43mkwargs\u001b[49m\n\u001b[0;32m  12422\u001b[0m \u001b[43m    \u001b[49m\u001b[43m)\u001b[49m\n",
      "File \u001b[1;32m~\\anaconda3\\Lib\\site-packages\\pandas\\core\\generic.py:12377\u001b[0m, in \u001b[0;36mNDFrame._stat_function\u001b[1;34m(self, name, func, axis, skipna, numeric_only, **kwargs)\u001b[0m\n\u001b[0;32m  12373\u001b[0m nv\u001b[38;5;241m.\u001b[39mvalidate_func(name, (), kwargs)\n\u001b[0;32m  12375\u001b[0m validate_bool_kwarg(skipna, \u001b[38;5;124m\"\u001b[39m\u001b[38;5;124mskipna\u001b[39m\u001b[38;5;124m\"\u001b[39m, none_allowed\u001b[38;5;241m=\u001b[39m\u001b[38;5;28;01mFalse\u001b[39;00m)\n\u001b[1;32m> 12377\u001b[0m \u001b[38;5;28;01mreturn\u001b[39;00m \u001b[38;5;28;43mself\u001b[39;49m\u001b[38;5;241;43m.\u001b[39;49m\u001b[43m_reduce\u001b[49m\u001b[43m(\u001b[49m\n\u001b[0;32m  12378\u001b[0m \u001b[43m    \u001b[49m\u001b[43mfunc\u001b[49m\u001b[43m,\u001b[49m\u001b[43m \u001b[49m\u001b[43mname\u001b[49m\u001b[38;5;241;43m=\u001b[39;49m\u001b[43mname\u001b[49m\u001b[43m,\u001b[49m\u001b[43m \u001b[49m\u001b[43maxis\u001b[49m\u001b[38;5;241;43m=\u001b[39;49m\u001b[43maxis\u001b[49m\u001b[43m,\u001b[49m\u001b[43m \u001b[49m\u001b[43mskipna\u001b[49m\u001b[38;5;241;43m=\u001b[39;49m\u001b[43mskipna\u001b[49m\u001b[43m,\u001b[49m\u001b[43m \u001b[49m\u001b[43mnumeric_only\u001b[49m\u001b[38;5;241;43m=\u001b[39;49m\u001b[43mnumeric_only\u001b[49m\n\u001b[0;32m  12379\u001b[0m \u001b[43m\u001b[49m\u001b[43m)\u001b[49m\n",
      "File \u001b[1;32m~\\anaconda3\\Lib\\site-packages\\pandas\\core\\frame.py:11562\u001b[0m, in \u001b[0;36mDataFrame._reduce\u001b[1;34m(self, op, name, axis, skipna, numeric_only, filter_type, **kwds)\u001b[0m\n\u001b[0;32m  11558\u001b[0m     df \u001b[38;5;241m=\u001b[39m df\u001b[38;5;241m.\u001b[39mT\n\u001b[0;32m  11560\u001b[0m \u001b[38;5;66;03m# After possibly _get_data and transposing, we are now in the\u001b[39;00m\n\u001b[0;32m  11561\u001b[0m \u001b[38;5;66;03m#  simple case where we can use BlockManager.reduce\u001b[39;00m\n\u001b[1;32m> 11562\u001b[0m res \u001b[38;5;241m=\u001b[39m \u001b[43mdf\u001b[49m\u001b[38;5;241;43m.\u001b[39;49m\u001b[43m_mgr\u001b[49m\u001b[38;5;241;43m.\u001b[39;49m\u001b[43mreduce\u001b[49m\u001b[43m(\u001b[49m\u001b[43mblk_func\u001b[49m\u001b[43m)\u001b[49m\n\u001b[0;32m  11563\u001b[0m out \u001b[38;5;241m=\u001b[39m df\u001b[38;5;241m.\u001b[39m_constructor_from_mgr(res, axes\u001b[38;5;241m=\u001b[39mres\u001b[38;5;241m.\u001b[39maxes)\u001b[38;5;241m.\u001b[39miloc[\u001b[38;5;241m0\u001b[39m]\n\u001b[0;32m  11564\u001b[0m \u001b[38;5;28;01mif\u001b[39;00m out_dtype \u001b[38;5;129;01mis\u001b[39;00m \u001b[38;5;129;01mnot\u001b[39;00m \u001b[38;5;28;01mNone\u001b[39;00m \u001b[38;5;129;01mand\u001b[39;00m out\u001b[38;5;241m.\u001b[39mdtype \u001b[38;5;241m!=\u001b[39m \u001b[38;5;124m\"\u001b[39m\u001b[38;5;124mboolean\u001b[39m\u001b[38;5;124m\"\u001b[39m:\n",
      "File \u001b[1;32m~\\anaconda3\\Lib\\site-packages\\pandas\\core\\internals\\managers.py:1500\u001b[0m, in \u001b[0;36mBlockManager.reduce\u001b[1;34m(self, func)\u001b[0m\n\u001b[0;32m   1498\u001b[0m res_blocks: \u001b[38;5;28mlist\u001b[39m[Block] \u001b[38;5;241m=\u001b[39m []\n\u001b[0;32m   1499\u001b[0m \u001b[38;5;28;01mfor\u001b[39;00m blk \u001b[38;5;129;01min\u001b[39;00m \u001b[38;5;28mself\u001b[39m\u001b[38;5;241m.\u001b[39mblocks:\n\u001b[1;32m-> 1500\u001b[0m     nbs \u001b[38;5;241m=\u001b[39m \u001b[43mblk\u001b[49m\u001b[38;5;241;43m.\u001b[39;49m\u001b[43mreduce\u001b[49m\u001b[43m(\u001b[49m\u001b[43mfunc\u001b[49m\u001b[43m)\u001b[49m\n\u001b[0;32m   1501\u001b[0m     res_blocks\u001b[38;5;241m.\u001b[39mextend(nbs)\n\u001b[0;32m   1503\u001b[0m index \u001b[38;5;241m=\u001b[39m Index([\u001b[38;5;28;01mNone\u001b[39;00m])  \u001b[38;5;66;03m# placeholder\u001b[39;00m\n",
      "File \u001b[1;32m~\\anaconda3\\Lib\\site-packages\\pandas\\core\\internals\\blocks.py:404\u001b[0m, in \u001b[0;36mBlock.reduce\u001b[1;34m(self, func)\u001b[0m\n\u001b[0;32m    398\u001b[0m \u001b[38;5;129m@final\u001b[39m\n\u001b[0;32m    399\u001b[0m \u001b[38;5;28;01mdef\u001b[39;00m \u001b[38;5;21mreduce\u001b[39m(\u001b[38;5;28mself\u001b[39m, func) \u001b[38;5;241m-\u001b[39m\u001b[38;5;241m>\u001b[39m \u001b[38;5;28mlist\u001b[39m[Block]:\n\u001b[0;32m    400\u001b[0m     \u001b[38;5;66;03m# We will apply the function and reshape the result into a single-row\u001b[39;00m\n\u001b[0;32m    401\u001b[0m     \u001b[38;5;66;03m#  Block with the same mgr_locs; squeezing will be done at a higher level\u001b[39;00m\n\u001b[0;32m    402\u001b[0m     \u001b[38;5;28;01massert\u001b[39;00m \u001b[38;5;28mself\u001b[39m\u001b[38;5;241m.\u001b[39mndim \u001b[38;5;241m==\u001b[39m \u001b[38;5;241m2\u001b[39m\n\u001b[1;32m--> 404\u001b[0m     result \u001b[38;5;241m=\u001b[39m \u001b[43mfunc\u001b[49m\u001b[43m(\u001b[49m\u001b[38;5;28;43mself\u001b[39;49m\u001b[38;5;241;43m.\u001b[39;49m\u001b[43mvalues\u001b[49m\u001b[43m)\u001b[49m\n\u001b[0;32m    406\u001b[0m     \u001b[38;5;28;01mif\u001b[39;00m \u001b[38;5;28mself\u001b[39m\u001b[38;5;241m.\u001b[39mvalues\u001b[38;5;241m.\u001b[39mndim \u001b[38;5;241m==\u001b[39m \u001b[38;5;241m1\u001b[39m:\n\u001b[0;32m    407\u001b[0m         res_values \u001b[38;5;241m=\u001b[39m result\n",
      "File \u001b[1;32m~\\anaconda3\\Lib\\site-packages\\pandas\\core\\frame.py:11481\u001b[0m, in \u001b[0;36mDataFrame._reduce.<locals>.blk_func\u001b[1;34m(values, axis)\u001b[0m\n\u001b[0;32m  11479\u001b[0m         \u001b[38;5;28;01mreturn\u001b[39;00m np\u001b[38;5;241m.\u001b[39marray([result])\n\u001b[0;32m  11480\u001b[0m \u001b[38;5;28;01melse\u001b[39;00m:\n\u001b[1;32m> 11481\u001b[0m     \u001b[38;5;28;01mreturn\u001b[39;00m \u001b[43mop\u001b[49m\u001b[43m(\u001b[49m\u001b[43mvalues\u001b[49m\u001b[43m,\u001b[49m\u001b[43m \u001b[49m\u001b[43maxis\u001b[49m\u001b[38;5;241;43m=\u001b[39;49m\u001b[43maxis\u001b[49m\u001b[43m,\u001b[49m\u001b[43m \u001b[49m\u001b[43mskipna\u001b[49m\u001b[38;5;241;43m=\u001b[39;49m\u001b[43mskipna\u001b[49m\u001b[43m,\u001b[49m\u001b[43m \u001b[49m\u001b[38;5;241;43m*\u001b[39;49m\u001b[38;5;241;43m*\u001b[39;49m\u001b[43mkwds\u001b[49m\u001b[43m)\u001b[49m\n",
      "File \u001b[1;32m~\\anaconda3\\Lib\\site-packages\\pandas\\core\\nanops.py:147\u001b[0m, in \u001b[0;36mbottleneck_switch.__call__.<locals>.f\u001b[1;34m(values, axis, skipna, **kwds)\u001b[0m\n\u001b[0;32m    145\u001b[0m         result \u001b[38;5;241m=\u001b[39m alt(values, axis\u001b[38;5;241m=\u001b[39maxis, skipna\u001b[38;5;241m=\u001b[39mskipna, \u001b[38;5;241m*\u001b[39m\u001b[38;5;241m*\u001b[39mkwds)\n\u001b[0;32m    146\u001b[0m \u001b[38;5;28;01melse\u001b[39;00m:\n\u001b[1;32m--> 147\u001b[0m     result \u001b[38;5;241m=\u001b[39m \u001b[43malt\u001b[49m\u001b[43m(\u001b[49m\u001b[43mvalues\u001b[49m\u001b[43m,\u001b[49m\u001b[43m \u001b[49m\u001b[43maxis\u001b[49m\u001b[38;5;241;43m=\u001b[39;49m\u001b[43maxis\u001b[49m\u001b[43m,\u001b[49m\u001b[43m \u001b[49m\u001b[43mskipna\u001b[49m\u001b[38;5;241;43m=\u001b[39;49m\u001b[43mskipna\u001b[49m\u001b[43m,\u001b[49m\u001b[43m \u001b[49m\u001b[38;5;241;43m*\u001b[39;49m\u001b[38;5;241;43m*\u001b[39;49m\u001b[43mkwds\u001b[49m\u001b[43m)\u001b[49m\n\u001b[0;32m    149\u001b[0m \u001b[38;5;28;01mreturn\u001b[39;00m result\n",
      "File \u001b[1;32m~\\anaconda3\\Lib\\site-packages\\pandas\\core\\nanops.py:404\u001b[0m, in \u001b[0;36m_datetimelike_compat.<locals>.new_func\u001b[1;34m(values, axis, skipna, mask, **kwargs)\u001b[0m\n\u001b[0;32m    401\u001b[0m \u001b[38;5;28;01mif\u001b[39;00m datetimelike \u001b[38;5;129;01mand\u001b[39;00m mask \u001b[38;5;129;01mis\u001b[39;00m \u001b[38;5;28;01mNone\u001b[39;00m:\n\u001b[0;32m    402\u001b[0m     mask \u001b[38;5;241m=\u001b[39m isna(values)\n\u001b[1;32m--> 404\u001b[0m result \u001b[38;5;241m=\u001b[39m \u001b[43mfunc\u001b[49m\u001b[43m(\u001b[49m\u001b[43mvalues\u001b[49m\u001b[43m,\u001b[49m\u001b[43m \u001b[49m\u001b[43maxis\u001b[49m\u001b[38;5;241;43m=\u001b[39;49m\u001b[43maxis\u001b[49m\u001b[43m,\u001b[49m\u001b[43m \u001b[49m\u001b[43mskipna\u001b[49m\u001b[38;5;241;43m=\u001b[39;49m\u001b[43mskipna\u001b[49m\u001b[43m,\u001b[49m\u001b[43m \u001b[49m\u001b[43mmask\u001b[49m\u001b[38;5;241;43m=\u001b[39;49m\u001b[43mmask\u001b[49m\u001b[43m,\u001b[49m\u001b[43m \u001b[49m\u001b[38;5;241;43m*\u001b[39;49m\u001b[38;5;241;43m*\u001b[39;49m\u001b[43mkwargs\u001b[49m\u001b[43m)\u001b[49m\n\u001b[0;32m    406\u001b[0m \u001b[38;5;28;01mif\u001b[39;00m datetimelike:\n\u001b[0;32m    407\u001b[0m     result \u001b[38;5;241m=\u001b[39m _wrap_results(result, orig_values\u001b[38;5;241m.\u001b[39mdtype, fill_value\u001b[38;5;241m=\u001b[39miNaT)\n",
      "File \u001b[1;32m~\\anaconda3\\Lib\\site-packages\\pandas\\core\\nanops.py:720\u001b[0m, in \u001b[0;36mnanmean\u001b[1;34m(values, axis, skipna, mask)\u001b[0m\n\u001b[0;32m    718\u001b[0m count \u001b[38;5;241m=\u001b[39m _get_counts(values\u001b[38;5;241m.\u001b[39mshape, mask, axis, dtype\u001b[38;5;241m=\u001b[39mdtype_count)\n\u001b[0;32m    719\u001b[0m the_sum \u001b[38;5;241m=\u001b[39m values\u001b[38;5;241m.\u001b[39msum(axis, dtype\u001b[38;5;241m=\u001b[39mdtype_sum)\n\u001b[1;32m--> 720\u001b[0m the_sum \u001b[38;5;241m=\u001b[39m \u001b[43m_ensure_numeric\u001b[49m\u001b[43m(\u001b[49m\u001b[43mthe_sum\u001b[49m\u001b[43m)\u001b[49m\n\u001b[0;32m    722\u001b[0m \u001b[38;5;28;01mif\u001b[39;00m axis \u001b[38;5;129;01mis\u001b[39;00m \u001b[38;5;129;01mnot\u001b[39;00m \u001b[38;5;28;01mNone\u001b[39;00m \u001b[38;5;129;01mand\u001b[39;00m \u001b[38;5;28mgetattr\u001b[39m(the_sum, \u001b[38;5;124m\"\u001b[39m\u001b[38;5;124mndim\u001b[39m\u001b[38;5;124m\"\u001b[39m, \u001b[38;5;28;01mFalse\u001b[39;00m):\n\u001b[0;32m    723\u001b[0m     count \u001b[38;5;241m=\u001b[39m cast(np\u001b[38;5;241m.\u001b[39mndarray, count)\n",
      "File \u001b[1;32m~\\anaconda3\\Lib\\site-packages\\pandas\\core\\nanops.py:1686\u001b[0m, in \u001b[0;36m_ensure_numeric\u001b[1;34m(x)\u001b[0m\n\u001b[0;32m   1683\u001b[0m inferred \u001b[38;5;241m=\u001b[39m lib\u001b[38;5;241m.\u001b[39minfer_dtype(x)\n\u001b[0;32m   1684\u001b[0m \u001b[38;5;28;01mif\u001b[39;00m inferred \u001b[38;5;129;01min\u001b[39;00m [\u001b[38;5;124m\"\u001b[39m\u001b[38;5;124mstring\u001b[39m\u001b[38;5;124m\"\u001b[39m, \u001b[38;5;124m\"\u001b[39m\u001b[38;5;124mmixed\u001b[39m\u001b[38;5;124m\"\u001b[39m]:\n\u001b[0;32m   1685\u001b[0m     \u001b[38;5;66;03m# GH#44008, GH#36703 avoid casting e.g. strings to numeric\u001b[39;00m\n\u001b[1;32m-> 1686\u001b[0m     \u001b[38;5;28;01mraise\u001b[39;00m \u001b[38;5;167;01mTypeError\u001b[39;00m(\u001b[38;5;124mf\u001b[39m\u001b[38;5;124m\"\u001b[39m\u001b[38;5;124mCould not convert \u001b[39m\u001b[38;5;132;01m{\u001b[39;00mx\u001b[38;5;132;01m}\u001b[39;00m\u001b[38;5;124m to numeric\u001b[39m\u001b[38;5;124m\"\u001b[39m)\n\u001b[0;32m   1687\u001b[0m \u001b[38;5;28;01mtry\u001b[39;00m:\n\u001b[0;32m   1688\u001b[0m     x \u001b[38;5;241m=\u001b[39m x\u001b[38;5;241m.\u001b[39mastype(np\u001b[38;5;241m.\u001b[39mcomplex128)\n",
      "\u001b[1;31mTypeError\u001b[0m: Could not convert ['C1_328_109C1_328_109C1_328_109C1_328_109C1_328_109C1_328_109C1_328_109C1_328_109C1_328_109C1_328_109C1_328_109C1_328_109C1_328_109C1_328_109C1_328_109C1_328_109C1_328_109C1_328_109C1_328_109C1_328_109C1_328_109C1_328_109C1_328_109C1_328_109C1_328_109C1_328_109C1_328_109C1_328_109C1_328_109C1_328_109C1_328_109C1_328_109C1_328_109C1_328_109C1_328_109C1_328_109C1_328_109C1_328_109C1_328_109C1_328_109C1_328_109C1_328_109C1_328_109C1_328_109C1_328_109C1_328_109C1_328_109C1_328_109C1_328_109C1_328_109C1_328_109C1_328_109C1_328_109C1_328_109C1_328_109C1_328_109C1_328_109C1_328_109C1_328_109C1_328_109C1_328_109C1_328_109C1_328_109C1_328_109C1_328_109C1_328_109C1_328_109C1_328_109C1_328_109C1_328_109C1_328_109C1_328_109C1_328_109C1_328_109C1_328_109C1_328_109C1_328_109C1_328_109C1_328_109C1_328_109C1_328_109C1_328_109C1_328_109C1_328_109C1_328_109C1_328_109C1_328_109C1_328_109C1_328_109C1_328_109C1_328_109C1_328_109C1_328_109C1_328_109C1_328_109C1_328_109C1_328_109C1_328_109C1_328_109C1_328_109C1_328_109C1_328_109C1_328_109C1_328_109C1_328_109C1_328_109C1_328_109C1_328_109C1_328_109C1_328_109C1_328_109C1_328_109C1_328_109C1_328_109C1_328_109C1_328_109C1_328_109C1_328_109C1_328_109C1_328_109C1_328_109C1_328_109C1_328_109C1_328_109C1_328_109C1_328_109C1_328_109C1_328_109C1_328_109C1_328_109C1_328_109C1_328_109C1_328_109C1_328_109C1_328_109C1_328_109C1_328_109C1_328_109C1_328_109C1_328_109C1_328_109C1_328_109C1_328_109C1_328_109C1_328_109C1_328_109C1_328_109C1_328_109C1_328_109C1_328_109C1_328_109C1_328_109C1_328_109C1_328_109C1_328_109C1_328_109C1_328_109C1_328_109C1_328_109C1_328_109C1_328_109C1_328_109C1_328_109C1_328_109C1_328_109C1_328_109C1_328_109C1_328_109C1_328_109C1_328_109C1_328_109C1_328_109C1_328_109C1_328_109C1_328_109C1_328_109C1_328_109C1_328_109C1_328_109C1_328_109C1_328_109C1_328_109C1_328_109C1_328_109C1_328_109C1_328_109C1_328_109C1_328_109C1_328_109C1_328_109C1_328_109C1_328_109C1_328_109C1_328_109C1_328_109C1_328_109C1_328_109C1_328_109C1_328_109C1_328_109C1_328_109C1_328_109C1_328_109C1_328_109C1_328_109C1_328_109C1_328_109C1_328_109C1_328_109C1_328_109C1_328_109C1_328_109C1_328_109C1_328_109C1_328_109C1_328_109C1_328_109C1_328_109C1_328_109C1_328_109C1_328_109C1_328_109C1_328_109C1_328_109C1_328_109C1_328_109C1_328_109C1_328_109C1_328_109C1_328_109C1_328_109C1_328_109C1_328_109C1_328_109C1_328_109C1_328_109C1_328_109C1_328_109C1_328_109C1_328_109C1_328_109C1_328_109C1_328_109C1_328_109C1_328_109C1_328_109C1_328_109C1_328_109C1_328_109C1_328_109C1_328_109C1_328_109C1_328_109C1_328_109C1_328_109C1_328_109C1_328_109C1_328_109C1_328_109C1_328_109C1_328_109C1_328_109C1_328_109C1_328_109C1_328_109C1_328_109C1_328_109C1_328_109C1_328_109C1_328_109C1_328_109C1_328_109C1_328_109C1_328_109C1_328_109C1_328_109C1_328_109C1_328_109C1_328_109C1_328_109C1_328_109C1_328_109C1_328_109C1_328_109C1_328_109C1_328_109C1_328_109C1_328_109C1_328_109C1_328_109C1_328_109C1_328_109C1_328_109C1_328_109C1_328_109C1_328_109C1_328_109C1_328_109C1_328_109C1_328_109C1_328_109C1_328_109C1_328_109C1_328_109C1_328_109C1_328_109C1_328_109C1_328_109C1_328_109C1_328_109C1_328_109C1_328_109C1_328_109C1_328_109C1_328_109C1_328_109C1_328_109C1_328_109C1_328_109C1_328_109C1_328_109C1_328_109C1_328_109C1_328_109C1_328_109C1_328_109C1_328_109C1_328_109C1_328_109C1_328_109C1_328_109C1_328_109C1_328_109C1_328_109C1_328_109C1_328_109C1_328_109C1_328_109C1_328_109C1_328_109C1_328_109C1_328_109C1_328_109C1_328_109C1_328_109C1_328_109C1_328_109C1_328_109C1_328_109C1_328_109C1_328_109C1_328_109C1_328_109C1_328_109C1_328_109C1_328_109C1_328_109C1_328_109C1_328_109C1_328_109C1_328_109C1_328_109C1_328_109C1_328_109C1_328_109C1_328_109C1_328_109C1_328_109C1_328_109C1_328_109C1_328_109C1_328_109C1_328_109C1_328_109C1_328_109C1_328_109C1_328_109C1_328_109C1_328_109C1_328_109C1_328_109C1_328_109C1_328_109C1_328_109C1_328_109C1_328_109C1_328_109C1_328_109C1_328_109C1_328_109C1_328_109C1_328_109C1_328_109C1_328_109C1_328_109C1_328_109C1_328_109C1_328_109C1_328_109C1_328_109C1_328_109C1_328_109C1_328_109C1_328_109C1_328_109C1_328_109C1_328_109C1_328_109C1_328_109C1_328_109C1_328_109C1_328_109C1_328_109C1_328_109C1_328_109C1_328_109C1_328_109C1_328_109C1_328_109C1_328_109C1_328_109C1_328_109C1_328_109C1_328_109C1_328_109C1_328_109C1_328_109C1_328_109C1_328_109C1_328_109C1_328_109C1_328_109C1_328_109C1_328_109C1_328_109C1_328_109C1_328_109C1_328_109C1_328_109C1_328_109C1_328_109C1_328_109C1_328_109C1_328_109C1_328_109C1_328_109C1_328_109C1_328_109C1_328_109C1_328_109C1_328_109C1_328_109C1_328_109C1_328_109C1_328_109C1_328_109C1_328_109C1_328_109C1_328_109C1_328_109C1_328_109C1_328_109C1_328_109C1_328_109C1_328_109C1_328_109C1_328_109C1_328_109C1_328_109C1_328_109C1_328_109C1_328_109C1_328_109C1_328_109C1_328_109C1_328_109C1_328_109C1_328_109C1_328_109C1_328_109C1_328_109C1_328_109C1_328_109C1_328_109C1_328_109C1_328_109C1_328_109C1_328_109C1_328_109C1_328_109C1_328_109C1_328_109C1_328_109C1_328_109C1_328_109C1_328_109C1_328_109C1_328_109C1_328_109C1_328_109C1_328_109C1_328_109C1_328_109C1_328_109C1_328_109C1_328_109C1_328_109C1_328_109C1_328_109C1_328_109C1_328_109C1_328_109C1_328_109C1_328_109C1_328_109C1_328_109C1_328_109C1_328_109C1_328_109C1_328_109C1_328_109C1_328_109C1_328_109C1_328_109C1_328_109C1_328_109C1_328_109C1_328_109C1_328_109C1_328_109C1_328_109C1_328_109C1_328_109C1_328_109C1_328_109C1_328_109C1_328_109C1_328_109C1_328_109C1_328_109C1_328_109C1_328_109C1_328_109C1_328_109C1_328_109C1_328_109C1_328_109C1_328_109C1_328_109C1_328_109C1_328_109C1_328_109C1_328_109C1_328_109C1_328_109C1_328_109C1_328_109C1_328_109C1_328_109C1_328_109C1_328_109C1_328_109C1_328_109C1_328_109C1_328_109C1_328_109C1_328_109C1_328_109C1_328_109C1_328_109C1_328_109C1_328_109C1_328_109C1_328_109C1_328_109C1_328_109C1_328_109C1_328_109C1_328_109C1_328_109C1_328_109C1_328_109C1_328_109C1_328_109C1_328_109C1_328_109C1_328_109C1_328_109C1_328_109C1_328_109C1_328_109C1_328_109C1_328_109C1_328_109C1_328_109C1_328_109C1_328_109C1_328_109C1_328_109C1_328_109C1_328_109C1_328_109C1_328_109C1_328_109C1_328_109C1_328_109C1_328_109C1_328_109C1_328_109C1_328_109C1_328_109C1_328_109C1_328_109C1_328_109C1_328_109C1_328_109C1_328_109C1_328_109C1_328_109C1_328_109C1_328_109C1_328_109C1_328_109C1_328_109C1_328_109C1_328_109C1_328_109C1_328_109C1_328_109C1_328_109C1_328_109C1_328_109C1_328_109C1_328_109C1_328_109C1_328_109C1_328_109C1_328_109C1_328_109C1_328_109C1_328_109C1_328_109C1_328_109C1_328_109C1_328_109C1_328_109C1_328_109C1_328_109C1_328_109C1_328_109C1_328_109C1_328_109C1_328_109C1_328_109C1_328_109C1_328_109C1_328_109C1_328_109C1_328_109C1_328_109C1_328_109C1_328_109C1_328_109C1_328_109C1_328_109C1_328_109C1_328_109C1_328_109C1_328_109C1_328_109C1_328_109C1_328_109C1_328_109C1_328_109C1_328_109C1_328_109C1_328_109C1_328_109C1_328_109C1_328_109C1_328_109C1_328_109C1_328_109C1_328_109C1_328_109C1_328_109C1_328_109C1_328_109C1_328_109C1_328_109C1_328_109C1_328_109C1_328_109C1_328_109C1_328_109C1_328_109C1_328_109C1_328_109C1_328_109C1_328_109C1_328_109C1_328_109C1_328_109C1_328_109C1_328_109C1_328_109C1_328_109C1_328_109C1_328_109C1_328_109C1_328_109C1_328_109C1_328_109C1_328_109C1_328_109C1_328_109C1_328_109C1_328_109C1_328_109C1_328_109C1_328_109C1_328_109C1_328_109C1_328_109C1_328_109C1_328_109C1_328_109C1_328_109C1_328_109C1_328_109C1_328_109C1_328_109C1_328_109C1_328_109C1_328_109C1_328_109C1_328_109C1_328_109C1_328_109C1_328_109C1_328_109C1_328_109C1_328_109C1_328_109C1_328_109C1_328_109C1_328_109C1_328_109C1_328_109C1_328_109C1_328_109C1_328_109C1_328_109C1_328_109C1_328_109C1_328_109C1_328_109C1_328_109C1_328_109C1_328_109C1_328_109C1_328_109C1_328_109C1_328_109C1_328_109C1_328_109C1_328_109C1_328_109C1_328_109C1_328_109C1_328_109C1_328_109C1_328_109C1_328_109C1_328_109C1_328_109C1_328_109C1_328_109C1_328_109C1_328_109C1_328_109C1_328_109C1_328_109C1_328_109C1_328_109C1_328_109C1_328_109C1_328_109C1_328_109C1_328_109C1_328_109C1_328_109C1_328_109C1_328_109C1_328_109C1_328_109C1_328_109'\n 'B24B25B26B27B28B29B30B31B32B33B34B35B36B37B38B39B40B41B42B43B44B45B46B47B48B49B50B51B52B53B54B55B56B23705706707708709710711712713714715716717718719720721722723724725726727728729730731732733734735736B22704703702701700699698697696695694693692691690689688687686685684683682681680679678677676675674673B21641642643644645646647648649650651652653654655656657658659660661662663664665666667668669670671672B20640639638637636635634633632631630629628627626625624623622621620619618617616615614613612611610609B19577578579580581582583584585586587588589590591592593594595596597598599600601602603604605606607608B18576575574573572571570569BMM3568567566565564563562561560559558BMM4557556555554553552551550549548547546545B17513514515516517518519520521522523524525526527528529530531532533534535536537538539540541542543544B16512511510509508507506505504503502501500499498497496495494493492491490489488487486485484483482481B15449450451452453454455456457458459460461462463464465466467468469470471472473474475476477478479480B14448447446445444443442441440439438437436435434433432431430429428427426425424423422421420419418417B13385386387388389390391392393394395396397398399400401402403404405406407408409410411412413414415416B12384383382381380379378377376375374373372371370369368367366365364363362361360BMM5359358357356355354353B11321322323324325326327328329330331332333334335336337338339340341342343344345346347348349350351352B10320319318317316315314313312311310309308307306305304303302301300299298297296295294293292291290289B9257258259260261262263264265266267268269270271272273274275276277278279280281282283284285286287288B8256255254253252251250249248247246245244243242241240239238237236235234233232231230229228227226225B7193194195196197BMM1198199200201202203204205206207208209210211212BMM2213214215216217218219220221222223224B6192191190189188187186185184183182181180179178177176175174173172171170169168167166165164163162161B5129130131132133134135136137138139140141142143144145146147148149150151152153154155156157158159160B4128127126125124123122121120119118117116115114113112111110109108107106105104103102101100999897B36566676869707172737475767778798081828384858687888990919293949596B26463626160595857565554535251504948474645444342414039383736353433B11234567891011121314151617181920212223242526272829303132'] to numeric"
     ]
    }
   ],
   "source": [
    "# Main Workflow\n",
    "def main():\n",
    "    # Load and preprocess data\n",
    "    data = load_data()\n",
    "    data = preprocess_data(data)\n",
    "\n",
    "    # Train the model\n",
    "    model = train_model(data)\n",
    "\n",
    "    # Analyze drone footage (placeholder video path)\n",
    "    analyze_drone_footage('D:/Cote Gold/BlastRatingbySemicolon/Video')\n",
    "\n",
    "    # Generate and display the scorecard\n",
    "    scorecard = generate_scorecard(model, data)\n",
    "    print(\"Scorecard:\", scorecard)\n",
    "\n",
    "if __name__ == \"__main__\":\n",
    "    main()"
   ]
  },
  {
   "cell_type": "code",
   "execution_count": null,
   "id": "065c122b-c805-47e8-8505-45484c931d01",
   "metadata": {},
   "outputs": [],
   "source": []
  }
 ],
 "metadata": {
  "kernelspec": {
   "display_name": "Python 3 (ipykernel)",
   "language": "python",
   "name": "python3"
  },
  "language_info": {
   "codemirror_mode": {
    "name": "ipython",
    "version": 3
   },
   "file_extension": ".py",
   "mimetype": "text/x-python",
   "name": "python",
   "nbconvert_exporter": "python",
   "pygments_lexer": "ipython3",
   "version": "3.12.4"
  }
 },
 "nbformat": 4,
 "nbformat_minor": 5
}
